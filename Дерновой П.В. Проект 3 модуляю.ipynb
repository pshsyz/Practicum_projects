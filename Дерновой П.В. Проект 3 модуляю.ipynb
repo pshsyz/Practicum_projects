{
 "cells": [
  {
   "cell_type": "markdown",
   "id": "_E41Wr5fqnFT",
   "metadata": {
    "id": "_E41Wr5fqnFT"
   },
   "source": [
    "# Часть 1. Проверка гипотезы в Python и составление аналитической записки"
   ]
  },
  {
   "cell_type": "markdown",
   "id": "Z5_6nf-FrY7o",
   "metadata": {
    "id": "Z5_6nf-FrY7o"
   },
   "source": [
    "Вы предобработали данные в SQL, и теперь они готовы для проверки гипотезы в Python. Загрузите данные пользователей из Москвы и Санкт-Петербурга c суммой часов их активности из файла yandex_knigi_data.csv. Если работаете локально, скачать файл можно по ссылке.\n",
    "\n",
    "Проверьте наличие дубликатов в идентификаторах пользователей. Сравните размеры групп, их статистики и распределение.\n",
    "\n",
    "Напомним, как выглядит гипотеза: пользователи из Санкт-Петербурга проводят в среднем больше времени за чтением и прослушиванием книг в приложении, чем пользователи из Москвы. Попробуйте статистически это доказать, используя одностороннюю проверку гипотезы с двумя выборками:\n",
    "\n",
    "Нулевая гипотеза $H_0: \\mu_{\\text{СПб}} \\leq \\mu_{\\text{Москва}}$ <br> Среднее время активности пользователей в Санкт-Петербурге не больше, чем в Москве.\n",
    "\n",
    "Альтернативная гипотеза $H_1: \\mu_{\\text{СПб}} > \\mu_{\\text{Москва}}$ <br> Среднее время активности пользователей в Санкт-Петербурге больше, и это различие статистически значимо.\n",
    "\n",
    "По результатам анализа данных подготовьте аналитическую записку, в которой опишите:\n",
    "\n",
    "Выбранный тип t-теста и уровень статистической значимости.\n",
    "\n",
    "Результат теста, или p-value.\n",
    "\n",
    "Вывод на основе полученного p-value, то есть интерпретацию результатов.\n",
    "\n",
    "Одну или две возможные причины, объясняющие полученные результаты.\n",
    "\n",
    "---"
   ]
  },
  {
   "cell_type": "markdown",
   "id": "e06910dd",
   "metadata": {
    "id": "e06910dd"
   },
   "source": [
    "### Сравнение времени активности пользователей в Москве и Санкт-Петербурге\n",
    "\n",
    "- Автор: Дерновой П.В.\n",
    "- Дата: 11.07.2025"
   ]
  },
  {
   "cell_type": "markdown",
   "id": "4149134c",
   "metadata": {
    "id": "4149134c",
    "jp-MarkdownHeadingCollapsed": true
   },
   "source": [
    "### Цели и задачи проекта\n",
    "\n",
    "Оценить время активности пользователей в Москве и Санкт-Петербурге"
   ]
  },
  {
   "cell_type": "markdown",
   "id": "728986ea",
   "metadata": {
    "id": "728986ea"
   },
   "source": [
    "### Описание данных\n",
    "\n",
    "В проекте рассматриваем данные о чтении и прослушивании контента в сервисе Яндекс Книги в городах `Москва` и `Санкт-Петербург`.\n",
    "\n",
    "Описание таблицы:\n",
    "- `city` - Город\n",
    "- `puid` - идентификатор пользователя\n",
    "- `hours` - суммарное время активности пользователя (час)"
   ]
  },
  {
   "cell_type": "markdown",
   "id": "4fecaf95",
   "metadata": {
    "id": "4fecaf95"
   },
   "source": [
    "### Содержимое проекта\n",
    "1. **Загрузка данных**\n",
    "    - Загружаем данные для анализа\n",
    "    - проверка данных на пропуски и дубликаты.\n",
    "    - разделение датасета на группы сравнения\n",
    "    - Статистические показатели групп сравнения\n",
    "3. **Проека гипотезы**\n",
    "    - Формирование гипотезы\n",
    "    - Проверка гипотезы\n",
    "5. **Аналитическая записка**\n",
    "    - Выводы\n",
    "---"
   ]
  },
  {
   "cell_type": "markdown",
   "id": "6f7d21d6",
   "metadata": {
    "id": "6f7d21d6"
   },
   "source": [
    "## Загрузка данных и знакомство с ними\n",
    "\n",
    "Загрузите данные пользователей из Москвы и Санкт-Петербурга c их активностью (суммой часов чтения и прослушивания) из файла `/datasets/yandex_knigi_data.csv`."
   ]
  },
  {
   "cell_type": "code",
   "execution_count": 1,
   "id": "05faf34b",
   "metadata": {
    "id": "05faf34b"
   },
   "outputs": [],
   "source": [
    "# Импортируем необходимые модули\n",
    "import pandas as pd\n",
    "from matplotlib import pyplot as plt\n",
    "import seaborn as sns\n",
    "from math import ceil\n",
    "# Модули для проведения тестов\n",
    "import scipy.stats as st\n",
    "from statsmodels.stats.proportion import proportions_ztest"
   ]
  },
  {
   "cell_type": "markdown",
   "id": "942fdeac-635f-4a88-a9ea-64a46139f917",
   "metadata": {},
   "source": [
    "### Загрузка данных и знакомство с ними"
   ]
  },
  {
   "cell_type": "code",
   "execution_count": 2,
   "id": "8ce045e2-4624-478e-803a-4dffeaeae714",
   "metadata": {},
   "outputs": [],
   "source": [
    "# Задаем расположение данных в сети\n",
    "PATH_1 = 'https://code.s3.yandex.net/datasets/'\n",
    "# Загружаем данные\n",
    "df_orig  = pd.read_csv (PATH_1 + 'yandex_knigi_data.csv' ) "
   ]
  },
  {
   "cell_type": "code",
   "execution_count": 3,
   "id": "ce87c1db",
   "metadata": {
    "id": "ce87c1db"
   },
   "outputs": [
    {
     "data": {
      "text/html": [
       "<div>\n",
       "<style scoped>\n",
       "    .dataframe tbody tr th:only-of-type {\n",
       "        vertical-align: middle;\n",
       "    }\n",
       "\n",
       "    .dataframe tbody tr th {\n",
       "        vertical-align: top;\n",
       "    }\n",
       "\n",
       "    .dataframe thead th {\n",
       "        text-align: right;\n",
       "    }\n",
       "</style>\n",
       "<table border=\"1\" class=\"dataframe\">\n",
       "  <thead>\n",
       "    <tr style=\"text-align: right;\">\n",
       "      <th></th>\n",
       "      <th>Unnamed: 0</th>\n",
       "      <th>city</th>\n",
       "      <th>puid</th>\n",
       "      <th>hours</th>\n",
       "    </tr>\n",
       "  </thead>\n",
       "  <tbody>\n",
       "    <tr>\n",
       "      <th>0</th>\n",
       "      <td>0</td>\n",
       "      <td>Москва</td>\n",
       "      <td>9668</td>\n",
       "      <td>26.167776</td>\n",
       "    </tr>\n",
       "    <tr>\n",
       "      <th>1</th>\n",
       "      <td>1</td>\n",
       "      <td>Москва</td>\n",
       "      <td>16598</td>\n",
       "      <td>82.111217</td>\n",
       "    </tr>\n",
       "    <tr>\n",
       "      <th>2</th>\n",
       "      <td>2</td>\n",
       "      <td>Москва</td>\n",
       "      <td>80401</td>\n",
       "      <td>4.656906</td>\n",
       "    </tr>\n",
       "    <tr>\n",
       "      <th>3</th>\n",
       "      <td>3</td>\n",
       "      <td>Москва</td>\n",
       "      <td>140205</td>\n",
       "      <td>1.840556</td>\n",
       "    </tr>\n",
       "    <tr>\n",
       "      <th>4</th>\n",
       "      <td>4</td>\n",
       "      <td>Москва</td>\n",
       "      <td>248755</td>\n",
       "      <td>151.326434</td>\n",
       "    </tr>\n",
       "  </tbody>\n",
       "</table>\n",
       "</div>"
      ],
      "text/plain": [
       "   Unnamed: 0    city    puid       hours\n",
       "0           0  Москва    9668   26.167776\n",
       "1           1  Москва   16598   82.111217\n",
       "2           2  Москва   80401    4.656906\n",
       "3           3  Москва  140205    1.840556\n",
       "4           4  Москва  248755  151.326434"
      ]
     },
     "metadata": {},
     "output_type": "display_data"
    },
    {
     "name": "stdout",
     "output_type": "stream",
     "text": [
      "<class 'pandas.core.frame.DataFrame'>\n",
      "RangeIndex: 8784 entries, 0 to 8783\n",
      "Data columns (total 4 columns):\n",
      " #   Column      Non-Null Count  Dtype  \n",
      "---  ------      --------------  -----  \n",
      " 0   Unnamed: 0  8784 non-null   int64  \n",
      " 1   city        8784 non-null   object \n",
      " 2   puid        8784 non-null   int64  \n",
      " 3   hours       8784 non-null   float64\n",
      "dtypes: float64(1), int64(2), object(1)\n",
      "memory usage: 274.6+ KB\n"
     ]
    },
    {
     "data": {
      "text/plain": [
       "None"
      ]
     },
     "metadata": {},
     "output_type": "display_data"
    }
   ],
   "source": [
    "#Посмотрим первые строки датасета\n",
    "display(df_orig.head(5))\n",
    "#Посмотрим информацию по датасету\n",
    "display(df_orig.info())"
   ]
  },
  {
   "cell_type": "markdown",
   "id": "66d434fa-fd58-4534-9011-e3cc5c791781",
   "metadata": {},
   "source": [
    "**Датасет содержит информаци по активности в городах Москва и Санкт-Петербург для 8784 пользователей**"
   ]
  },
  {
   "cell_type": "markdown",
   "id": "7deffb13-94d6-423e-b696-938a5c6c1496",
   "metadata": {},
   "source": [
    "### Коррекцция данных"
   ]
  },
  {
   "cell_type": "markdown",
   "id": "62cecace-6fa9-4a28-a321-c21abc76b7c5",
   "metadata": {},
   "source": [
    "Видим что пропусков в данных нет.\n",
    "Но присутствует столбец который дублирует индекс строк"
   ]
  },
  {
   "cell_type": "code",
   "execution_count": 4,
   "id": "aa43b99b-db2b-4fdd-90bf-59e907768edb",
   "metadata": {},
   "outputs": [
    {
     "data": {
      "text/html": [
       "<div>\n",
       "<style scoped>\n",
       "    .dataframe tbody tr th:only-of-type {\n",
       "        vertical-align: middle;\n",
       "    }\n",
       "\n",
       "    .dataframe tbody tr th {\n",
       "        vertical-align: top;\n",
       "    }\n",
       "\n",
       "    .dataframe thead th {\n",
       "        text-align: right;\n",
       "    }\n",
       "</style>\n",
       "<table border=\"1\" class=\"dataframe\">\n",
       "  <thead>\n",
       "    <tr style=\"text-align: right;\">\n",
       "      <th></th>\n",
       "      <th>city</th>\n",
       "      <th>puid</th>\n",
       "      <th>hours</th>\n",
       "    </tr>\n",
       "  </thead>\n",
       "  <tbody>\n",
       "    <tr>\n",
       "      <th>0</th>\n",
       "      <td>Москва</td>\n",
       "      <td>9668</td>\n",
       "      <td>26.167776</td>\n",
       "    </tr>\n",
       "    <tr>\n",
       "      <th>1</th>\n",
       "      <td>Москва</td>\n",
       "      <td>16598</td>\n",
       "      <td>82.111217</td>\n",
       "    </tr>\n",
       "    <tr>\n",
       "      <th>2</th>\n",
       "      <td>Москва</td>\n",
       "      <td>80401</td>\n",
       "      <td>4.656906</td>\n",
       "    </tr>\n",
       "    <tr>\n",
       "      <th>3</th>\n",
       "      <td>Москва</td>\n",
       "      <td>140205</td>\n",
       "      <td>1.840556</td>\n",
       "    </tr>\n",
       "    <tr>\n",
       "      <th>4</th>\n",
       "      <td>Москва</td>\n",
       "      <td>248755</td>\n",
       "      <td>151.326434</td>\n",
       "    </tr>\n",
       "  </tbody>\n",
       "</table>\n",
       "</div>"
      ],
      "text/plain": [
       "     city    puid       hours\n",
       "0  Москва    9668   26.167776\n",
       "1  Москва   16598   82.111217\n",
       "2  Москва   80401    4.656906\n",
       "3  Москва  140205    1.840556\n",
       "4  Москва  248755  151.326434"
      ]
     },
     "metadata": {},
     "output_type": "display_data"
    }
   ],
   "source": [
    "#Удалим лишний столбец который дублирует индекс строк\n",
    "df_main = df_orig.drop(columns='Unnamed: 0')\n",
    "# Выводим первые строки датафрейма на экран\n",
    "display(df_main.head(5))"
   ]
  },
  {
   "cell_type": "code",
   "execution_count": 5,
   "id": "edbb432d-8a90-4a4c-8969-59707ceeb5c6",
   "metadata": {},
   "outputs": [
    {
     "name": "stdout",
     "output_type": "stream",
     "text": [
      "Кол-во явных дубликатов: 0\n",
      "Кол-во дубликатов в столбцах puid и city: 0\n",
      "Кол-во дубликатов в столбце puid: 244\n"
     ]
    }
   ],
   "source": [
    "print(f'Кол-во явных дубликатов: {df_main.duplicated().sum()}')\n",
    "print(f'Кол-во дубликатов в столбцах puid и city: {df_main.duplicated(subset=['puid', 'city']).sum()}')\n",
    "print(f'Кол-во дубликатов в столбце puid: {df_main.duplicated(subset=['puid']).sum()}')"
   ]
  },
  {
   "cell_type": "markdown",
   "id": "e0e49259-de4d-4106-80d2-045070dab3b4",
   "metadata": {},
   "source": [
    "Делаем вывод что 244 пользователя наблюдаются в Санкт-Петербурге и Москве.\n",
    "\n",
    "После разделения датасета на два (`Москва`, `Санкт-Петербург`) это будет являтся пересечением, поэтому удалим данные этих пользователей."
   ]
  },
  {
   "cell_type": "code",
   "execution_count": 6,
   "id": "f68a7419",
   "metadata": {
    "id": "f68a7419"
   },
   "outputs": [],
   "source": [
    "df_main = df_main.drop_duplicates(subset=['puid', 'city'])"
   ]
  },
  {
   "cell_type": "markdown",
   "id": "31842735-edd8-4d92-bcda-2718b40e85e0",
   "metadata": {},
   "source": [
    "### Группы сравнения"
   ]
  },
  {
   "cell_type": "markdown",
   "id": "4a374e69-e04a-4304-88d5-e30ee861eeb7",
   "metadata": {},
   "source": [
    "#### Разделение датасета"
   ]
  },
  {
   "cell_type": "code",
   "execution_count": 7,
   "id": "092ae0d3-816a-4f6d-9687-92e359691069",
   "metadata": {},
   "outputs": [],
   "source": [
    "#Разделим датасет на два по Названию города\n",
    "df_msk = df_main[df_main['city']=='Москва']\n",
    "df_spb = df_main[df_main['city']=='Санкт-Петербург']"
   ]
  },
  {
   "cell_type": "markdown",
   "id": "648f95ab-c165-41c4-8e8c-b6f89a6f8055",
   "metadata": {},
   "source": [
    "#### Анализ групп сравнения"
   ]
  },
  {
   "cell_type": "code",
   "execution_count": 8,
   "id": "65aef3e3-ca1d-4353-8808-7bf16a18977e",
   "metadata": {},
   "outputs": [
    {
     "name": "stdout",
     "output_type": "stream",
     "text": [
      "               puid        hours\n",
      "count  6.234000e+03  6234.000000\n",
      "mean   1.123926e+13    10.881092\n",
      "std    1.121386e+14    36.851683\n",
      "min    9.668000e+03     0.000018\n",
      "25%    3.139885e+08     0.059903\n",
      "50%    8.730945e+08     0.924498\n",
      "75%    1.510930e+09     5.939972\n",
      "max    1.130000e+15   857.209373\n",
      "               puid        hours\n",
      "count  2.550000e+03  2550.000000\n",
      "mean   7.977401e+12    11.592691\n",
      "std    9.462180e+13    39.704993\n",
      "min    1.049230e+05     0.000025\n",
      "25%    3.442209e+08     0.080002\n",
      "50%    9.133665e+08     0.984781\n",
      "75%    1.530662e+09     6.509072\n",
      "max    1.130000e+15   978.764775\n"
     ]
    }
   ],
   "source": [
    "# статистические данные по обоим датасетам\n",
    "print(df_msk.describe())\n",
    "print(df_spb.describe())"
   ]
  },
  {
   "cell_type": "markdown",
   "id": "1f5dc342-304e-4c93-9774-26f59d81a098",
   "metadata": {},
   "source": [
    "Промежуточные выводы:\n",
    "1. Кол-во пользователей\n",
    "    - Москва - 6234\n",
    "    - Санкт-Петербург - 2550\n",
    "2. В обоих группах сравнения наблюдается процентиль 50 в районе 0,95 часа, процентиль 75 около 6 часов. Что косвенно указывает на малое колличество пользователей с активностью более 6 часов."
   ]
  },
  {
   "cell_type": "markdown",
   "id": "956e82e2",
   "metadata": {
    "id": "956e82e2"
   },
   "source": [
    "## Проверка гипотезы в Python\n",
    "\n",
    "Гипотеза звучит так: пользователи из Санкт-Петербурга проводят в среднем больше времени за чтением и прослушиванием книг в приложении, чем пользователи из Москвы. Попробуйте статистически это доказать, используя одностороннюю проверку гипотезы с двумя выборками:\n",
    "\n",
    "- Нулевая гипотеза H₀: Средняя активность пользователей в часах в двух группах (Москва и Санкт-Петербург) не различается.\n",
    "\n",
    "- Альтернативная гипотеза H₁: Средняя активность пользователей в Санкт-Петербурге больше, и это различие статистически значимо."
   ]
  },
  {
   "cell_type": "code",
   "execution_count": 9,
   "id": "5dbd7e03-fc07-447b-abfe-3bb0f7d94d31",
   "metadata": {},
   "outputs": [
    {
     "name": "stdout",
     "output_type": "stream",
     "text": [
      "Среднее значение в МСК 10.88\n",
      "Среднее значение в СПБ 11.59\n",
      "в СПБ среднее больше на 0.71ч (6.53 %)\n"
     ]
    }
   ],
   "source": [
    "msk_mean_hours = round(df_msk['hours'].mean(),2)\n",
    "spb_mean_hours = round(df_spb['hours'].mean(),2)\n",
    "mtr = round((spb_mean_hours/msk_mean_hours -1)*100, 2)\n",
    "\n",
    "print(f'Среднее значение в МСК {msk_mean_hours}')\n",
    "print(f'Среднее значение в СПБ {spb_mean_hours}')\n",
    "print(f'в СПБ среднее больше на {round(spb_mean_hours - msk_mean_hours,2)}ч ({mtr} %)')"
   ]
  },
  {
   "cell_type": "code",
   "execution_count": 10,
   "id": "67956690",
   "metadata": {
    "id": "67956690"
   },
   "outputs": [
    {
     "name": "stdout",
     "output_type": "stream",
     "text": [
      "0.21823507084569593\n",
      "Нулевая гипотеза о равенстве средней активности пользователей не может быть опровергнута\n"
     ]
    }
   ],
   "source": [
    "alpha = 0.05\n",
    "results = st.ttest_ind(df_spb['hours'], df_msk['hours'], alternative= 'greater', equal_var = False) \n",
    "\n",
    "p_value = results.pvalue\n",
    "print(p_value)\n",
    "\n",
    "if p_value > alpha:\n",
    "    print('Нулевая гипотеза о равенстве средней активности пользователей не может быть опровергнута')\n",
    "else:\n",
    "    print('Нулевая гипотеза о равенстве средней активности пользователей опровергается')"
   ]
  },
  {
   "cell_type": "markdown",
   "id": "6953e84c",
   "metadata": {
    "id": "6953e84c"
   },
   "source": [
    "## Аналитическая записка\n",
    "По результатам анализа данных подготовьте аналитическую записку, в которой опишете:\n",
    "\n",
    "- Выбранный тип t-теста и уровень статистической значимости.\n",
    "\n",
    "- Результат теста, или p-value.\n",
    "\n",
    "- Вывод на основе полученного p-value, то есть интерпретацию результатов.\n",
    "\n",
    "- Одну или две возможные причины, объясняющие полученные результаты.\n",
    "\n"
   ]
  },
  {
   "cell_type": "markdown",
   "id": "187d55a1-a01f-4b6c-b5e7-f2bc350d8694",
   "metadata": {},
   "source": [
    "По результатам анализа данных можно сделать следущие выводы:\n",
    "\n",
    "- Среднее время активности пользователей в Санкт-петербурге выше чем в Москве на 0.71ч (6.53 %)\n",
    "\n",
    "- Для проверки статистической значимости полученных результатов выбранн односторонний t-тест Уэлча (уровень статистической значимости = 0,05).\n",
    "\n",
    "- Результат теста (p-value = 0.218) не опровергает нулевую гипотезу, что показывает превышение средней активности пользователей в Санк-Петербурге **статистически незначимым**.\n",
    "\n",
    "- Такие результаты связаны с разнице в группах сравнения (\n",
    "\n",
    "    - Санкт-Петербург - `2550` пользователей\n",
    "    - Москва - `6234` пользователей\n",
    "\n",
    "<font size = 5>**Вывод: Среднее время активности пользователей в Москве и Санкт-Петербурге схоже**.</font>\n"
   ]
  },
  {
   "cell_type": "markdown",
   "id": "hc1d6jVISegz",
   "metadata": {
    "id": "hc1d6jVISegz"
   },
   "source": [
    "----"
   ]
  },
  {
   "cell_type": "markdown",
   "id": "NqOUIYhbrIfC",
   "metadata": {
    "id": "NqOUIYhbrIfC"
   },
   "source": [
    "# Часть 2. Анализ результатов A/B-тестирования"
   ]
  },
  {
   "cell_type": "markdown",
   "id": "tDwMKFNGsClr",
   "metadata": {
    "id": "tDwMKFNGsClr"
   },
   "source": [
    "Теперь вам нужно проанализировать другие данные. Представьте, что к вам обратились представители интернет-магазина BitMotion Kit, в котором продаются геймифицированные товары для тех, кто ведёт здоровый образ жизни. У него есть своя целевая аудитория, даже появились хиты продаж: эспандер со счётчиком и напоминанием, так и подстольный велотренажёр с Bluetooth.\n",
    "\n",
    "В будущем компания хочет расширить ассортимент товаров. Но перед этим нужно решить одну проблему. Интерфейс онлайн-магазина слишком сложен для пользователей — об этом говорят отзывы.\n",
    "\n",
    "Чтобы привлечь новых клиентов и увеличить число продаж, владельцы магазина разработали новую версию сайта и протестировали его на части пользователей. По задумке, это решение доказуемо повысит количество пользователей, которые совершат покупку.\n",
    "\n",
    "Ваша задача — провести оценку результатов A/B-теста. В вашем распоряжении:\n",
    "\n",
    "* данные о действиях пользователей и распределении их на группы,\n",
    "\n",
    "* техническое задание.\n",
    "\n",
    "Оцените корректность проведения теста и проанализируйте его результаты."
   ]
  },
  {
   "cell_type": "markdown",
   "id": "UNXAAyF5r9Rk",
   "metadata": {
    "id": "UNXAAyF5r9Rk"
   },
   "source": [
    "## Опишите цели исследования."
   ]
  },
  {
   "cell_type": "markdown",
   "id": "kHx-51yES8bd",
   "metadata": {
    "id": "kHx-51yES8bd"
   },
   "source": [
    "Проверить увеличение конверсии покупателей в покупку после внедренения новой версии сайта интернет-магазина BitMotion Kit"
   ]
  },
  {
   "cell_type": "markdown",
   "id": "_CZryx2OsH-s",
   "metadata": {
    "id": "_CZryx2OsH-s"
   },
   "source": [
    "## Загрузите данные, оцените их целостность.\n"
   ]
  },
  {
   "cell_type": "code",
   "execution_count": 11,
   "id": "DjFcJbeGsTIg",
   "metadata": {
    "id": "DjFcJbeGsTIg"
   },
   "outputs": [],
   "source": [
    "# Загружаем данные\n",
    "participants = pd.read_csv('https://code.s3.yandex.net/datasets/ab_test_participants.csv')\n",
    "events = pd.read_csv('https://code.s3.yandex.net/datasets/ab_test_events.zip',\n",
    "                     parse_dates=['event_dt'], low_memory=False)"
   ]
  },
  {
   "cell_type": "code",
   "execution_count": 12,
   "id": "4ab260a6-3c42-4ecb-9d92-c3395d3d1af7",
   "metadata": {},
   "outputs": [
    {
     "data": {
      "text/html": [
       "<div>\n",
       "<style scoped>\n",
       "    .dataframe tbody tr th:only-of-type {\n",
       "        vertical-align: middle;\n",
       "    }\n",
       "\n",
       "    .dataframe tbody tr th {\n",
       "        vertical-align: top;\n",
       "    }\n",
       "\n",
       "    .dataframe thead th {\n",
       "        text-align: right;\n",
       "    }\n",
       "</style>\n",
       "<table border=\"1\" class=\"dataframe\">\n",
       "  <thead>\n",
       "    <tr style=\"text-align: right;\">\n",
       "      <th></th>\n",
       "      <th>user_id</th>\n",
       "      <th>group</th>\n",
       "      <th>ab_test</th>\n",
       "      <th>device</th>\n",
       "    </tr>\n",
       "  </thead>\n",
       "  <tbody>\n",
       "    <tr>\n",
       "      <th>0</th>\n",
       "      <td>0002CE61FF2C4011</td>\n",
       "      <td>B</td>\n",
       "      <td>interface_eu_test</td>\n",
       "      <td>Mac</td>\n",
       "    </tr>\n",
       "    <tr>\n",
       "      <th>1</th>\n",
       "      <td>001064FEAAB631A1</td>\n",
       "      <td>B</td>\n",
       "      <td>recommender_system_test</td>\n",
       "      <td>Android</td>\n",
       "    </tr>\n",
       "    <tr>\n",
       "      <th>2</th>\n",
       "      <td>001064FEAAB631A1</td>\n",
       "      <td>A</td>\n",
       "      <td>interface_eu_test</td>\n",
       "      <td>Android</td>\n",
       "    </tr>\n",
       "    <tr>\n",
       "      <th>3</th>\n",
       "      <td>0010A1C096941592</td>\n",
       "      <td>A</td>\n",
       "      <td>recommender_system_test</td>\n",
       "      <td>Android</td>\n",
       "    </tr>\n",
       "    <tr>\n",
       "      <th>4</th>\n",
       "      <td>001E72F50D1C48FA</td>\n",
       "      <td>A</td>\n",
       "      <td>interface_eu_test</td>\n",
       "      <td>Mac</td>\n",
       "    </tr>\n",
       "  </tbody>\n",
       "</table>\n",
       "</div>"
      ],
      "text/plain": [
       "            user_id group                  ab_test   device\n",
       "0  0002CE61FF2C4011     B        interface_eu_test      Mac\n",
       "1  001064FEAAB631A1     B  recommender_system_test  Android\n",
       "2  001064FEAAB631A1     A        interface_eu_test  Android\n",
       "3  0010A1C096941592     A  recommender_system_test  Android\n",
       "4  001E72F50D1C48FA     A        interface_eu_test      Mac"
      ]
     },
     "metadata": {},
     "output_type": "display_data"
    },
    {
     "name": "stdout",
     "output_type": "stream",
     "text": [
      "<class 'pandas.core.frame.DataFrame'>\n",
      "RangeIndex: 14525 entries, 0 to 14524\n",
      "Data columns (total 4 columns):\n",
      " #   Column   Non-Null Count  Dtype \n",
      "---  ------   --------------  ----- \n",
      " 0   user_id  14525 non-null  object\n",
      " 1   group    14525 non-null  object\n",
      " 2   ab_test  14525 non-null  object\n",
      " 3   device   14525 non-null  object\n",
      "dtypes: object(4)\n",
      "memory usage: 454.0+ KB\n",
      "None\n"
     ]
    }
   ],
   "source": [
    "# Рассмотрим данные\n",
    "display (participants.head(5))\n",
    "print(participants.info())"
   ]
  },
  {
   "cell_type": "markdown",
   "id": "869d0f24-c277-4fd4-9c56-ab154db7e46a",
   "metadata": {},
   "source": [
    "При рассмотрении наблюдается селедующее:\n",
    "- Пропуски данных отсутствуют\n",
    "- В датасете содержаться результаты нескольких исследований\n",
    "\n",
    "Рассмотрим более внимательно содержимое всех столбцов"
   ]
  },
  {
   "cell_type": "code",
   "execution_count": 13,
   "id": "2104319c-4348-41f6-87ed-779d50710184",
   "metadata": {},
   "outputs": [
    {
     "name": "stdout",
     "output_type": "stream",
     "text": [
      "Содержимое столбца ab_test ['interface_eu_test' 'recommender_system_test']\n",
      "Содержимое столбца group ['B' 'A']\n"
     ]
    }
   ],
   "source": [
    "# Проверим уникальные значения в столбцах\n",
    "print('Содержимое столбца ab_test', participants['ab_test'].unique())\n",
    "print('Содержимое столбца group', participants['group'].unique())"
   ]
  },
  {
   "cell_type": "code",
   "execution_count": 14,
   "id": "0233628a-5a43-4ba6-b5cf-a9e8e66476c5",
   "metadata": {},
   "outputs": [
    {
     "name": "stdout",
     "output_type": "stream",
     "text": [
      "---------------------------------------------\n",
      "Название A/B-теста : interface_eu_test\n",
      "    Колличество пользователей в группе A: 5383\n",
      "    Колличество пользователей в группе B: 5467\n",
      "---------------------------------------------\n",
      "Название A/B-теста : recommender_system_test\n",
      "    Колличество пользователей в группе A: 2747\n",
      "    Колличество пользователей в группе B: 928\n",
      "---------------------------------------------\n"
     ]
    }
   ],
   "source": [
    "# Рассмотрим данные по каждому исследованию\n",
    "print('---------------------------------------------')\n",
    "for i in participants['ab_test'].unique():\n",
    "    print(f'Название A/B-теста : {i}')\n",
    "    print(f'    Колличество пользователей в группе A: {participants['user_id'][(participants['ab_test']==i) & (participants['group']=='A')].value_counts().sum()}')\n",
    "    print(f'    Колличество пользователей в группе B: {participants['user_id'][(participants['ab_test']==i) & (participants['group']=='B')].value_counts().sum()}')\n",
    "    print('---------------------------------------------')\n",
    "\n"
   ]
  },
  {
   "cell_type": "markdown",
   "id": "CnzA-efasUrk",
   "metadata": {
    "id": "CnzA-efasUrk"
   },
   "source": [
    "## По таблице `ab_test_participants` оцените корректность проведения теста:\n",
    "\n",
    "### Выделите пользователей, участвующих в тесте, и проверьте:\n",
    "\n",
    "   - соответствие требованиям технического задания,\n",
    "\n",
    "   - равномерность распределения пользователей по группам теста,\n",
    "\n",
    "   - отсутствие пересечений с конкурирующим тестом (нет пользователей, участвующих одновременно в двух тестовых группах)."
   ]
  },
  {
   "cell_type": "code",
   "execution_count": 15,
   "id": "aNa3zHrKslEN",
   "metadata": {
    "id": "aNa3zHrKslEN"
   },
   "outputs": [
    {
     "name": "stdout",
     "output_type": "stream",
     "text": [
      "Кол-во пересечений пользователей в конкурирующих тестах: 887 пользователей\n",
      "Кол-во пересечений пользователей в конкурирующих тестах (после очистки): 0 пользователей\n"
     ]
    }
   ],
   "source": [
    "# Пересечения пользователей в конкурирующих тестах\n",
    "int_df = participants.groupby('user_id').agg({'ab_test': 'nunique'}).query('ab_test > 1').reset_index()\n",
    "print(f'Кол-во пересечений пользователей в конкурирующих тестах: {len(int_df)} пользователей')\n",
    "\n",
    "# Фильтруем и удаляем пересечения\n",
    "participants_filtered = participants[~participants['user_id'].isin(int_df['user_id'])]\n",
    "\n",
    "# Проверяем результат\n",
    "int_df = participants_filtered.groupby('user_id').agg({'ab_test': 'nunique'}).query('ab_test > 1')\n",
    "print(f'Кол-во пересечений пользователей в конкурирующих тестах (после очистки): {len(int_df)} пользователей')\n",
    "\n",
    "# Выделим пользователей учавствущих в тесте interface_eu_test \n",
    "participants_ab = participants_filtered[participants_filtered['ab_test']== 'interface_eu_test']"
   ]
  },
  {
   "cell_type": "code",
   "execution_count": 16,
   "id": "6263d48c-9197-4744-9618-5586eff3af30",
   "metadata": {},
   "outputs": [
    {
     "name": "stdout",
     "output_type": "stream",
     "text": [
      " кол-во дубликатов в датасете: 0\n"
     ]
    }
   ],
   "source": [
    "# Проверяем дубликаты по user_id\n",
    "print(f' кол-во дубликатов в датасете: {participants_ab['user_id'].duplicated().sum()}')"
   ]
  },
  {
   "cell_type": "code",
   "execution_count": 17,
   "id": "974f70e9-f411-4cb9-bf0d-35d415fba527",
   "metadata": {},
   "outputs": [
    {
     "name": "stdout",
     "output_type": "stream",
     "text": [
      "Колличество пользователей в группе A: 4952\n",
      "Колличество пользователей в группе B: 5011\n",
      "    Разность в кол-ве пользователей составляет 59 (1.19%)\n"
     ]
    },
    {
     "data": {
      "text/plain": [
       "Text(0, 0.5, 'Тип устройства')"
      ]
     },
     "execution_count": 17,
     "metadata": {},
     "output_type": "execute_result"
    },
    {
     "data": {
      "text/plain": [
       "<Figure size 600x400 with 0 Axes>"
      ]
     },
     "metadata": {},
     "output_type": "display_data"
    },
    {
     "data": {
      "image/png": "[encoded data removed]",
      "text/plain": [
       "<Figure size 640x480 with 1 Axes>"
      ]
     },
     "metadata": {},
     "output_type": "display_data"
    }
   ],
   "source": [
    "# Разделяем датасет на друппы A и B\n",
    "participants_A = participants_ab[participants_ab['group']=='A']\n",
    "participants_B = participants_ab[participants_ab['group']=='B']\n",
    "\n",
    "# Определим размер групп\n",
    "print(f'Колличество пользователей в группе A: {len(participants_A)}')\n",
    "print(f'Колличество пользователей в группе B: {len(participants_B)}')\n",
    "print(f'    Разность в кол-ве пользователей составляет {len(participants_B)-len(participants_A)} ({round((len(participants_B)/len(participants_A)-1)*100,2)}%)')\n",
    "\n",
    "\n",
    "# Группируем пользователей по типу устройств для каждой группы\n",
    "participants_A_device = participants_A.groupby(['user_id', 'device'])['group'].agg('count').reset_index().groupby('device')['user_id'].agg('count').to_frame().sort_values(by = 'user_id', ascending=True)\n",
    "participants_B_device = participants_B.groupby(['user_id', 'device'])['group'].agg('count').reset_index().groupby('device')['user_id'].agg('count').to_frame().sort_values(by = 'user_id', ascending=True)\n",
    "# Расчитываем долю типа устройств относительно всех пользователей для каждой группы\n",
    "participants_A_device['user_share']=participants_A_device['user_id']/participants_A_device['user_id'].sum()\n",
    "participants_B_device['user_share']=participants_B_device['user_id']/participants_B_device['user_id'].sum()\n",
    "\n",
    "#Объединяем полученные данные каждой группы в один датасет\n",
    "user_device = participants_A_device.join(participants_B_device, on = 'device', lsuffix='_A', rsuffix='_B')\n",
    "\n",
    "#Строим диаграмму распределения\n",
    "plt.figure(figsize=(6,4))\n",
    "user_device.plot(kind='barh', y = ['user_share_A', 'user_share_B'], legend = True, rot = 0)\n",
    "plt.title('Распределение пользователей по устройствам в группах A и B')\n",
    "plt.xlabel('Доля пользователей')\n",
    "plt.ylabel('Тип устройства')"
   ]
  },
  {
   "cell_type": "markdown",
   "id": "d13658b4-e434-46bc-a7b0-1218eb2355bc",
   "metadata": {},
   "source": [
    "**Проиежуточные выводы:**\n",
    "- Колличество пользователей в группе A: 4952\n",
    "- Колличество пользователей в группе B: 5011\n",
    "- Разность в кол-ве пользователей составляет 59 (1.19%)\n",
    "- Распределение долей по типам устройств в двух группах совпадают\n",
    "\n",
    "**Можно сделать вывод что группы A и B сопостовимы, тест прошел нормально**"
   ]
  },
  {
   "cell_type": "markdown",
   "id": "GjulgSrlsqUU",
   "metadata": {
    "id": "GjulgSrlsqUU"
   },
   "source": [
    "### Проанализируйте данные о пользовательской активности по таблице `ab_test_events`:\n",
    "\n",
    "- оставьте только события, связанные с участвующими в изучаемом тесте пользователями;"
   ]
  },
  {
   "cell_type": "code",
   "execution_count": 18,
   "id": "QMt0Ybo_swDK",
   "metadata": {
    "id": "QMt0Ybo_swDK"
   },
   "outputs": [
    {
     "name": "stdout",
     "output_type": "stream",
     "text": [
      "После фильтрации в датасете осталось 73815 записей о активности пользователей входящих в группы тестирования\n"
     ]
    }
   ],
   "source": [
    "# Фильтруем датасет по пользователям которые учавствовали в тестировании\n",
    "events_filtered = events[events['user_id'].isin(participants_ab['user_id'])]\n",
    "\n",
    "print(f'После фильтрации в датасете осталось {len(events_filtered)} записей о активности пользователей входящих в группы тестирования')"
   ]
  },
  {
   "cell_type": "markdown",
   "id": "fBZ4DC2xswZJ",
   "metadata": {
    "id": "fBZ4DC2xswZJ"
   },
   "source": [
    "- определите горизонт анализа: рассчитайте время (лайфтайм) совершения события пользователем после регистрации и оставьте только те события, которые были выполнены в течение первых семи дней с момента регистрации;"
   ]
  },
  {
   "cell_type": "code",
   "execution_count": 19,
   "id": "a9c5e1d0-29a0-422e-9cc3-8a951a7d3739",
   "metadata": {},
   "outputs": [
    {
     "name": "stdout",
     "output_type": "stream",
     "text": [
      "В итоговом датасете содержиться 63805 событий\n"
     ]
    }
   ],
   "source": [
    "# Добавим столбец с датой регистрации в датасет\n",
    "user_registration = events_filtered[events_filtered['event_name']=='registration'].pivot_table(index='user_id', values = 'event_dt', aggfunc='min').reset_index()\n",
    "user_registration = user_registration.rename(columns = {'event_dt' : 'registration'})\n",
    "events_filtered = events_filtered.merge(user_registration, how='left',  left_on='user_id', right_on = 'user_id')\n",
    "\n",
    "# Расчитываем life_time\n",
    "events_filtered['life_time'] = events_filtered['event_dt'] - events_filtered['registration']\n",
    "# Оставляем только события, лайф тайм которых меньше 7 дней\n",
    "events_filtered_seven_d = events_filtered[events_filtered['life_time'] < '7 days']\n",
    "\n",
    "print(f'В итоговом датасете содержиться {len(events_filtered_seven_d)} событий')"
   ]
  },
  {
   "cell_type": "markdown",
   "id": "7cf1df48",
   "metadata": {},
   "source": [
    "Оцените достаточность выборки для получения статистически значимых результатов A/B-теста. Заданные параметры:\n",
    "\n",
    "- базовый показатель конверсии — 30%,\n",
    "\n",
    "- мощность теста — 80%,\n",
    "\n",
    "- достоверность теста — 95%."
   ]
  },
  {
   "cell_type": "code",
   "execution_count": 20,
   "id": "95f30895-0570-4aab-b96b-d7b53ae0ace9",
   "metadata": {},
   "outputs": [],
   "source": [
    "# Функция расчета выборки\n",
    "def calculate_sample_size(base_conversion, power=0.8, significance=0.05):\n",
    "    # Конвертируем проценты в доли\n",
    "    p1 = base_conversion / 100  # базовая конверсия\n",
    "    p2 = p1 * 1.2  # предполагаем увеличение на 20%\n",
    "    \n",
    "    # Критические значения для заданного уровня значимости и мощности\n",
    "    z_alpha = st.norm.ppf(1 - significance / 2)  # для двустороннего теста\n",
    "    z_beta = st.norm.ppf(power)\n",
    "    \n",
    "    # Расчет размера выборки\n",
    "    effect_size = p2 - p1\n",
    "    pooled_p = (p1 + p2) / 2\n",
    "    \n",
    "    n = (2 * pooled_p * (1 - pooled_p) * (z_alpha + z_beta)**2) / effect_size**2\n",
    "    \n",
    "    return int(ceil(n))"
   ]
  },
  {
   "cell_type": "code",
   "execution_count": 21,
   "id": "9fb2f5ce-980a-40cc-a1f6-9627da2f34b2",
   "metadata": {},
   "outputs": [
    {
     "name": "stdout",
     "output_type": "stream",
     "text": [
      "Колличество пользователей в группе A: 4952\n",
      "Колличество пользователей в группе B: 5011\n",
      "Необходимый размер выборки для каждой группы: 965\n",
      "Размер выборок достатачен для получения статистически значимых результатов A/B-теста\n"
     ]
    }
   ],
   "source": [
    "# Параметры теста\n",
    "base_conversion = 30  # базовый показатель конверсии в процентах\n",
    "power=0.8\n",
    "significance=0.05\n",
    "\n",
    "# Вычисляем необходимый размер выборки\n",
    "required_sample_size = calculate_sample_size(base_conversion, power, significance)\n",
    "\n",
    "# Определим размер групп\n",
    "print(f'Колличество пользователей в группе A: {len(participants_A)}')\n",
    "print(f'Колличество пользователей в группе B: {len(participants_B)}')\n",
    "print(f'Необходимый размер выборки для каждой группы: {required_sample_size}')\n",
    "\n",
    "if (len(participants_A) > required_sample_size) & (len(participants_B) > required_sample_size):\n",
    "    print('Размер выборок достатачен для получения статистически значимых результатов A/B-теста')\n",
    "else:\n",
    "    print('Размер выборок не достатачен для получения статистически значимых результатов A/B-теста')"
   ]
  },
  {
   "cell_type": "markdown",
   "id": "SadyUDgZs0t3",
   "metadata": {
    "id": "SadyUDgZs0t3"
   },
   "source": [
    "- рассчитайте для каждой группы количество посетителей, сделавших покупку, и общее количество посетителей."
   ]
  },
  {
   "cell_type": "code",
   "execution_count": 22,
   "id": "44a1c93f-8a98-4057-8587-b6947e6bebcd",
   "metadata": {},
   "outputs": [],
   "source": [
    "# Объединим датасеты с активностью пользователей и участниками исследования\n",
    "events_merge = events_filtered_seven_d.merge(participants_filtered, on = 'user_id')"
   ]
  },
  {
   "cell_type": "code",
   "execution_count": 23,
   "id": "7ph853Xks4sy",
   "metadata": {
    "id": "7ph853Xks4sy"
   },
   "outputs": [
    {
     "name": "stdout",
     "output_type": "stream",
     "text": [
      "Группа A: \n",
      "    Общее колличество пользователей: 4952\n",
      "    Колличество пользователей сделавших покупку: 1377\n",
      "    Процент платящих пользователей: 27.81%\n",
      "Группа B: \n",
      "    Общее колличество пользователей: 5011\n",
      "    Колличество пользователей сделавших покупку: 1480\n",
      "    Доля платящих пользователей: 29.54%\n",
      "Разница в доля платящих пользователей: 1.73%\n"
     ]
    }
   ],
   "source": [
    "# Расчитаем для каждой группы кол-во пользователей сделавших покупку, общее количество посетителей, долю платящих пользователей.\n",
    "user_gr_A_all = events_merge['user_id'][events_merge['group']=='A'].nunique()\n",
    "user_gr_A_purchase = events_merge['user_id'][(events_merge['group']=='A') & (events_merge['event_name'] == 'purchase')].nunique()\n",
    "user_gr_A_per = round(user_gr_A_purchase/user_gr_A_all, 4)\n",
    "\n",
    "user_gr_B_all = events_merge['user_id'][events_merge['group']=='B'].nunique()\n",
    "user_gr_B_purchase = events_merge['user_id'][(events_merge['group']=='B') & (events_merge['event_name'] == 'purchase')].nunique()\n",
    "user_gr_B_per = round(user_gr_B_purchase/user_gr_B_all, 4)\n",
    "\n",
    "print(f'Группа A: \\n    Общее колличество пользователей: {user_gr_A_all}\\n    Колличество пользователей сделавших покупку: {user_gr_A_purchase}\\n    Процент платящих пользователей: {round(user_gr_A_per*100,2)}%')\n",
    "print(f'Группа B: \\n    Общее колличество пользователей: {user_gr_B_all}\\n    Колличество пользователей сделавших покупку: {user_gr_B_purchase}\\n    Доля платящих пользователей: {round(user_gr_B_per*100,2)}%')\n",
    "print(f'Разница в доля платящих пользователей: {round((user_gr_B_per - user_gr_A_per)*100,2)}%')\n"
   ]
  },
  {
   "cell_type": "markdown",
   "id": "sh1JpGvAs5E3",
   "metadata": {
    "id": "sh1JpGvAs5E3"
   },
   "source": [
    "- сделайте предварительный общий вывод об изменении пользовательской активности в тестовой группе по сравнению с контрольной."
   ]
  },
  {
   "cell_type": "markdown",
   "id": "19a07eff-d815-4cab-92a5-100f62f3170c",
   "metadata": {
    "id": "hHTHPkJYs8mE"
   },
   "source": [
    "**Промежуточные выводы**\n",
    "\n",
    "Полльзовательская активность в тестовой группе выросла на 1,73%"
   ]
  },
  {
   "cell_type": "markdown",
   "id": "IKZ1Oo3Ws919",
   "metadata": {
    "id": "IKZ1Oo3Ws919"
   },
   "source": [
    "## 4. Проведите оценку результатов A/B-тестирования:"
   ]
  },
  {
   "cell_type": "markdown",
   "id": "dcUdBSmvtC-E",
   "metadata": {
    "id": "dcUdBSmvtC-E"
   },
   "source": [
    "- Проверьте изменение конверсии подходящим статистическим тестом, учитывая все этапы проверки гипотез."
   ]
  },
  {
   "cell_type": "markdown",
   "id": "13df9ac3-ea5d-453a-ae6c-07edede52144",
   "metadata": {
    "id": "l_KOziBQtL3t"
   },
   "source": [
    "### Сформулируем гипотезу:\n",
    "- H0: доли пользователей сделавших покупку в двух группах значимо не различается в двух выборках\n",
    "- H1: доли пользователей сделавших покупку в двух группах значимо различается в двух выборках"
   ]
  },
  {
   "cell_type": "markdown",
   "id": "dc368097-ab08-4a66-a520-2d651f1856bb",
   "metadata": {},
   "source": [
    "### Проверяем гипотезу\n",
    "Для проверки гипотезы будем использовать односторонний z-test"
   ]
  },
  {
   "cell_type": "code",
   "execution_count": 24,
   "id": "b119610c-082c-4c83-949b-82bd864eb5a9",
   "metadata": {},
   "outputs": [
    {
     "name": "stdout",
     "output_type": "stream",
     "text": [
      "p_value = 0.028262547212292124\n",
      "Нулевая гипотеза о том что, доля пользователей сделавших покупку в двух группах значимо не различается в двух выборках,  опровергается\n"
     ]
    }
   ],
   "source": [
    "\n",
    "m_a = user_gr_A_purchase\n",
    "m_b = user_gr_B_purchase\n",
    "n_a = user_gr_A_all\n",
    "n_b= user_gr_B_all\n",
    "\n",
    "# проводим тест\n",
    "ztest_result, p_value = proportions_ztest([m_b,m_a],[n_b,n_a], alternative='larger')\n",
    "\n",
    "print(f'p_value = {p_value}')\n",
    "if p_value > alpha:\n",
    "    print(f'Нулевая гипотеза о том что, доли пользователей сделавших покупку в двух группах значимо не различается в двух выборках, не может быть опровергнута')\n",
    "else:\n",
    "    print(f'Нулевая гипотеза о том что, доля пользователей сделавших покупку в двух группах значимо не различается в двух выборках,  опровергается')"
   ]
  },
  {
   "cell_type": "markdown",
   "id": "9jkyKOjgtGoc",
   "metadata": {
    "id": "9jkyKOjgtGoc"
   },
   "source": [
    "- Опишите выводы по проведённой оценке результатов A/B-тестирования. Что можно сказать про результаты A/B-тестирования? Был ли достигнут ожидаемый эффект в изменении конверсии?"
   ]
  },
  {
   "cell_type": "markdown",
   "id": "npoPPSKytKvR",
   "metadata": {
    "id": "npoPPSKytKvR"
   },
   "source": [
    "- **Характеристики проведённого эксперимента:**\n",
    "    - **Количество задействованных пользователей:** В тесте участвовало в районе 10 000 пользователей (4 952 в группе A и 5 011 в группе B).\n",
    "\n",
    "- **Влияние нового интерфейса сайта интернет-магазина BitMotion Kit:**  \n",
    "Ключевая метрика — **конверсия пользователей в покупку**:\n",
    "    - В группе A: **27,81%**.  \n",
    "    - В группе B: **29,54%**.  \n",
    "    - **Разница между группами:** **1.73%** в пользу группы B.  \n",
    "\n",
    "- **Статистическая значимость:**  \n",
    "    - **Значение p-value:** **0.0282** (меньше уровня значимости 0.05).  \n",
    "    - **Вывод:** Различие в конверсии между группами **статистически значимо**.  \n",
    "\n",
    "- **Рекомендация:**  \n",
    "Новая версия сайта **увеличила конверсию пользователей в покупку на `1,73%`**, и этот эффект подтверждён статистически.    \n",
    "\n",
    "\n",
    "- **Итоговое решение:**  \n",
    "    - **Внедрять новую версию сайта интернет-магазина BitMotion Kit** можно."
   ]
  }
 ],
 "metadata": {
  "colab": {
   "provenance": [],
   "toc_visible": true
  },
  "kernelspec": {
   "display_name": "Python 3 (ipykernel)",
   "language": "python",
   "name": "python3"
  },
  "language_info": {
   "codemirror_mode": {
    "name": "ipython",
    "version": 3
   },
   "file_extension": ".py",
   "mimetype": "text/x-python",
   "name": "python",
   "nbconvert_exporter": "python",
   "pygments_lexer": "ipython3",
   "version": "3.13.2"
  },
  "toc": {
   "base_numbering": 1,
   "nav_menu": {},
   "number_sections": true,
   "sideBar": true,
   "skip_h1_title": true,
   "title_cell": "Table of Contents",
   "title_sidebar": "Contents",
   "toc_cell": false,
   "toc_position": {},
   "toc_section_display": true,
   "toc_window_display": false
  }
 },
 "nbformat": 4,
 "nbformat_minor": 5
}
