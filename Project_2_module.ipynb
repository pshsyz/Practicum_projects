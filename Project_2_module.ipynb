{
 "cells": [
  {
   "cell_type": "markdown",
   "metadata": {
    "id": "4mJbK1knrJgz"
   },
   "source": [
    "# Проект: Исследование стартапов\n",
    "\n",
    "\n",
    "- Автор: Дерновой П.В.\n",
    "- Дата: 11.05.2025"
   ]
  },
  {
   "cell_type": "markdown",
   "metadata": {
    "id": "P6j0r3worJg0"
   },
   "source": [
    "# Введение"
   ]
  },
  {
   "cell_type": "markdown",
   "metadata": {
    "id": "8lQtbsIUyFG6"
   },
   "source": [
    "В проекте рассмотрен анализ рынка инвистиций в стартапы на исторических данных для финансовой компании, которая предоставляет льготные займы."
   ]
  },
  {
   "cell_type": "markdown",
   "metadata": {},
   "source": [
    "## Шаг 1. Знакомство с данными: загрузка и первичная предобработка"
   ]
  },
  {
   "cell_type": "markdown",
   "metadata": {
    "id": "xqr6uttCrJg0"
   },
   "source": [
    "### Описание данных\n",
    "#### Таблица `acquisition`\n",
    "Содержит информацию о покупках одними компаниями других компаний:\n",
    "- `id` — идентификатор покупки.\n",
    "- `acquiring_company_id` — идентификатор покупающей компании.\n",
    "- `acquired_company_id` — идентификатор покупаемой компании.\n",
    "- `term_code` — варианты расчёта.\n",
    "- `price_amount` — сумма сделки.\n",
    "- `acquired_at` — дата сделки.\n",
    "- \n",
    "#### Таблица `company_and_rounds`\n",
    "Содержит информацию о компаниях и раундах финансирования:\n",
    "- `company ID` — идентификатор компании.\n",
    "- `name` — название компании.\n",
    "- `category code` — категория области деятельности компании.\n",
    "- `status` — статус компании.\n",
    "- `founded at` — дата инвестирования.\n",
    "- `closed at` — дата закрытия компании.\n",
    "- `domain` — официальный сайт компании.\n",
    "- `network username` — ник компании в сети.\n",
    "- `country code` — код страны компании.\n",
    "- `investment rounds` — число инвестиционных раундов.\n",
    "- `funding rounds` — число раундов финансирования.\n",
    "- `funding total` — сумма финансирования.\n",
    "- `milestones` — вехи финансирования.\n",
    "- `funding round id` — идентификатор этапа финансирования.\n",
    "- `company id` — идентификатор компании.\n",
    "- `funded at` — дата финансирования.\n",
    "- `funding round type` — тип финансирования.\n",
    "- `raised amount` — сумма финансирования.\n",
    "- `pre money valuation` — предварительная денежная оценка.\n",
    "- `participants` — число участников.\n",
    "- `is first round` — является ли раунд первым.\n",
    "- `is last round` — является раунд последним.\n",
    "\n",
    "#### `Таблица education`\n",
    "Содержит информацию об образовании сотрудника:\n",
    "- `id` — идентификатор записи об образовании.\n",
    "- `person_id` — идентификатор работника.\n",
    "- `instituition` — название учебного заведения.\n",
    "- `graduated_at` — дата получения образования.\n",
    "\n",
    "#### Таблица `people`\n",
    "Содержит информацию о сотрудниках:\n",
    "- `id` — идентификатор сотрудника.\n",
    "- `first_name` — имя сотрудника.\n",
    "- `last_name` — фамилия сотрудника.\n",
    "- `company_id` — идентификатор компании.\n",
    "- `network_username` — ник в социальных сетях.\n",
    "\n",
    "#### Таблица `degrees`\n",
    "Содержит информацию о типе образования сотрудника:\n",
    "- `id` — идентификатор записи.\n",
    "- `object_id` — идентификатор сотрудника.\n",
    "- `degree_type` — тип образования.\n",
    "- `subject` — специальность.\n",
    "\n",
    "Опциональные датасеты:\n",
    "- `fund.csv`\n",
    "- `investment.csv`"
   ]
  },
  {
   "cell_type": "markdown",
   "metadata": {},
   "source": [
    "### Вывод общей информации, исправление названия столбцов"
   ]
  },
  {
   "cell_type": "code",
   "execution_count": 1,
   "metadata": {
    "id": "2Tm4Pk__Felf"
   },
   "outputs": [],
   "source": [
    "### Импортируем библиотеки\n",
    "import pandas as pd\n",
    "\n",
    "# Загружаем библиотеки для визуализации данных\n",
    "import matplotlib.pyplot as plt\n",
    "# import matplotlib_venn as venn2\n",
    "import seaborn as sns\n",
    "# устанавливаем библиотеку для визуализации диаграммы Венна и подгружаем нужные модули\n",
    "!pip install matplotlib-venn -q\n",
    "from matplotlib_venn import venn2, venn3\n",
    "\n",
    "#Установим колличество столбцов для отображения равное 500\n",
    "pd.set_option('display.max_columns', 500)"
   ]
  },
  {
   "cell_type": "code",
   "execution_count": 2,
   "metadata": {
    "id": "oNqJ2qpRFebv"
   },
   "outputs": [],
   "source": [
    "#Устанавливаем путь к каталогу с датасетами\n",
    "PATH = \"https://code.s3.yandex.net/datasets/\"\n",
    "\n",
    "# Выгружаем датасеты\n",
    "df_acq_orig = pd.read_csv(PATH + 'acquisition.csv')\n",
    "df_comp_rounds_orig = pd.read_csv(PATH + 'company_and_rounds.csv')\n",
    "df_education_orig = pd.read_csv(PATH + 'education.csv')\n",
    "df_people_orig = pd.read_csv(PATH + 'people.csv')\n",
    "df_degrees_orig = pd.read_csv(PATH + 'degrees.csv')\n",
    "\n",
    "# Делаем копии для дальнейшей обработки\n",
    "df_acq = df_acq_orig.copy()\n",
    "df_comp_rounds = df_comp_rounds_orig.copy()\n",
    "df_education = df_education_orig.copy()\n",
    "df_people = df_people_orig.copy()\n",
    "df_degrees = df_degrees_orig.copy()"
   ]
  },
  {
   "cell_type": "markdown",
   "metadata": {},
   "source": [
    "#### Рассмотрим датасет `df_acq`  и выведем первые строки"
   ]
  },
  {
   "cell_type": "code",
   "execution_count": 3,
   "metadata": {},
   "outputs": [
    {
     "name": "stdout",
     "output_type": "stream",
     "text": [
      "<class 'pandas.core.frame.DataFrame'>\n",
      "RangeIndex: 9407 entries, 0 to 9406\n",
      "Data columns (total 6 columns):\n",
      " #   Column                Non-Null Count  Dtype \n",
      "---  ------                --------------  ----- \n",
      " 0   id                    9407 non-null   int64 \n",
      " 1   acquiring_company_id  9407 non-null   int64 \n",
      " 2   acquired_company_id   9407 non-null   int64 \n",
      " 3   term_code             1831 non-null   object\n",
      " 4   price_amount          9407 non-null   int64 \n",
      " 5   acquired_at           9378 non-null   object\n",
      "dtypes: int64(4), object(2)\n",
      "memory usage: 441.1+ KB\n"
     ]
    },
    {
     "data": {
      "text/html": [
       "<div>\n",
       "<style scoped>\n",
       "    .dataframe tbody tr th:only-of-type {\n",
       "        vertical-align: middle;\n",
       "    }\n",
       "\n",
       "    .dataframe tbody tr th {\n",
       "        vertical-align: top;\n",
       "    }\n",
       "\n",
       "    .dataframe thead th {\n",
       "        text-align: right;\n",
       "    }\n",
       "</style>\n",
       "<table border=\"1\" class=\"dataframe\">\n",
       "  <thead>\n",
       "    <tr style=\"text-align: right;\">\n",
       "      <th></th>\n",
       "      <th>id</th>\n",
       "      <th>acquiring_company_id</th>\n",
       "      <th>acquired_company_id</th>\n",
       "      <th>term_code</th>\n",
       "      <th>price_amount</th>\n",
       "      <th>acquired_at</th>\n",
       "    </tr>\n",
       "  </thead>\n",
       "  <tbody>\n",
       "    <tr>\n",
       "      <th>0</th>\n",
       "      <td>1</td>\n",
       "      <td>11</td>\n",
       "      <td>10</td>\n",
       "      <td>NaN</td>\n",
       "      <td>20000000</td>\n",
       "      <td>2007-05-30</td>\n",
       "    </tr>\n",
       "    <tr>\n",
       "      <th>1</th>\n",
       "      <td>7</td>\n",
       "      <td>59</td>\n",
       "      <td>72</td>\n",
       "      <td>cash</td>\n",
       "      <td>60000000</td>\n",
       "      <td>2007-07-01</td>\n",
       "    </tr>\n",
       "    <tr>\n",
       "      <th>2</th>\n",
       "      <td>8</td>\n",
       "      <td>24</td>\n",
       "      <td>132</td>\n",
       "      <td>cash</td>\n",
       "      <td>280000000</td>\n",
       "      <td>2007-05-01</td>\n",
       "    </tr>\n",
       "    <tr>\n",
       "      <th>3</th>\n",
       "      <td>9</td>\n",
       "      <td>59</td>\n",
       "      <td>155</td>\n",
       "      <td>cash</td>\n",
       "      <td>100000000</td>\n",
       "      <td>2007-06-01</td>\n",
       "    </tr>\n",
       "    <tr>\n",
       "      <th>4</th>\n",
       "      <td>10</td>\n",
       "      <td>212</td>\n",
       "      <td>215</td>\n",
       "      <td>cash</td>\n",
       "      <td>25000000</td>\n",
       "      <td>2007-07-01</td>\n",
       "    </tr>\n",
       "  </tbody>\n",
       "</table>\n",
       "</div>"
      ],
      "text/plain": [
       "   id  acquiring_company_id  acquired_company_id term_code  price_amount  \\\n",
       "0   1                    11                   10       NaN      20000000   \n",
       "1   7                    59                   72      cash      60000000   \n",
       "2   8                    24                  132      cash     280000000   \n",
       "3   9                    59                  155      cash     100000000   \n",
       "4  10                   212                  215      cash      25000000   \n",
       "\n",
       "  acquired_at  \n",
       "0  2007-05-30  \n",
       "1  2007-07-01  \n",
       "2  2007-05-01  \n",
       "3  2007-06-01  \n",
       "4  2007-07-01  "
      ]
     },
     "metadata": {},
     "output_type": "display_data"
    },
    {
     "name": "stdout",
     "output_type": "stream",
     "text": [
      "Index(['id', 'acquiring_company_id', 'acquired_company_id', 'term_code',\n",
      "       'price_amount', 'acquired_at'],\n",
      "      dtype='object')\n"
     ]
    }
   ],
   "source": [
    "# Информация о датасете\n",
    "df_acq.info()\n",
    "# Выводим первые строки\n",
    "display(df_acq.head(5))\n",
    "# Проверяем названия столбцов\n",
    "print(df_acq.columns)"
   ]
  },
  {
   "cell_type": "markdown",
   "metadata": {},
   "source": [
    "Названия столбцов:\n",
    "- названия столбцов корректны\n",
    "\n",
    "Типы данных:\n",
    "- **`acquired_at`** - тип данных `object`. Содержимое столбцов является датой, можно преобразовать в тип данных `datetime`\n",
    "- **остальные столбцы** - тип данных соответствует содержимому, можно снизить размерность до оптимальной"
   ]
  },
  {
   "cell_type": "markdown",
   "metadata": {},
   "source": [
    "#### Рассмотрим датасет `df_comp_rounds`  и выведем первые строки"
   ]
  },
  {
   "cell_type": "code",
   "execution_count": 4,
   "metadata": {},
   "outputs": [
    {
     "name": "stdout",
     "output_type": "stream",
     "text": [
      "<class 'pandas.core.frame.DataFrame'>\n",
      "RangeIndex: 217774 entries, 0 to 217773\n",
      "Data columns (total 22 columns):\n",
      " #   Column                 Non-Null Count   Dtype  \n",
      "---  ------                 --------------   -----  \n",
      " 0   company  ID            217472 non-null  float64\n",
      " 1   name                   217472 non-null  object \n",
      " 2   category  code         143886 non-null  object \n",
      " 3   status                 217472 non-null  object \n",
      " 4   founded  at            109956 non-null  object \n",
      " 5   closed  at             3449 non-null    object \n",
      " 6   domain                 147159 non-null  object \n",
      " 7   network  username      95534 non-null   object \n",
      " 8   country  code          108607 non-null  object \n",
      " 9   investment  rounds     217472 non-null  float64\n",
      " 10  funding  rounds        217472 non-null  float64\n",
      " 11  funding  total         217472 non-null  float64\n",
      " 12  milestones             217472 non-null  float64\n",
      " 13  funding  round  id     52928 non-null   float64\n",
      " 14  company  id            52928 non-null   float64\n",
      " 15  funded  at             52680 non-null   object \n",
      " 16  funding  round  type   52928 non-null   object \n",
      " 17  raised  amount         52928 non-null   float64\n",
      " 18  pre  money  valuation  52928 non-null   float64\n",
      " 19  participants           52928 non-null   float64\n",
      " 20  is  first  round       52928 non-null   float64\n",
      " 21  is  last  round        52928 non-null   float64\n",
      "dtypes: float64(12), object(10)\n",
      "memory usage: 36.6+ MB\n"
     ]
    },
    {
     "data": {
      "text/html": [
       "<div>\n",
       "<style scoped>\n",
       "    .dataframe tbody tr th:only-of-type {\n",
       "        vertical-align: middle;\n",
       "    }\n",
       "\n",
       "    .dataframe tbody tr th {\n",
       "        vertical-align: top;\n",
       "    }\n",
       "\n",
       "    .dataframe thead th {\n",
       "        text-align: right;\n",
       "    }\n",
       "</style>\n",
       "<table border=\"1\" class=\"dataframe\">\n",
       "  <thead>\n",
       "    <tr style=\"text-align: right;\">\n",
       "      <th></th>\n",
       "      <th>company  ID</th>\n",
       "      <th>name</th>\n",
       "      <th>category  code</th>\n",
       "      <th>status</th>\n",
       "      <th>founded  at</th>\n",
       "      <th>closed  at</th>\n",
       "      <th>domain</th>\n",
       "      <th>network  username</th>\n",
       "      <th>country  code</th>\n",
       "      <th>investment  rounds</th>\n",
       "      <th>funding  rounds</th>\n",
       "      <th>funding  total</th>\n",
       "      <th>milestones</th>\n",
       "      <th>funding  round  id</th>\n",
       "      <th>company  id</th>\n",
       "      <th>funded  at</th>\n",
       "      <th>funding  round  type</th>\n",
       "      <th>raised  amount</th>\n",
       "      <th>pre  money  valuation</th>\n",
       "      <th>participants</th>\n",
       "      <th>is  first  round</th>\n",
       "      <th>is  last  round</th>\n",
       "    </tr>\n",
       "  </thead>\n",
       "  <tbody>\n",
       "    <tr>\n",
       "      <th>0</th>\n",
       "      <td>1.0</td>\n",
       "      <td>Wetpaint</td>\n",
       "      <td>web</td>\n",
       "      <td>operating</td>\n",
       "      <td>2005-10-17</td>\n",
       "      <td>NaN</td>\n",
       "      <td>wetpaint-inc.com</td>\n",
       "      <td>BachelrWetpaint</td>\n",
       "      <td>USA</td>\n",
       "      <td>0.0</td>\n",
       "      <td>3.0</td>\n",
       "      <td>39750000.0</td>\n",
       "      <td>5.0</td>\n",
       "      <td>888.0</td>\n",
       "      <td>1.0</td>\n",
       "      <td>2005-10-01</td>\n",
       "      <td>series-a</td>\n",
       "      <td>5250000.0</td>\n",
       "      <td>0.0</td>\n",
       "      <td>2.0</td>\n",
       "      <td>0.0</td>\n",
       "      <td>1.0</td>\n",
       "    </tr>\n",
       "    <tr>\n",
       "      <th>1</th>\n",
       "      <td>1.0</td>\n",
       "      <td>Wetpaint</td>\n",
       "      <td>web</td>\n",
       "      <td>operating</td>\n",
       "      <td>2005-10-17</td>\n",
       "      <td>NaN</td>\n",
       "      <td>wetpaint-inc.com</td>\n",
       "      <td>BachelrWetpaint</td>\n",
       "      <td>USA</td>\n",
       "      <td>0.0</td>\n",
       "      <td>3.0</td>\n",
       "      <td>39750000.0</td>\n",
       "      <td>5.0</td>\n",
       "      <td>889.0</td>\n",
       "      <td>1.0</td>\n",
       "      <td>2007-01-01</td>\n",
       "      <td>series-b</td>\n",
       "      <td>9500000.0</td>\n",
       "      <td>0.0</td>\n",
       "      <td>3.0</td>\n",
       "      <td>0.0</td>\n",
       "      <td>0.0</td>\n",
       "    </tr>\n",
       "    <tr>\n",
       "      <th>2</th>\n",
       "      <td>1.0</td>\n",
       "      <td>Wetpaint</td>\n",
       "      <td>web</td>\n",
       "      <td>operating</td>\n",
       "      <td>2005-10-17</td>\n",
       "      <td>NaN</td>\n",
       "      <td>wetpaint-inc.com</td>\n",
       "      <td>BachelrWetpaint</td>\n",
       "      <td>USA</td>\n",
       "      <td>0.0</td>\n",
       "      <td>3.0</td>\n",
       "      <td>39750000.0</td>\n",
       "      <td>5.0</td>\n",
       "      <td>2312.0</td>\n",
       "      <td>1.0</td>\n",
       "      <td>2008-05-19</td>\n",
       "      <td>series-c+</td>\n",
       "      <td>25000000.0</td>\n",
       "      <td>0.0</td>\n",
       "      <td>4.0</td>\n",
       "      <td>1.0</td>\n",
       "      <td>0.0</td>\n",
       "    </tr>\n",
       "    <tr>\n",
       "      <th>3</th>\n",
       "      <td>10.0</td>\n",
       "      <td>Flektor</td>\n",
       "      <td>games_video</td>\n",
       "      <td>acquired</td>\n",
       "      <td>NaN</td>\n",
       "      <td>NaN</td>\n",
       "      <td>flektor.com</td>\n",
       "      <td>NaN</td>\n",
       "      <td>USA</td>\n",
       "      <td>0.0</td>\n",
       "      <td>0.0</td>\n",
       "      <td>0.0</td>\n",
       "      <td>0.0</td>\n",
       "      <td>NaN</td>\n",
       "      <td>NaN</td>\n",
       "      <td>NaN</td>\n",
       "      <td>NaN</td>\n",
       "      <td>NaN</td>\n",
       "      <td>NaN</td>\n",
       "      <td>NaN</td>\n",
       "      <td>NaN</td>\n",
       "      <td>NaN</td>\n",
       "    </tr>\n",
       "    <tr>\n",
       "      <th>4</th>\n",
       "      <td>100.0</td>\n",
       "      <td>There</td>\n",
       "      <td>games_video</td>\n",
       "      <td>acquired</td>\n",
       "      <td>NaN</td>\n",
       "      <td>NaN</td>\n",
       "      <td>there.com</td>\n",
       "      <td>NaN</td>\n",
       "      <td>USA</td>\n",
       "      <td>0.0</td>\n",
       "      <td>0.0</td>\n",
       "      <td>0.0</td>\n",
       "      <td>4.0</td>\n",
       "      <td>NaN</td>\n",
       "      <td>NaN</td>\n",
       "      <td>NaN</td>\n",
       "      <td>NaN</td>\n",
       "      <td>NaN</td>\n",
       "      <td>NaN</td>\n",
       "      <td>NaN</td>\n",
       "      <td>NaN</td>\n",
       "      <td>NaN</td>\n",
       "    </tr>\n",
       "  </tbody>\n",
       "</table>\n",
       "</div>"
      ],
      "text/plain": [
       "   company  ID      name category  code     status founded  at closed  at  \\\n",
       "0          1.0  Wetpaint            web  operating  2005-10-17        NaN   \n",
       "1          1.0  Wetpaint            web  operating  2005-10-17        NaN   \n",
       "2          1.0  Wetpaint            web  operating  2005-10-17        NaN   \n",
       "3         10.0   Flektor    games_video   acquired         NaN        NaN   \n",
       "4        100.0     There    games_video   acquired         NaN        NaN   \n",
       "\n",
       "             domain network  username country  code  investment  rounds  \\\n",
       "0  wetpaint-inc.com   BachelrWetpaint           USA                 0.0   \n",
       "1  wetpaint-inc.com   BachelrWetpaint           USA                 0.0   \n",
       "2  wetpaint-inc.com   BachelrWetpaint           USA                 0.0   \n",
       "3       flektor.com               NaN           USA                 0.0   \n",
       "4         there.com               NaN           USA                 0.0   \n",
       "\n",
       "   funding  rounds  funding  total  milestones  funding  round  id  \\\n",
       "0              3.0      39750000.0         5.0               888.0   \n",
       "1              3.0      39750000.0         5.0               889.0   \n",
       "2              3.0      39750000.0         5.0              2312.0   \n",
       "3              0.0             0.0         0.0                 NaN   \n",
       "4              0.0             0.0         4.0                 NaN   \n",
       "\n",
       "   company  id  funded  at funding  round  type  raised  amount  \\\n",
       "0          1.0  2005-10-01             series-a       5250000.0   \n",
       "1          1.0  2007-01-01             series-b       9500000.0   \n",
       "2          1.0  2008-05-19            series-c+      25000000.0   \n",
       "3          NaN         NaN                  NaN             NaN   \n",
       "4          NaN         NaN                  NaN             NaN   \n",
       "\n",
       "   pre  money  valuation  participants  is  first  round  is  last  round  \n",
       "0                    0.0           2.0               0.0              1.0  \n",
       "1                    0.0           3.0               0.0              0.0  \n",
       "2                    0.0           4.0               1.0              0.0  \n",
       "3                    NaN           NaN               NaN              NaN  \n",
       "4                    NaN           NaN               NaN              NaN  "
      ]
     },
     "metadata": {},
     "output_type": "display_data"
    },
    {
     "name": "stdout",
     "output_type": "stream",
     "text": [
      "Index(['company  ID', 'name', 'category  code', 'status', 'founded  at',\n",
      "       'closed  at', 'domain', 'network  username', 'country  code',\n",
      "       'investment  rounds', 'funding  rounds', 'funding  total', 'milestones',\n",
      "       'funding  round  id', 'company  id', 'funded  at',\n",
      "       'funding  round  type', 'raised  amount', 'pre  money  valuation',\n",
      "       'participants', 'is  first  round', 'is  last  round'],\n",
      "      dtype='object')\n"
     ]
    }
   ],
   "source": [
    "# Информация о датасете\n",
    "df_comp_rounds.info()\n",
    "# Выводим первые строки\n",
    "display(df_comp_rounds.head(5))\n",
    "# Проверяем названия столбцов\n",
    "print(df_comp_rounds.columns)"
   ]
  },
  {
   "cell_type": "markdown",
   "metadata": {},
   "source": [
    "Названия столбцов:\n",
    "- необходимо привести все столбцы к типу snake_case\n",
    "- столбцы **`company ID` и `company id`** - дублируются названия и описание содержимого. При этом в столбце `company ID` пропуски отсутствуют, в отличие от столбца `company id`.\n",
    "\n",
    "Типы данных:\n",
    "- **`name`, `category code`, `status`, `domain`, `network username`, `country code`, `funding  round  type`** - тип данных `object`. Соответствует содиржимому.\n",
    "- **`founded at`, `closed at`, `funded at`** - тип данных `object`. Содержимое столбцов является датой, можно преобразовать в тип данных `datetime`\n",
    "- **`company  ID`, `investment  rounds`, `funding  rounds`, `funding  total`, `milestones`, `funding  round  id`, `company  id `, `pre  money  valuation`, `participants`, `is  first  round`, `is  last  round`** - тип данных `float64`. Необходимо преобразовать в `integer` с оптимальной размерностью.\n",
    "- **`raised  amount`** - тип данных `float64`. Соответствует содиржимому. Необходимо снизить размерность для оптимизации."
   ]
  },
  {
   "cell_type": "markdown",
   "metadata": {},
   "source": [
    "Рассмотрим пересечения по столбцам **`company ID` и `company id`**"
   ]
  },
  {
   "cell_type": "code",
   "execution_count": 8,
   "metadata": {},
   "outputs": [
    {
     "data": {
      "image/png": "[encoded data removed]",
      "text/plain": [
       "<Figure size 432x288 with 1 Axes>"
      ]
     },
     "metadata": {},
     "output_type": "display_data"
    }
   ],
   "source": [
    "# код ревьюера\n",
    "\n",
    "first_id = set(df_comp_rounds['company  ID'].dropna().unique())\n",
    "second_id = set(df_comp_rounds['company  id'].dropna().unique())\n",
    "# Строим диаграмму Венна\n",
    "venn2([first_id, second_id], set_labels=('company_id_duplicate', 'company_id'))\n",
    "\n",
    "# Отображаем график\n",
    "plt.title(\"Пересечение \")\n",
    "plt.show() "
   ]
  },
  {
   "cell_type": "code",
   "execution_count": 9,
   "metadata": {},
   "outputs": [
    {
     "data": {
      "text/plain": [
       "company  ID                 302\n",
       "name                        302\n",
       "category  code            73888\n",
       "status                      302\n",
       "founded  at              107818\n",
       "closed  at               214325\n",
       "domain                    70615\n",
       "network  username        122240\n",
       "country  code            109167\n",
       "investment  rounds          302\n",
       "funding  rounds             302\n",
       "funding  total              302\n",
       "milestones                  302\n",
       "funding  round  id       164846\n",
       "company  id              164846\n",
       "funded  at               165094\n",
       "funding  round  type     164846\n",
       "raised  amount           164846\n",
       "pre  money  valuation    164846\n",
       "participants             164846\n",
       "is  first  round         164846\n",
       "is  last  round          164846\n",
       "dtype: int64"
      ]
     },
     "execution_count": 9,
     "metadata": {},
     "output_type": "execute_result"
    }
   ],
   "source": [
    "df_comp_rounds.isna().sum()"
   ]
  },
  {
   "cell_type": "markdown",
   "metadata": {},
   "source": [
    "Видно что столбцы **`company ID` и `company id`** пересекаются. Также как сказано можно обратить внимание на колличество непустых значений в столбце `company id` и столбцах с 13 по 21. Наблюдается явная взаимосвязь.\n",
    "\n",
    "Скорее всего это связано с данными в столбцах с 13 по 21.\n",
    "\n",
    "Для дальнейшей работы переименуем столбец `company id` в `с_id`."
   ]
  },
  {
   "cell_type": "markdown",
   "metadata": {},
   "source": [
    "Приступим к преобразованию названий столбцов"
   ]
  },
  {
   "cell_type": "code",
   "execution_count": 10,
   "metadata": {},
   "outputs": [],
   "source": [
    "#Переименовываем столбец `company id` в `с_id`.\n",
    "df_comp_rounds = df_comp_rounds.rename(columns={'company  id': 'с_id'})\n",
    "\n",
    "# Преобразовываем названия столбцов датасета к стилю snake case\n",
    "# Между словами в названии столбцов содержиться двойной пробел. Заменим на _\n",
    "df_comp_rounds.columns = df_comp_rounds.columns.str.lower().str.replace('  ', '_')"
   ]
  },
  {
   "cell_type": "code",
   "execution_count": 11,
   "metadata": {},
   "outputs": [
    {
     "name": "stdout",
     "output_type": "stream",
     "text": [
      "Index(['company_id', 'name', 'category_code', 'status', 'founded_at',\n",
      "       'closed_at', 'domain', 'network_username', 'country_code',\n",
      "       'investment_rounds', 'funding_rounds', 'funding_total', 'milestones',\n",
      "       'funding_round_id', 'с_id', 'funded_at', 'funding_round_type',\n",
      "       'raised_amount', 'pre_money_valuation', 'participants',\n",
      "       'is_first_round', 'is_last_round'],\n",
      "      dtype='object')\n"
     ]
    }
   ],
   "source": [
    "# Проверяем получившийся результат\n",
    "print(df_comp_rounds.columns)"
   ]
  },
  {
   "cell_type": "markdown",
   "metadata": {},
   "source": [
    "Теперь названия столбцов корректны"
   ]
  },
  {
   "cell_type": "markdown",
   "metadata": {},
   "source": [
    "#### Рассмотрим датасет `df_education`  и выведем первые строки"
   ]
  },
  {
   "cell_type": "code",
   "execution_count": 12,
   "metadata": {},
   "outputs": [
    {
     "name": "stdout",
     "output_type": "stream",
     "text": [
      "<class 'pandas.core.frame.DataFrame'>\n",
      "RangeIndex: 109610 entries, 0 to 109609\n",
      "Data columns (total 4 columns):\n",
      " #   Column        Non-Null Count   Dtype \n",
      "---  ------        --------------   ----- \n",
      " 0   id            109610 non-null  int64 \n",
      " 1   person_id     109610 non-null  int64 \n",
      " 2   instituition  109555 non-null  object\n",
      " 3   graduated_at  58054 non-null   object\n",
      "dtypes: int64(2), object(2)\n",
      "memory usage: 3.3+ MB\n"
     ]
    },
    {
     "data": {
      "text/html": [
       "<div>\n",
       "<style scoped>\n",
       "    .dataframe tbody tr th:only-of-type {\n",
       "        vertical-align: middle;\n",
       "    }\n",
       "\n",
       "    .dataframe tbody tr th {\n",
       "        vertical-align: top;\n",
       "    }\n",
       "\n",
       "    .dataframe thead th {\n",
       "        text-align: right;\n",
       "    }\n",
       "</style>\n",
       "<table border=\"1\" class=\"dataframe\">\n",
       "  <thead>\n",
       "    <tr style=\"text-align: right;\">\n",
       "      <th></th>\n",
       "      <th>id</th>\n",
       "      <th>person_id</th>\n",
       "      <th>instituition</th>\n",
       "      <th>graduated_at</th>\n",
       "    </tr>\n",
       "  </thead>\n",
       "  <tbody>\n",
       "    <tr>\n",
       "      <th>0</th>\n",
       "      <td>1</td>\n",
       "      <td>6117</td>\n",
       "      <td>NaN</td>\n",
       "      <td>NaN</td>\n",
       "    </tr>\n",
       "    <tr>\n",
       "      <th>1</th>\n",
       "      <td>2</td>\n",
       "      <td>6136</td>\n",
       "      <td>Washington University, St. Louis</td>\n",
       "      <td>1990-01-01</td>\n",
       "    </tr>\n",
       "    <tr>\n",
       "      <th>2</th>\n",
       "      <td>3</td>\n",
       "      <td>6136</td>\n",
       "      <td>Boston University</td>\n",
       "      <td>1992-01-01</td>\n",
       "    </tr>\n",
       "    <tr>\n",
       "      <th>3</th>\n",
       "      <td>4</td>\n",
       "      <td>6005</td>\n",
       "      <td>University of Greenwich</td>\n",
       "      <td>2006-01-01</td>\n",
       "    </tr>\n",
       "    <tr>\n",
       "      <th>4</th>\n",
       "      <td>5</td>\n",
       "      <td>5832</td>\n",
       "      <td>Rice University</td>\n",
       "      <td>NaN</td>\n",
       "    </tr>\n",
       "  </tbody>\n",
       "</table>\n",
       "</div>"
      ],
      "text/plain": [
       "   id  person_id                      instituition graduated_at\n",
       "0   1       6117                               NaN          NaN\n",
       "1   2       6136  Washington University, St. Louis   1990-01-01\n",
       "2   3       6136                 Boston University   1992-01-01\n",
       "3   4       6005           University of Greenwich   2006-01-01\n",
       "4   5       5832                   Rice University          NaN"
      ]
     },
     "metadata": {},
     "output_type": "display_data"
    },
    {
     "name": "stdout",
     "output_type": "stream",
     "text": [
      "Index(['id', 'person_id', 'instituition', 'graduated_at'], dtype='object')\n"
     ]
    }
   ],
   "source": [
    "# Информация о датасете\n",
    "df_education.info()\n",
    "# Выводим первые строки\n",
    "display(df_education.head(5))\n",
    "# Проверяем названия столбцов\n",
    "print(df_education.columns)"
   ]
  },
  {
   "cell_type": "markdown",
   "metadata": {},
   "source": [
    "Названия столбцов:\n",
    "- формат названий столбцов корректный\n",
    "- присутствует опечатка в столбце `instituition`. Исправим название на `institution`.\n",
    "\n",
    "Типы данных:\n",
    "- **`instituition`** - тип данных `object`. Соответствует содиржимому.\n",
    "- **`graduated_at`** - тип данных `object`. Содержимое столбцов является датой, можно преобразовать в тип данных `datetime`\n",
    "- **`id`, `person_id`** - тип данных `int64`. Соответствует содержимому. Можно снизить размерность до оптимальной."
   ]
  },
  {
   "cell_type": "code",
   "execution_count": 13,
   "metadata": {},
   "outputs": [
    {
     "name": "stdout",
     "output_type": "stream",
     "text": [
      "Index(['id', 'person_id', 'institution', 'graduated_at'], dtype='object')\n"
     ]
    }
   ],
   "source": [
    "#Переименовываем столбец `company id` в `с_id`.\n",
    "df_education = df_education.rename(columns={'instituition': 'institution'})\n",
    "# Проверяем названия столбцов после корректировки\n",
    "print(df_education.columns)"
   ]
  },
  {
   "cell_type": "markdown",
   "metadata": {},
   "source": [
    "#### Рассмотрим датасет `df_people`  и выведем первые строки"
   ]
  },
  {
   "cell_type": "code",
   "execution_count": 14,
   "metadata": {},
   "outputs": [
    {
     "name": "stdout",
     "output_type": "stream",
     "text": [
      "<class 'pandas.core.frame.DataFrame'>\n",
      "RangeIndex: 226709 entries, 0 to 226708\n",
      "Data columns (total 5 columns):\n",
      " #   Column            Non-Null Count   Dtype  \n",
      "---  ------            --------------   -----  \n",
      " 0   id                226709 non-null  int64  \n",
      " 1   first_name        226704 non-null  object \n",
      " 2   last_name         226708 non-null  object \n",
      " 3   company_id        34615 non-null   float64\n",
      " 4   network_username  38867 non-null   object \n",
      "dtypes: float64(1), int64(1), object(3)\n",
      "memory usage: 8.6+ MB\n"
     ]
    },
    {
     "data": {
      "text/html": [
       "<div>\n",
       "<style scoped>\n",
       "    .dataframe tbody tr th:only-of-type {\n",
       "        vertical-align: middle;\n",
       "    }\n",
       "\n",
       "    .dataframe tbody tr th {\n",
       "        vertical-align: top;\n",
       "    }\n",
       "\n",
       "    .dataframe thead th {\n",
       "        text-align: right;\n",
       "    }\n",
       "</style>\n",
       "<table border=\"1\" class=\"dataframe\">\n",
       "  <thead>\n",
       "    <tr style=\"text-align: right;\">\n",
       "      <th></th>\n",
       "      <th>id</th>\n",
       "      <th>first_name</th>\n",
       "      <th>last_name</th>\n",
       "      <th>company_id</th>\n",
       "      <th>network_username</th>\n",
       "    </tr>\n",
       "  </thead>\n",
       "  <tbody>\n",
       "    <tr>\n",
       "      <th>0</th>\n",
       "      <td>10</td>\n",
       "      <td>Mark</td>\n",
       "      <td>Zuckerberg</td>\n",
       "      <td>5.0</td>\n",
       "      <td>NaN</td>\n",
       "    </tr>\n",
       "    <tr>\n",
       "      <th>1</th>\n",
       "      <td>100</td>\n",
       "      <td>Peter</td>\n",
       "      <td>Lester</td>\n",
       "      <td>27.0</td>\n",
       "      <td>NaN</td>\n",
       "    </tr>\n",
       "    <tr>\n",
       "      <th>2</th>\n",
       "      <td>1000</td>\n",
       "      <td>Dr. Steven</td>\n",
       "      <td>E. Saunders</td>\n",
       "      <td>292.0</td>\n",
       "      <td>NaN</td>\n",
       "    </tr>\n",
       "    <tr>\n",
       "      <th>3</th>\n",
       "      <td>10000</td>\n",
       "      <td>Neil</td>\n",
       "      <td>Capel</td>\n",
       "      <td>2526.0</td>\n",
       "      <td>NaN</td>\n",
       "    </tr>\n",
       "    <tr>\n",
       "      <th>4</th>\n",
       "      <td>100000</td>\n",
       "      <td>Sue</td>\n",
       "      <td>Pilsch</td>\n",
       "      <td>NaN</td>\n",
       "      <td>NaN</td>\n",
       "    </tr>\n",
       "  </tbody>\n",
       "</table>\n",
       "</div>"
      ],
      "text/plain": [
       "       id  first_name    last_name  company_id network_username\n",
       "0      10        Mark   Zuckerberg         5.0              NaN\n",
       "1     100       Peter       Lester        27.0              NaN\n",
       "2    1000  Dr. Steven  E. Saunders       292.0              NaN\n",
       "3   10000        Neil        Capel      2526.0              NaN\n",
       "4  100000         Sue       Pilsch         NaN              NaN"
      ]
     },
     "metadata": {},
     "output_type": "display_data"
    },
    {
     "name": "stdout",
     "output_type": "stream",
     "text": [
      "Index(['id', 'first_name', 'last_name', 'company_id', 'network_username'], dtype='object')\n"
     ]
    }
   ],
   "source": [
    "# Информация о датасете\n",
    "df_people.info()\n",
    "# Выводим первые строки\n",
    "display(df_people.head(5))\n",
    "# Проверяем названия столбцов\n",
    "print(df_people.columns)"
   ]
  },
  {
   "cell_type": "markdown",
   "metadata": {},
   "source": [
    "Названия столбцов:\n",
    "- названия столбцов корректны\n",
    "\n",
    "Типы данных:\n",
    "- **`first_name`, `last_name`, `network_username`** - тип данных `object`. Соответствует содиржимому.\n",
    "- **`company_id`** - тип данных `float64`. Необходимо преобразовать в `integer` с оптимальной размерностью.\n",
    "- **`id`** - тип данных `int64`. Соответствует содержимому. Можно снизить размерность до оптимальной."
   ]
  },
  {
   "cell_type": "markdown",
   "metadata": {},
   "source": [
    "#### Рассмотрим датасет `df_degrees`  и выведем первые строки"
   ]
  },
  {
   "cell_type": "code",
   "execution_count": 15,
   "metadata": {},
   "outputs": [
    {
     "name": "stdout",
     "output_type": "stream",
     "text": [
      "<class 'pandas.core.frame.DataFrame'>\n",
      "RangeIndex: 109610 entries, 0 to 109609\n",
      "Data columns (total 4 columns):\n",
      " #   Column       Non-Null Count   Dtype \n",
      "---  ------       --------------   ----- \n",
      " 0   id           109610 non-null  int64 \n",
      " 1   object_id    109610 non-null  object\n",
      " 2   degree_type  98392 non-null   object\n",
      " 3   subject      81298 non-null   object\n",
      "dtypes: int64(1), object(3)\n",
      "memory usage: 3.3+ MB\n"
     ]
    },
    {
     "data": {
      "text/html": [
       "<div>\n",
       "<style scoped>\n",
       "    .dataframe tbody tr th:only-of-type {\n",
       "        vertical-align: middle;\n",
       "    }\n",
       "\n",
       "    .dataframe tbody tr th {\n",
       "        vertical-align: top;\n",
       "    }\n",
       "\n",
       "    .dataframe thead th {\n",
       "        text-align: right;\n",
       "    }\n",
       "</style>\n",
       "<table border=\"1\" class=\"dataframe\">\n",
       "  <thead>\n",
       "    <tr style=\"text-align: right;\">\n",
       "      <th></th>\n",
       "      <th>id</th>\n",
       "      <th>object_id</th>\n",
       "      <th>degree_type</th>\n",
       "      <th>subject</th>\n",
       "    </tr>\n",
       "  </thead>\n",
       "  <tbody>\n",
       "    <tr>\n",
       "      <th>0</th>\n",
       "      <td>1</td>\n",
       "      <td>p:6117</td>\n",
       "      <td>MBA</td>\n",
       "      <td>NaN</td>\n",
       "    </tr>\n",
       "    <tr>\n",
       "      <th>1</th>\n",
       "      <td>2</td>\n",
       "      <td>p:6136</td>\n",
       "      <td>BA</td>\n",
       "      <td>English, French</td>\n",
       "    </tr>\n",
       "    <tr>\n",
       "      <th>2</th>\n",
       "      <td>3</td>\n",
       "      <td>p:6136</td>\n",
       "      <td>MS</td>\n",
       "      <td>Mass Communication</td>\n",
       "    </tr>\n",
       "    <tr>\n",
       "      <th>3</th>\n",
       "      <td>4</td>\n",
       "      <td>p:6005</td>\n",
       "      <td>MS</td>\n",
       "      <td>Internet Technology</td>\n",
       "    </tr>\n",
       "    <tr>\n",
       "      <th>4</th>\n",
       "      <td>5</td>\n",
       "      <td>p:5832</td>\n",
       "      <td>BCS</td>\n",
       "      <td>Computer Science, Psychology</td>\n",
       "    </tr>\n",
       "  </tbody>\n",
       "</table>\n",
       "</div>"
      ],
      "text/plain": [
       "   id object_id degree_type                       subject\n",
       "0   1    p:6117         MBA                           NaN\n",
       "1   2    p:6136          BA               English, French\n",
       "2   3    p:6136          MS            Mass Communication\n",
       "3   4    p:6005          MS           Internet Technology\n",
       "4   5    p:5832         BCS  Computer Science, Psychology"
      ]
     },
     "metadata": {},
     "output_type": "display_data"
    },
    {
     "name": "stdout",
     "output_type": "stream",
     "text": [
      "Index(['id', 'object_id', 'degree_type', 'subject'], dtype='object')\n"
     ]
    }
   ],
   "source": [
    "# Информация о датасете\n",
    "df_degrees.info()\n",
    "# Выводим первые строки\n",
    "display(df_degrees.head(5))\n",
    "# Проверяем названия столбцов\n",
    "print(df_degrees.columns)"
   ]
  },
  {
   "cell_type": "markdown",
   "metadata": {},
   "source": [
    "Названия столбцов:\n",
    "- необходимо привести все столбцы к типу snake_case\n",
    "\n",
    "Типы данных:\n",
    "- **`degree_type`, `subject`** - тип данных `object`. Соответствует содиржимому.\n",
    "- **`id`** - тип данных `int64`. Соответствует содержимому. Можно снизить размерность до оптимальной.\n",
    "- **`object_id`** - содержит информацию о сотруднике в формате `p:****`. Далее преобразуем его в тип данных `integer`"
   ]
  },
  {
   "cell_type": "code",
   "execution_count": 16,
   "metadata": {},
   "outputs": [
    {
     "data": {
      "text/html": [
       "<div>\n",
       "<style scoped>\n",
       "    .dataframe tbody tr th:only-of-type {\n",
       "        vertical-align: middle;\n",
       "    }\n",
       "\n",
       "    .dataframe tbody tr th {\n",
       "        vertical-align: top;\n",
       "    }\n",
       "\n",
       "    .dataframe thead th {\n",
       "        text-align: right;\n",
       "    }\n",
       "</style>\n",
       "<table border=\"1\" class=\"dataframe\">\n",
       "  <thead>\n",
       "    <tr style=\"text-align: right;\">\n",
       "      <th></th>\n",
       "      <th>id</th>\n",
       "      <th>object_id</th>\n",
       "      <th>degree_type</th>\n",
       "      <th>subject</th>\n",
       "      <th>person_id</th>\n",
       "    </tr>\n",
       "  </thead>\n",
       "  <tbody>\n",
       "    <tr>\n",
       "      <th>0</th>\n",
       "      <td>1</td>\n",
       "      <td>p:6117</td>\n",
       "      <td>MBA</td>\n",
       "      <td>NaN</td>\n",
       "      <td>6117</td>\n",
       "    </tr>\n",
       "    <tr>\n",
       "      <th>1</th>\n",
       "      <td>2</td>\n",
       "      <td>p:6136</td>\n",
       "      <td>BA</td>\n",
       "      <td>English, French</td>\n",
       "      <td>6136</td>\n",
       "    </tr>\n",
       "    <tr>\n",
       "      <th>2</th>\n",
       "      <td>3</td>\n",
       "      <td>p:6136</td>\n",
       "      <td>MS</td>\n",
       "      <td>Mass Communication</td>\n",
       "      <td>6136</td>\n",
       "    </tr>\n",
       "    <tr>\n",
       "      <th>3</th>\n",
       "      <td>4</td>\n",
       "      <td>p:6005</td>\n",
       "      <td>MS</td>\n",
       "      <td>Internet Technology</td>\n",
       "      <td>6005</td>\n",
       "    </tr>\n",
       "    <tr>\n",
       "      <th>4</th>\n",
       "      <td>5</td>\n",
       "      <td>p:5832</td>\n",
       "      <td>BCS</td>\n",
       "      <td>Computer Science, Psychology</td>\n",
       "      <td>5832</td>\n",
       "    </tr>\n",
       "  </tbody>\n",
       "</table>\n",
       "</div>"
      ],
      "text/plain": [
       "   id object_id degree_type                       subject person_id\n",
       "0   1    p:6117         MBA                           NaN      6117\n",
       "1   2    p:6136          BA               English, French      6136\n",
       "2   3    p:6136          MS            Mass Communication      6136\n",
       "3   4    p:6005          MS           Internet Technology      6005\n",
       "4   5    p:5832         BCS  Computer Science, Psychology      5832"
      ]
     },
     "metadata": {},
     "output_type": "display_data"
    }
   ],
   "source": [
    "# Добавляем новый столбец в которм выделяем номер сотрудника\n",
    "df_degrees['person_id']=df_degrees['object_id'].str.replace('p:', '')\n",
    "\n",
    "# Выводим первые строки для проверки результата\n",
    "display(df_degrees.head(5))"
   ]
  },
  {
   "cell_type": "markdown",
   "metadata": {},
   "source": [
    "--- \n",
    "\n",
    "В результате ознокомления с датасетами принято решение:\n",
    "- изменены названия столбцов в датасетах `df_comp_rounds`, `df_education`\n",
    "- добавлен новый столбец в датасет `df_degrees` с номер с преобразованным номер сотрудника\n",
    "- во всех датасетах необходимо корректировать, либо оптимизировать тип данных"
   ]
  },
  {
   "cell_type": "markdown",
   "metadata": {
    "id": "mg2gEwh0rJg0"
   },
   "source": [
    "### Смена типов данных"
   ]
  },
  {
   "cell_type": "markdown",
   "metadata": {
    "id": "FsL0A8RBrJg1",
    "vscode": {
     "languageId": "plaintext"
    }
   },
   "source": [
    "#### Преобразовываем типы данных в датасете `df_acq`"
   ]
  },
  {
   "cell_type": "code",
   "execution_count": 17,
   "metadata": {},
   "outputs": [
    {
     "name": "stdout",
     "output_type": "stream",
     "text": [
      "<class 'pandas.core.frame.DataFrame'>\n",
      "RangeIndex: 9407 entries, 0 to 9406\n",
      "Data columns (total 6 columns):\n",
      " #   Column                Non-Null Count  Dtype         \n",
      "---  ------                --------------  -----         \n",
      " 0   id                    9407 non-null   int16         \n",
      " 1   acquiring_company_id  9407 non-null   int32         \n",
      " 2   acquired_company_id   9407 non-null   int32         \n",
      " 3   term_code             1831 non-null   object        \n",
      " 4   price_amount          9407 non-null   int64         \n",
      " 5   acquired_at           9378 non-null   datetime64[ns]\n",
      "dtypes: datetime64[ns](1), int16(1), int32(2), int64(1), object(1)\n",
      "memory usage: 312.5+ KB\n",
      "None\n"
     ]
    }
   ],
   "source": [
    "# Оптимизируем целочисленный тип данных в датасете\n",
    "for column in ['id', 'acquiring_company_id', 'acquired_company_id', 'price_amount']:\n",
    "    df_acq[column] = pd.to_numeric(df_acq[column], downcast='integer')\n",
    "# Преобразовываем строковый тип данных в дату\n",
    "df_acq['acquired_at'] = df_acq['acquired_at'].astype('datetime64[ns]')\n",
    "\n",
    "# Проверяем резудьтат преобразования\n",
    "print(df_acq.info())"
   ]
  },
  {
   "cell_type": "markdown",
   "metadata": {},
   "source": [
    "#### Преобразовываем типы данных в датасете `df_comp_rounds`"
   ]
  },
  {
   "cell_type": "code",
   "execution_count": 18,
   "metadata": {},
   "outputs": [
    {
     "name": "stdout",
     "output_type": "stream",
     "text": [
      "<class 'pandas.core.frame.DataFrame'>\n",
      "RangeIndex: 217774 entries, 0 to 217773\n",
      "Data columns (total 22 columns):\n",
      " #   Column               Non-Null Count   Dtype         \n",
      "---  ------               --------------   -----         \n",
      " 0   company_id           217472 non-null  Int64         \n",
      " 1   name                 217472 non-null  object        \n",
      " 2   category_code        143886 non-null  object        \n",
      " 3   status               217472 non-null  object        \n",
      " 4   founded_at           109956 non-null  datetime64[ns]\n",
      " 5   closed_at            3449 non-null    datetime64[ns]\n",
      " 6   domain               147159 non-null  object        \n",
      " 7   network_username     95534 non-null   object        \n",
      " 8   country_code         108607 non-null  object        \n",
      " 9   investment_rounds    217472 non-null  Int64         \n",
      " 10  funding_rounds       217472 non-null  Int64         \n",
      " 11  funding_total        217472 non-null  Int64         \n",
      " 12  milestones           217472 non-null  Int64         \n",
      " 13  funding_round_id     52928 non-null   Int64         \n",
      " 14  с_id                 52928 non-null   float64       \n",
      " 15  funded_at            52680 non-null   datetime64[ns]\n",
      " 16  funding_round_type   52928 non-null   object        \n",
      " 17  raised_amount        52928 non-null   float32       \n",
      " 18  pre_money_valuation  52928 non-null   Int64         \n",
      " 19  participants         52928 non-null   Int64         \n",
      " 20  is_first_round       52928 non-null   Int64         \n",
      " 21  is_last_round        52928 non-null   Int64         \n",
      "dtypes: Int64(10), datetime64[ns](3), float32(1), float64(1), object(7)\n",
      "memory usage: 37.8+ MB\n",
      "None\n"
     ]
    }
   ],
   "source": [
    "# Оптимизируем целочисленный тип данных в датасете\n",
    "for column in ['company_id', 'investment_rounds', 'funding_rounds', 'funding_total', 'milestones', 'funding_round_id', 'pre_money_valuation', 'participants', 'is_first_round', 'is_last_round']:\n",
    "    # Преобразовываем в integer\n",
    "    df_comp_rounds[column] = pd.array(df_comp_rounds[column], dtype=pd.Int64Dtype())\n",
    "    # Уменьшаем размерность\n",
    "    df_comp_rounds[column] = pd.to_numeric(df_comp_rounds[column], downcast='integer')\n",
    "\n",
    "# Оптимизируем тип данных с плавающей точкой в датасете\n",
    "for column in ['raised_amount']:\n",
    "    df_comp_rounds[column] = pd.to_numeric(df_comp_rounds[column], downcast='float')\n",
    "\n",
    "# Преобразовываем строковый тип данных в дату\n",
    "for column in ['founded_at', 'closed_at', 'funded_at']:\n",
    "    df_comp_rounds[column] = df_comp_rounds[column].astype('datetime64[ns]')\n",
    "\n",
    "# Проверяем резудьтат преобразования\n",
    "print(df_comp_rounds.info())"
   ]
  },
  {
   "cell_type": "markdown",
   "metadata": {},
   "source": [
    "#### Преобразовываем типы данных в датасете `df_education`"
   ]
  },
  {
   "cell_type": "code",
   "execution_count": 19,
   "metadata": {},
   "outputs": [
    {
     "name": "stdout",
     "output_type": "stream",
     "text": [
      "<class 'pandas.core.frame.DataFrame'>\n",
      "RangeIndex: 109610 entries, 0 to 109609\n",
      "Data columns (total 4 columns):\n",
      " #   Column        Non-Null Count   Dtype         \n",
      "---  ------        --------------   -----         \n",
      " 0   id            109610 non-null  int32         \n",
      " 1   person_id     109610 non-null  int32         \n",
      " 2   institution   109555 non-null  object        \n",
      " 3   graduated_at  58054 non-null   datetime64[ns]\n",
      "dtypes: datetime64[ns](1), int32(2), object(1)\n",
      "memory usage: 2.5+ MB\n",
      "None\n"
     ]
    }
   ],
   "source": [
    "# Оптимизируем целочисленный тип данных в датасете\n",
    "for column in ['id', 'person_id']:\n",
    "    df_education[column] = pd.to_numeric(df_education[column], downcast='integer')\n",
    "# Преобразовываем строковый тип данных в дату\n",
    "df_education['graduated_at'] = df_education['graduated_at'].astype('datetime64[ns]')\n",
    "\n",
    "# Проверяем резудьтат преобразования\n",
    "print(df_education.info())"
   ]
  },
  {
   "cell_type": "markdown",
   "metadata": {},
   "source": [
    "#### Преобразовываем типы данных в датасете `df_people`"
   ]
  },
  {
   "cell_type": "code",
   "execution_count": 20,
   "metadata": {},
   "outputs": [
    {
     "name": "stdout",
     "output_type": "stream",
     "text": [
      "<class 'pandas.core.frame.DataFrame'>\n",
      "RangeIndex: 226709 entries, 0 to 226708\n",
      "Data columns (total 5 columns):\n",
      " #   Column            Non-Null Count   Dtype \n",
      "---  ------            --------------   ----- \n",
      " 0   id                226709 non-null  int32 \n",
      " 1   first_name        226704 non-null  object\n",
      " 2   last_name         226708 non-null  object\n",
      " 3   company_id        34615 non-null   Int64 \n",
      " 4   network_username  38867 non-null   object\n",
      "dtypes: Int64(1), int32(1), object(3)\n",
      "memory usage: 8.0+ MB\n",
      "None\n"
     ]
    }
   ],
   "source": [
    "# Преобразовываем в integer\n",
    "df_people['company_id'] = pd.array(df_people['company_id'], dtype=pd.Int64Dtype())\n",
    "# Уменьшаем размерность\n",
    "df_people['company_id'] = pd.to_numeric(df_people['company_id'], downcast='integer')\n",
    "df_people['id'] = pd.to_numeric(df_people['id'], downcast='integer')\n",
    "\n",
    "# Проверяем резудьтат преобразования\n",
    "print(df_people.info())"
   ]
  },
  {
   "cell_type": "markdown",
   "metadata": {},
   "source": [
    "#### Преобразовываем типы данных в датасете `df_degrees`"
   ]
  },
  {
   "cell_type": "code",
   "execution_count": 21,
   "metadata": {},
   "outputs": [
    {
     "name": "stdout",
     "output_type": "stream",
     "text": [
      "<class 'pandas.core.frame.DataFrame'>\n",
      "RangeIndex: 109610 entries, 0 to 109609\n",
      "Data columns (total 5 columns):\n",
      " #   Column       Non-Null Count   Dtype \n",
      "---  ------       --------------   ----- \n",
      " 0   id           109610 non-null  int32 \n",
      " 1   object_id    109610 non-null  object\n",
      " 2   degree_type  98392 non-null   object\n",
      " 3   subject      81298 non-null   object\n",
      " 4   person_id    109610 non-null  int32 \n",
      "dtypes: int32(2), object(3)\n",
      "memory usage: 3.3+ MB\n",
      "None\n"
     ]
    }
   ],
   "source": [
    "# Уменьшаем размерность\n",
    "df_degrees['id'] = pd.to_numeric(df_degrees['id'], downcast='integer')\n",
    "# Преобразовываем формат с понижением размерности\n",
    "df_degrees['person_id'] = pd.to_numeric(df_degrees['person_id'], downcast='integer')\n",
    "\n",
    "\n",
    "# Проверяем резудьтат преобразования\n",
    "print(df_degrees.info())"
   ]
  },
  {
   "cell_type": "markdown",
   "metadata": {},
   "source": [
    "#### Промежуточный вывод\n",
    "Во всех датасетах преобразованы типы данных в оптимальные для их содиржимого"
   ]
  },
  {
   "cell_type": "markdown",
   "metadata": {},
   "source": [
    "### Анализ пропусков"
   ]
  },
  {
   "cell_type": "markdown",
   "metadata": {},
   "source": [
    "#### Функции\n",
    "Создаем пользовательские функции для удобства анализа\n",
    "- показ имени датасета\n",
    "- визуализация пропусков в датасете\n",
    "- определения уникальных значений в столбце\n",
    "- сравнение датафреймов по колличеству строк"
   ]
  },
  {
   "cell_type": "code",
   "execution_count": 22,
   "metadata": {},
   "outputs": [],
   "source": [
    "def find_df_name(df):\n",
    "    # функция определения имени датасета\n",
    "    name = [name for name, obj in globals().items() if id(obj) == id(df)]\n",
    "    return name[0] if name else None\n",
    "\n",
    "def missing_df (df):\n",
    "    # функция визуализации пропусков в датасете\n",
    "    missing = (pd.DataFrame({'Кол-во пропусков': df.isnull().sum(), 'Доля пропусков': df.isnull().mean().round(4)})\n",
    "           .style.background_gradient(cmap='coolwarm'))\n",
    "    print('Пропуски в датасете:', find_df_name(df))\n",
    "    display(missing)\n",
    "    \n",
    "def uniq_val (column):\n",
    "    # функция определения уникальных значений в столбце\n",
    "    # Фнкция возвращает уникальные значения, отсортированные по убыванию\n",
    "    print(f'Уникальные значения в столбце:[{column.name}]')\n",
    "    print(column.sort_values().unique())\n",
    "    print()\n",
    "\n",
    "def df_difference (df_1, df_2):\n",
    "    # функция сравнивает колличество строк двух датасетов\n",
    "        # df_1 - исходный датасет\n",
    "        # df_2 - датасет после обработки\n",
    "    df_1_len = len(df_1)\n",
    "    df_2_len = len(df_2)\n",
    "    print('Обработка датасета', find_df_name(df_2))\n",
    "    print('  Исходное кол-во строк:       ', df_1_len)\n",
    "    print('  Кол-во строк после обработки:', df_2_len)\n",
    "    print('  Удалено строк:               ', df_1_len - df_2_len, '(', round((1-df_2_len/df_1_len)*100,2), '%)')"
   ]
  },
  {
   "cell_type": "markdown",
   "metadata": {},
   "source": [
    "#### Пропуски в `df_acq`"
   ]
  },
  {
   "cell_type": "code",
   "execution_count": 23,
   "metadata": {},
   "outputs": [
    {
     "name": "stdout",
     "output_type": "stream",
     "text": [
      "Пропуски в датасете: df_acq\n"
     ]
    },
    {
     "data": {
      "text/html": [
       "<style  type=\"text/css\" >\n",
       "#T_047ac_row0_col0,#T_047ac_row0_col1,#T_047ac_row1_col0,#T_047ac_row1_col1,#T_047ac_row2_col0,#T_047ac_row2_col1,#T_047ac_row4_col0,#T_047ac_row4_col1,#T_047ac_row5_col0,#T_047ac_row5_col1{\n",
       "            background-color:  #3b4cc0;\n",
       "            color:  #f1f1f1;\n",
       "        }#T_047ac_row3_col0,#T_047ac_row3_col1{\n",
       "            background-color:  #b40426;\n",
       "            color:  #f1f1f1;\n",
       "        }</style><table id=\"T_047ac_\" ><thead>    <tr>        <th class=\"blank level0\" ></th>        <th class=\"col_heading level0 col0\" >Кол-во пропусков</th>        <th class=\"col_heading level0 col1\" >Доля пропусков</th>    </tr></thead><tbody>\n",
       "                <tr>\n",
       "                        <th id=\"T_047ac_level0_row0\" class=\"row_heading level0 row0\" >id</th>\n",
       "                        <td id=\"T_047ac_row0_col0\" class=\"data row0 col0\" >0</td>\n",
       "                        <td id=\"T_047ac_row0_col1\" class=\"data row0 col1\" >0.000000</td>\n",
       "            </tr>\n",
       "            <tr>\n",
       "                        <th id=\"T_047ac_level0_row1\" class=\"row_heading level0 row1\" >acquiring_company_id</th>\n",
       "                        <td id=\"T_047ac_row1_col0\" class=\"data row1 col0\" >0</td>\n",
       "                        <td id=\"T_047ac_row1_col1\" class=\"data row1 col1\" >0.000000</td>\n",
       "            </tr>\n",
       "            <tr>\n",
       "                        <th id=\"T_047ac_level0_row2\" class=\"row_heading level0 row2\" >acquired_company_id</th>\n",
       "                        <td id=\"T_047ac_row2_col0\" class=\"data row2 col0\" >0</td>\n",
       "                        <td id=\"T_047ac_row2_col1\" class=\"data row2 col1\" >0.000000</td>\n",
       "            </tr>\n",
       "            <tr>\n",
       "                        <th id=\"T_047ac_level0_row3\" class=\"row_heading level0 row3\" >term_code</th>\n",
       "                        <td id=\"T_047ac_row3_col0\" class=\"data row3 col0\" >7576</td>\n",
       "                        <td id=\"T_047ac_row3_col1\" class=\"data row3 col1\" >0.805400</td>\n",
       "            </tr>\n",
       "            <tr>\n",
       "                        <th id=\"T_047ac_level0_row4\" class=\"row_heading level0 row4\" >price_amount</th>\n",
       "                        <td id=\"T_047ac_row4_col0\" class=\"data row4 col0\" >0</td>\n",
       "                        <td id=\"T_047ac_row4_col1\" class=\"data row4 col1\" >0.000000</td>\n",
       "            </tr>\n",
       "            <tr>\n",
       "                        <th id=\"T_047ac_level0_row5\" class=\"row_heading level0 row5\" >acquired_at</th>\n",
       "                        <td id=\"T_047ac_row5_col0\" class=\"data row5 col0\" >29</td>\n",
       "                        <td id=\"T_047ac_row5_col1\" class=\"data row5 col1\" >0.003100</td>\n",
       "            </tr>\n",
       "    </tbody></table>"
      ],
      "text/plain": [
       "<pandas.io.formats.style.Styler at 0x7f6626cc03d0>"
      ]
     },
     "metadata": {},
     "output_type": "display_data"
    }
   ],
   "source": [
    "missing_df(df_acq)"
   ]
  },
  {
   "cell_type": "markdown",
   "metadata": {},
   "source": [
    "Наблюдается большое колличество пропусков в столбце `term_code`.\n",
    "\n",
    "Посмотрим внимательнее на уникальные значения содержащиеся в этом столбце"
   ]
  },
  {
   "cell_type": "code",
   "execution_count": 24,
   "metadata": {},
   "outputs": [
    {
     "name": "stdout",
     "output_type": "stream",
     "text": [
      "Уникальные значения в столбце:[term_code]\n",
      "['cash' 'cash_and_stock' 'stock' nan]\n",
      "\n"
     ]
    }
   ],
   "source": [
    "# Проверим уникальные значения в столбце term_code\n",
    "uniq_val(df_acq['term_code'])"
   ]
  },
  {
   "cell_type": "markdown",
   "metadata": {},
   "source": [
    "Очевидно что пропуски связаны либо с ошибкой заполнения, либо с отсутствием информации.\n",
    "\n",
    "Оставим пропуски без изменений"
   ]
  },
  {
   "cell_type": "markdown",
   "metadata": {},
   "source": [
    "#### Пропуски в `df_comp_rounds`"
   ]
  },
  {
   "cell_type": "code",
   "execution_count": 25,
   "metadata": {},
   "outputs": [
    {
     "name": "stdout",
     "output_type": "stream",
     "text": [
      "Пропуски в датасете: df_comp_rounds\n"
     ]
    },
    {
     "data": {
      "text/html": [
       "<style  type=\"text/css\" >\n",
       "#T_94edc_row0_col0,#T_94edc_row0_col1,#T_94edc_row1_col0,#T_94edc_row1_col1,#T_94edc_row3_col0,#T_94edc_row3_col1,#T_94edc_row9_col0,#T_94edc_row9_col1,#T_94edc_row10_col0,#T_94edc_row10_col1,#T_94edc_row11_col0,#T_94edc_row11_col1,#T_94edc_row12_col0,#T_94edc_row12_col1{\n",
       "            background-color:  #3b4cc0;\n",
       "            color:  #f1f1f1;\n",
       "        }#T_94edc_row2_col0,#T_94edc_row2_col1{\n",
       "            background-color:  #aec9fc;\n",
       "            color:  #000000;\n",
       "        }#T_94edc_row4_col0,#T_94edc_row4_col1{\n",
       "            background-color:  #dddcdc;\n",
       "            color:  #000000;\n",
       "        }#T_94edc_row5_col0,#T_94edc_row5_col1{\n",
       "            background-color:  #b40426;\n",
       "            color:  #f1f1f1;\n",
       "        }#T_94edc_row6_col0,#T_94edc_row6_col1{\n",
       "            background-color:  #a9c6fd;\n",
       "            color:  #000000;\n",
       "        }#T_94edc_row7_col0,#T_94edc_row7_col1{\n",
       "            background-color:  #edd2c3;\n",
       "            color:  #000000;\n",
       "        }#T_94edc_row8_col0,#T_94edc_row8_col1{\n",
       "            background-color:  #dfdbd9;\n",
       "            color:  #000000;\n",
       "        }#T_94edc_row13_col0,#T_94edc_row13_col1,#T_94edc_row14_col0,#T_94edc_row14_col1,#T_94edc_row16_col0,#T_94edc_row16_col1,#T_94edc_row17_col0,#T_94edc_row17_col1,#T_94edc_row18_col0,#T_94edc_row18_col1,#T_94edc_row19_col0,#T_94edc_row19_col1,#T_94edc_row20_col0,#T_94edc_row20_col1,#T_94edc_row21_col0,#T_94edc_row21_col1{\n",
       "            background-color:  #f29274;\n",
       "            color:  #000000;\n",
       "        }#T_94edc_row15_col0,#T_94edc_row15_col1{\n",
       "            background-color:  #f29072;\n",
       "            color:  #000000;\n",
       "        }</style><table id=\"T_94edc_\" ><thead>    <tr>        <th class=\"blank level0\" ></th>        <th class=\"col_heading level0 col0\" >Кол-во пропусков</th>        <th class=\"col_heading level0 col1\" >Доля пропусков</th>    </tr></thead><tbody>\n",
       "                <tr>\n",
       "                        <th id=\"T_94edc_level0_row0\" class=\"row_heading level0 row0\" >company_id</th>\n",
       "                        <td id=\"T_94edc_row0_col0\" class=\"data row0 col0\" >302</td>\n",
       "                        <td id=\"T_94edc_row0_col1\" class=\"data row0 col1\" >0.001400</td>\n",
       "            </tr>\n",
       "            <tr>\n",
       "                        <th id=\"T_94edc_level0_row1\" class=\"row_heading level0 row1\" >name</th>\n",
       "                        <td id=\"T_94edc_row1_col0\" class=\"data row1 col0\" >302</td>\n",
       "                        <td id=\"T_94edc_row1_col1\" class=\"data row1 col1\" >0.001400</td>\n",
       "            </tr>\n",
       "            <tr>\n",
       "                        <th id=\"T_94edc_level0_row2\" class=\"row_heading level0 row2\" >category_code</th>\n",
       "                        <td id=\"T_94edc_row2_col0\" class=\"data row2 col0\" >73888</td>\n",
       "                        <td id=\"T_94edc_row2_col1\" class=\"data row2 col1\" >0.339300</td>\n",
       "            </tr>\n",
       "            <tr>\n",
       "                        <th id=\"T_94edc_level0_row3\" class=\"row_heading level0 row3\" >status</th>\n",
       "                        <td id=\"T_94edc_row3_col0\" class=\"data row3 col0\" >302</td>\n",
       "                        <td id=\"T_94edc_row3_col1\" class=\"data row3 col1\" >0.001400</td>\n",
       "            </tr>\n",
       "            <tr>\n",
       "                        <th id=\"T_94edc_level0_row4\" class=\"row_heading level0 row4\" >founded_at</th>\n",
       "                        <td id=\"T_94edc_row4_col0\" class=\"data row4 col0\" >107818</td>\n",
       "                        <td id=\"T_94edc_row4_col1\" class=\"data row4 col1\" >0.495100</td>\n",
       "            </tr>\n",
       "            <tr>\n",
       "                        <th id=\"T_94edc_level0_row5\" class=\"row_heading level0 row5\" >closed_at</th>\n",
       "                        <td id=\"T_94edc_row5_col0\" class=\"data row5 col0\" >214325</td>\n",
       "                        <td id=\"T_94edc_row5_col1\" class=\"data row5 col1\" >0.984200</td>\n",
       "            </tr>\n",
       "            <tr>\n",
       "                        <th id=\"T_94edc_level0_row6\" class=\"row_heading level0 row6\" >domain</th>\n",
       "                        <td id=\"T_94edc_row6_col0\" class=\"data row6 col0\" >70615</td>\n",
       "                        <td id=\"T_94edc_row6_col1\" class=\"data row6 col1\" >0.324300</td>\n",
       "            </tr>\n",
       "            <tr>\n",
       "                        <th id=\"T_94edc_level0_row7\" class=\"row_heading level0 row7\" >network_username</th>\n",
       "                        <td id=\"T_94edc_row7_col0\" class=\"data row7 col0\" >122240</td>\n",
       "                        <td id=\"T_94edc_row7_col1\" class=\"data row7 col1\" >0.561300</td>\n",
       "            </tr>\n",
       "            <tr>\n",
       "                        <th id=\"T_94edc_level0_row8\" class=\"row_heading level0 row8\" >country_code</th>\n",
       "                        <td id=\"T_94edc_row8_col0\" class=\"data row8 col0\" >109167</td>\n",
       "                        <td id=\"T_94edc_row8_col1\" class=\"data row8 col1\" >0.501300</td>\n",
       "            </tr>\n",
       "            <tr>\n",
       "                        <th id=\"T_94edc_level0_row9\" class=\"row_heading level0 row9\" >investment_rounds</th>\n",
       "                        <td id=\"T_94edc_row9_col0\" class=\"data row9 col0\" >302</td>\n",
       "                        <td id=\"T_94edc_row9_col1\" class=\"data row9 col1\" >0.001400</td>\n",
       "            </tr>\n",
       "            <tr>\n",
       "                        <th id=\"T_94edc_level0_row10\" class=\"row_heading level0 row10\" >funding_rounds</th>\n",
       "                        <td id=\"T_94edc_row10_col0\" class=\"data row10 col0\" >302</td>\n",
       "                        <td id=\"T_94edc_row10_col1\" class=\"data row10 col1\" >0.001400</td>\n",
       "            </tr>\n",
       "            <tr>\n",
       "                        <th id=\"T_94edc_level0_row11\" class=\"row_heading level0 row11\" >funding_total</th>\n",
       "                        <td id=\"T_94edc_row11_col0\" class=\"data row11 col0\" >302</td>\n",
       "                        <td id=\"T_94edc_row11_col1\" class=\"data row11 col1\" >0.001400</td>\n",
       "            </tr>\n",
       "            <tr>\n",
       "                        <th id=\"T_94edc_level0_row12\" class=\"row_heading level0 row12\" >milestones</th>\n",
       "                        <td id=\"T_94edc_row12_col0\" class=\"data row12 col0\" >302</td>\n",
       "                        <td id=\"T_94edc_row12_col1\" class=\"data row12 col1\" >0.001400</td>\n",
       "            </tr>\n",
       "            <tr>\n",
       "                        <th id=\"T_94edc_level0_row13\" class=\"row_heading level0 row13\" >funding_round_id</th>\n",
       "                        <td id=\"T_94edc_row13_col0\" class=\"data row13 col0\" >164846</td>\n",
       "                        <td id=\"T_94edc_row13_col1\" class=\"data row13 col1\" >0.757000</td>\n",
       "            </tr>\n",
       "            <tr>\n",
       "                        <th id=\"T_94edc_level0_row14\" class=\"row_heading level0 row14\" >с_id</th>\n",
       "                        <td id=\"T_94edc_row14_col0\" class=\"data row14 col0\" >164846</td>\n",
       "                        <td id=\"T_94edc_row14_col1\" class=\"data row14 col1\" >0.757000</td>\n",
       "            </tr>\n",
       "            <tr>\n",
       "                        <th id=\"T_94edc_level0_row15\" class=\"row_heading level0 row15\" >funded_at</th>\n",
       "                        <td id=\"T_94edc_row15_col0\" class=\"data row15 col0\" >165094</td>\n",
       "                        <td id=\"T_94edc_row15_col1\" class=\"data row15 col1\" >0.758100</td>\n",
       "            </tr>\n",
       "            <tr>\n",
       "                        <th id=\"T_94edc_level0_row16\" class=\"row_heading level0 row16\" >funding_round_type</th>\n",
       "                        <td id=\"T_94edc_row16_col0\" class=\"data row16 col0\" >164846</td>\n",
       "                        <td id=\"T_94edc_row16_col1\" class=\"data row16 col1\" >0.757000</td>\n",
       "            </tr>\n",
       "            <tr>\n",
       "                        <th id=\"T_94edc_level0_row17\" class=\"row_heading level0 row17\" >raised_amount</th>\n",
       "                        <td id=\"T_94edc_row17_col0\" class=\"data row17 col0\" >164846</td>\n",
       "                        <td id=\"T_94edc_row17_col1\" class=\"data row17 col1\" >0.757000</td>\n",
       "            </tr>\n",
       "            <tr>\n",
       "                        <th id=\"T_94edc_level0_row18\" class=\"row_heading level0 row18\" >pre_money_valuation</th>\n",
       "                        <td id=\"T_94edc_row18_col0\" class=\"data row18 col0\" >164846</td>\n",
       "                        <td id=\"T_94edc_row18_col1\" class=\"data row18 col1\" >0.757000</td>\n",
       "            </tr>\n",
       "            <tr>\n",
       "                        <th id=\"T_94edc_level0_row19\" class=\"row_heading level0 row19\" >participants</th>\n",
       "                        <td id=\"T_94edc_row19_col0\" class=\"data row19 col0\" >164846</td>\n",
       "                        <td id=\"T_94edc_row19_col1\" class=\"data row19 col1\" >0.757000</td>\n",
       "            </tr>\n",
       "            <tr>\n",
       "                        <th id=\"T_94edc_level0_row20\" class=\"row_heading level0 row20\" >is_first_round</th>\n",
       "                        <td id=\"T_94edc_row20_col0\" class=\"data row20 col0\" >164846</td>\n",
       "                        <td id=\"T_94edc_row20_col1\" class=\"data row20 col1\" >0.757000</td>\n",
       "            </tr>\n",
       "            <tr>\n",
       "                        <th id=\"T_94edc_level0_row21\" class=\"row_heading level0 row21\" >is_last_round</th>\n",
       "                        <td id=\"T_94edc_row21_col0\" class=\"data row21 col0\" >164846</td>\n",
       "                        <td id=\"T_94edc_row21_col1\" class=\"data row21 col1\" >0.757000</td>\n",
       "            </tr>\n",
       "    </tbody></table>"
      ],
      "text/plain": [
       "<pandas.io.formats.style.Styler at 0x7f66244c3910>"
      ]
     },
     "metadata": {},
     "output_type": "display_data"
    }
   ],
   "source": [
    "# Строим таблицу с анализом пропусков в датасете\n",
    "missing_df(df_comp_rounds)"
   ]
  },
  {
   "cell_type": "markdown",
   "metadata": {},
   "source": [
    "---\n",
    "\n",
    "Рассмотрим пропуски в столбце `company_id`"
   ]
  },
  {
   "cell_type": "code",
   "execution_count": 26,
   "metadata": {},
   "outputs": [
    {
     "name": "stdout",
     "output_type": "stream",
     "text": [
      "<class 'pandas.core.frame.DataFrame'>\n",
      "Int64Index: 302 entries, 217472 to 217773\n",
      "Data columns (total 22 columns):\n",
      " #   Column               Non-Null Count  Dtype         \n",
      "---  ------               --------------  -----         \n",
      " 0   company_id           0 non-null      Int64         \n",
      " 1   name                 0 non-null      object        \n",
      " 2   category_code        0 non-null      object        \n",
      " 3   status               0 non-null      object        \n",
      " 4   founded_at           0 non-null      datetime64[ns]\n",
      " 5   closed_at            0 non-null      datetime64[ns]\n",
      " 6   domain               0 non-null      object        \n",
      " 7   network_username     0 non-null      object        \n",
      " 8   country_code         0 non-null      object        \n",
      " 9   investment_rounds    0 non-null      Int64         \n",
      " 10  funding_rounds       0 non-null      Int64         \n",
      " 11  funding_total        0 non-null      Int64         \n",
      " 12  milestones           0 non-null      Int64         \n",
      " 13  funding_round_id     302 non-null    Int64         \n",
      " 14  с_id                 302 non-null    float64       \n",
      " 15  funded_at            298 non-null    datetime64[ns]\n",
      " 16  funding_round_type   302 non-null    object        \n",
      " 17  raised_amount        302 non-null    float32       \n",
      " 18  pre_money_valuation  302 non-null    Int64         \n",
      " 19  participants         302 non-null    Int64         \n",
      " 20  is_first_round       302 non-null    Int64         \n",
      " 21  is_last_round        302 non-null    Int64         \n",
      "dtypes: Int64(10), datetime64[ns](3), float32(1), float64(1), object(7)\n",
      "memory usage: 56.0+ KB\n"
     ]
    }
   ],
   "source": [
    "#Отфильтруем строки и оставим только с пропуском в с толбце company_id\n",
    "df_comp_rounds[df_comp_rounds['company_id'].isnull()].info()"
   ]
  },
  {
   "cell_type": "markdown",
   "metadata": {},
   "source": [
    "Очевидно что пропуски в столбцах с 0 до 12 связаны между собой.\n",
    "\n",
    "Удалим эти строки"
   ]
  },
  {
   "cell_type": "code",
   "execution_count": 27,
   "metadata": {},
   "outputs": [
    {
     "name": "stdout",
     "output_type": "stream",
     "text": [
      "Пропуски в датасете: df_comp_rounds\n"
     ]
    },
    {
     "data": {
      "text/html": [
       "<style  type=\"text/css\" >\n",
       "#T_7123c_row0_col0,#T_7123c_row0_col1,#T_7123c_row1_col0,#T_7123c_row1_col1,#T_7123c_row3_col0,#T_7123c_row3_col1,#T_7123c_row9_col0,#T_7123c_row9_col1,#T_7123c_row10_col0,#T_7123c_row10_col1,#T_7123c_row11_col0,#T_7123c_row11_col1,#T_7123c_row12_col0,#T_7123c_row12_col1{\n",
       "            background-color:  #3b4cc0;\n",
       "            color:  #f1f1f1;\n",
       "        }#T_7123c_row2_col0,#T_7123c_row2_col1{\n",
       "            background-color:  #aec9fc;\n",
       "            color:  #000000;\n",
       "        }#T_7123c_row4_col0,#T_7123c_row4_col1{\n",
       "            background-color:  #dddcdc;\n",
       "            color:  #000000;\n",
       "        }#T_7123c_row5_col0,#T_7123c_row5_col1{\n",
       "            background-color:  #b40426;\n",
       "            color:  #f1f1f1;\n",
       "        }#T_7123c_row6_col0,#T_7123c_row6_col1{\n",
       "            background-color:  #a9c6fd;\n",
       "            color:  #000000;\n",
       "        }#T_7123c_row7_col0,#T_7123c_row7_col1{\n",
       "            background-color:  #edd2c3;\n",
       "            color:  #000000;\n",
       "        }#T_7123c_row8_col0,#T_7123c_row8_col1{\n",
       "            background-color:  #dfdbd9;\n",
       "            color:  #000000;\n",
       "        }#T_7123c_row13_col0,#T_7123c_row13_col1,#T_7123c_row14_col0,#T_7123c_row14_col1,#T_7123c_row15_col0,#T_7123c_row15_col1,#T_7123c_row16_col0,#T_7123c_row16_col1,#T_7123c_row17_col0,#T_7123c_row17_col1,#T_7123c_row18_col0,#T_7123c_row18_col1,#T_7123c_row19_col0,#T_7123c_row19_col1,#T_7123c_row20_col0,#T_7123c_row20_col1,#T_7123c_row21_col0,#T_7123c_row21_col1{\n",
       "            background-color:  #f29072;\n",
       "            color:  #000000;\n",
       "        }</style><table id=\"T_7123c_\" ><thead>    <tr>        <th class=\"blank level0\" ></th>        <th class=\"col_heading level0 col0\" >Кол-во пропусков</th>        <th class=\"col_heading level0 col1\" >Доля пропусков</th>    </tr></thead><tbody>\n",
       "                <tr>\n",
       "                        <th id=\"T_7123c_level0_row0\" class=\"row_heading level0 row0\" >company_id</th>\n",
       "                        <td id=\"T_7123c_row0_col0\" class=\"data row0 col0\" >0</td>\n",
       "                        <td id=\"T_7123c_row0_col1\" class=\"data row0 col1\" >0.000000</td>\n",
       "            </tr>\n",
       "            <tr>\n",
       "                        <th id=\"T_7123c_level0_row1\" class=\"row_heading level0 row1\" >name</th>\n",
       "                        <td id=\"T_7123c_row1_col0\" class=\"data row1 col0\" >0</td>\n",
       "                        <td id=\"T_7123c_row1_col1\" class=\"data row1 col1\" >0.000000</td>\n",
       "            </tr>\n",
       "            <tr>\n",
       "                        <th id=\"T_7123c_level0_row2\" class=\"row_heading level0 row2\" >category_code</th>\n",
       "                        <td id=\"T_7123c_row2_col0\" class=\"data row2 col0\" >73586</td>\n",
       "                        <td id=\"T_7123c_row2_col1\" class=\"data row2 col1\" >0.338400</td>\n",
       "            </tr>\n",
       "            <tr>\n",
       "                        <th id=\"T_7123c_level0_row3\" class=\"row_heading level0 row3\" >status</th>\n",
       "                        <td id=\"T_7123c_row3_col0\" class=\"data row3 col0\" >0</td>\n",
       "                        <td id=\"T_7123c_row3_col1\" class=\"data row3 col1\" >0.000000</td>\n",
       "            </tr>\n",
       "            <tr>\n",
       "                        <th id=\"T_7123c_level0_row4\" class=\"row_heading level0 row4\" >founded_at</th>\n",
       "                        <td id=\"T_7123c_row4_col0\" class=\"data row4 col0\" >107516</td>\n",
       "                        <td id=\"T_7123c_row4_col1\" class=\"data row4 col1\" >0.494400</td>\n",
       "            </tr>\n",
       "            <tr>\n",
       "                        <th id=\"T_7123c_level0_row5\" class=\"row_heading level0 row5\" >closed_at</th>\n",
       "                        <td id=\"T_7123c_row5_col0\" class=\"data row5 col0\" >214023</td>\n",
       "                        <td id=\"T_7123c_row5_col1\" class=\"data row5 col1\" >0.984100</td>\n",
       "            </tr>\n",
       "            <tr>\n",
       "                        <th id=\"T_7123c_level0_row6\" class=\"row_heading level0 row6\" >domain</th>\n",
       "                        <td id=\"T_7123c_row6_col0\" class=\"data row6 col0\" >70313</td>\n",
       "                        <td id=\"T_7123c_row6_col1\" class=\"data row6 col1\" >0.323300</td>\n",
       "            </tr>\n",
       "            <tr>\n",
       "                        <th id=\"T_7123c_level0_row7\" class=\"row_heading level0 row7\" >network_username</th>\n",
       "                        <td id=\"T_7123c_row7_col0\" class=\"data row7 col0\" >121938</td>\n",
       "                        <td id=\"T_7123c_row7_col1\" class=\"data row7 col1\" >0.560700</td>\n",
       "            </tr>\n",
       "            <tr>\n",
       "                        <th id=\"T_7123c_level0_row8\" class=\"row_heading level0 row8\" >country_code</th>\n",
       "                        <td id=\"T_7123c_row8_col0\" class=\"data row8 col0\" >108865</td>\n",
       "                        <td id=\"T_7123c_row8_col1\" class=\"data row8 col1\" >0.500600</td>\n",
       "            </tr>\n",
       "            <tr>\n",
       "                        <th id=\"T_7123c_level0_row9\" class=\"row_heading level0 row9\" >investment_rounds</th>\n",
       "                        <td id=\"T_7123c_row9_col0\" class=\"data row9 col0\" >0</td>\n",
       "                        <td id=\"T_7123c_row9_col1\" class=\"data row9 col1\" >0.000000</td>\n",
       "            </tr>\n",
       "            <tr>\n",
       "                        <th id=\"T_7123c_level0_row10\" class=\"row_heading level0 row10\" >funding_rounds</th>\n",
       "                        <td id=\"T_7123c_row10_col0\" class=\"data row10 col0\" >0</td>\n",
       "                        <td id=\"T_7123c_row10_col1\" class=\"data row10 col1\" >0.000000</td>\n",
       "            </tr>\n",
       "            <tr>\n",
       "                        <th id=\"T_7123c_level0_row11\" class=\"row_heading level0 row11\" >funding_total</th>\n",
       "                        <td id=\"T_7123c_row11_col0\" class=\"data row11 col0\" >0</td>\n",
       "                        <td id=\"T_7123c_row11_col1\" class=\"data row11 col1\" >0.000000</td>\n",
       "            </tr>\n",
       "            <tr>\n",
       "                        <th id=\"T_7123c_level0_row12\" class=\"row_heading level0 row12\" >milestones</th>\n",
       "                        <td id=\"T_7123c_row12_col0\" class=\"data row12 col0\" >0</td>\n",
       "                        <td id=\"T_7123c_row12_col1\" class=\"data row12 col1\" >0.000000</td>\n",
       "            </tr>\n",
       "            <tr>\n",
       "                        <th id=\"T_7123c_level0_row13\" class=\"row_heading level0 row13\" >funding_round_id</th>\n",
       "                        <td id=\"T_7123c_row13_col0\" class=\"data row13 col0\" >164846</td>\n",
       "                        <td id=\"T_7123c_row13_col1\" class=\"data row13 col1\" >0.758000</td>\n",
       "            </tr>\n",
       "            <tr>\n",
       "                        <th id=\"T_7123c_level0_row14\" class=\"row_heading level0 row14\" >с_id</th>\n",
       "                        <td id=\"T_7123c_row14_col0\" class=\"data row14 col0\" >164846</td>\n",
       "                        <td id=\"T_7123c_row14_col1\" class=\"data row14 col1\" >0.758000</td>\n",
       "            </tr>\n",
       "            <tr>\n",
       "                        <th id=\"T_7123c_level0_row15\" class=\"row_heading level0 row15\" >funded_at</th>\n",
       "                        <td id=\"T_7123c_row15_col0\" class=\"data row15 col0\" >165090</td>\n",
       "                        <td id=\"T_7123c_row15_col1\" class=\"data row15 col1\" >0.759100</td>\n",
       "            </tr>\n",
       "            <tr>\n",
       "                        <th id=\"T_7123c_level0_row16\" class=\"row_heading level0 row16\" >funding_round_type</th>\n",
       "                        <td id=\"T_7123c_row16_col0\" class=\"data row16 col0\" >164846</td>\n",
       "                        <td id=\"T_7123c_row16_col1\" class=\"data row16 col1\" >0.758000</td>\n",
       "            </tr>\n",
       "            <tr>\n",
       "                        <th id=\"T_7123c_level0_row17\" class=\"row_heading level0 row17\" >raised_amount</th>\n",
       "                        <td id=\"T_7123c_row17_col0\" class=\"data row17 col0\" >164846</td>\n",
       "                        <td id=\"T_7123c_row17_col1\" class=\"data row17 col1\" >0.758000</td>\n",
       "            </tr>\n",
       "            <tr>\n",
       "                        <th id=\"T_7123c_level0_row18\" class=\"row_heading level0 row18\" >pre_money_valuation</th>\n",
       "                        <td id=\"T_7123c_row18_col0\" class=\"data row18 col0\" >164846</td>\n",
       "                        <td id=\"T_7123c_row18_col1\" class=\"data row18 col1\" >0.758000</td>\n",
       "            </tr>\n",
       "            <tr>\n",
       "                        <th id=\"T_7123c_level0_row19\" class=\"row_heading level0 row19\" >participants</th>\n",
       "                        <td id=\"T_7123c_row19_col0\" class=\"data row19 col0\" >164846</td>\n",
       "                        <td id=\"T_7123c_row19_col1\" class=\"data row19 col1\" >0.758000</td>\n",
       "            </tr>\n",
       "            <tr>\n",
       "                        <th id=\"T_7123c_level0_row20\" class=\"row_heading level0 row20\" >is_first_round</th>\n",
       "                        <td id=\"T_7123c_row20_col0\" class=\"data row20 col0\" >164846</td>\n",
       "                        <td id=\"T_7123c_row20_col1\" class=\"data row20 col1\" >0.758000</td>\n",
       "            </tr>\n",
       "            <tr>\n",
       "                        <th id=\"T_7123c_level0_row21\" class=\"row_heading level0 row21\" >is_last_round</th>\n",
       "                        <td id=\"T_7123c_row21_col0\" class=\"data row21 col0\" >164846</td>\n",
       "                        <td id=\"T_7123c_row21_col1\" class=\"data row21 col1\" >0.758000</td>\n",
       "            </tr>\n",
       "    </tbody></table>"
      ],
      "text/plain": [
       "<pandas.io.formats.style.Styler at 0x7f6626b855e0>"
      ]
     },
     "metadata": {},
     "output_type": "display_data"
    },
    {
     "name": "stdout",
     "output_type": "stream",
     "text": [
      "Обработка датасета df_comp_rounds\n",
      "  Исходное кол-во строк:        217774\n",
      "  Кол-во строк после обработки: 217472\n",
      "  Удалено строк:                302 ( 0.14 %)\n"
     ]
    }
   ],
   "source": [
    "# Удаляем строки с пропусками в столбце company_id\n",
    "df_comp_rounds = df_comp_rounds.dropna(subset=['company_id'])\n",
    "\n",
    "# Проверяем что получилось\n",
    "missing_df(df_comp_rounds)\n",
    "\n",
    "# Проверим размер получившегося датасета\n",
    "df_difference (df_comp_rounds_orig, df_comp_rounds)"
   ]
  },
  {
   "cell_type": "markdown",
   "metadata": {},
   "source": [
    "---\n",
    "\n",
    "Рассмотрим пропуски в столбце `funding_round_id`"
   ]
  },
  {
   "cell_type": "code",
   "execution_count": 28,
   "metadata": {},
   "outputs": [
    {
     "name": "stdout",
     "output_type": "stream",
     "text": [
      "<class 'pandas.core.frame.DataFrame'>\n",
      "Int64Index: 164846 entries, 3 to 217468\n",
      "Data columns (total 22 columns):\n",
      " #   Column               Non-Null Count   Dtype         \n",
      "---  ------               --------------   -----         \n",
      " 0   company_id           164846 non-null  Int64         \n",
      " 1   name                 164846 non-null  object        \n",
      " 2   category_code        92723 non-null   object        \n",
      " 3   status               164846 non-null  object        \n",
      " 4   founded_at           66760 non-null   datetime64[ns]\n",
      " 5   closed_at            506 non-null     datetime64[ns]\n",
      " 6   domain               96374 non-null   object        \n",
      " 7   network_username     61521 non-null   object        \n",
      " 8   country_code         58425 non-null   object        \n",
      " 9   investment_rounds    164846 non-null  Int64         \n",
      " 10  funding_rounds       164846 non-null  Int64         \n",
      " 11  funding_total        164846 non-null  Int64         \n",
      " 12  milestones           164846 non-null  Int64         \n",
      " 13  funding_round_id     0 non-null       Int64         \n",
      " 14  с_id                 0 non-null       float64       \n",
      " 15  funded_at            0 non-null       datetime64[ns]\n",
      " 16  funding_round_type   0 non-null       object        \n",
      " 17  raised_amount        0 non-null       float32       \n",
      " 18  pre_money_valuation  0 non-null       Int64         \n",
      " 19  participants         0 non-null       Int64         \n",
      " 20  is_first_round       0 non-null       Int64         \n",
      " 21  is_last_round        0 non-null       Int64         \n",
      "dtypes: Int64(10), datetime64[ns](3), float32(1), float64(1), object(7)\n",
      "memory usage: 29.9+ MB\n"
     ]
    }
   ],
   "source": [
    "#Отфильтруем строки и оставим только с пропуском в с толбце funding_round_id\n",
    "df_comp_rounds[df_comp_rounds['funding_round_id'].isnull()].info()"
   ]
  },
  {
   "cell_type": "markdown",
   "metadata": {},
   "source": [
    "В столбцах с 13 по 21 прослеживается взимосвязь.\n",
    "\n",
    "Скорее всего это связано с отсутствием финансирования этих компаний.\n",
    "\n",
    "Оставим пропуски в этих столбцах как есть\n",
    "\n",
    "---"
   ]
  },
  {
   "cell_type": "markdown",
   "metadata": {},
   "source": [
    "Рассмотрим пропуски в столбцах `founded_at`, `category_code`, `country_code`.\n",
    "\n",
    "Скорее всего пропуски связаны с некорректным заполнением информации либо либо отсутстыием раундов финансирования у компаний\n",
    "\n",
    "---"
   ]
  },
  {
   "cell_type": "markdown",
   "metadata": {},
   "source": [
    "Рассмотрим пропуски в столбце `closed_at`\n",
    "\n",
    "Пропуски в этом столбце свидетельствуют о том, что компании на момент исследования не закрыта.\n",
    "\n",
    "---"
   ]
  },
  {
   "cell_type": "markdown",
   "metadata": {},
   "source": [
    "Рассмотрим пропуски в столбце `domain`, `network_username`\n",
    "\n",
    "Пропуски в этом столбце свидетельствуют о том, что компании либо некорректно заполнила данные, либо отсутствует в сети интернет."
   ]
  },
  {
   "cell_type": "markdown",
   "metadata": {},
   "source": [
    "#### Пропуски в `df_education`"
   ]
  },
  {
   "cell_type": "code",
   "execution_count": 29,
   "metadata": {},
   "outputs": [
    {
     "name": "stdout",
     "output_type": "stream",
     "text": [
      "Пропуски в датасете: df_education\n"
     ]
    },
    {
     "data": {
      "text/html": [
       "<style  type=\"text/css\" >\n",
       "#T_cf807_row0_col0,#T_cf807_row0_col1,#T_cf807_row1_col0,#T_cf807_row1_col1,#T_cf807_row2_col0,#T_cf807_row2_col1{\n",
       "            background-color:  #3b4cc0;\n",
       "            color:  #f1f1f1;\n",
       "        }#T_cf807_row3_col0,#T_cf807_row3_col1{\n",
       "            background-color:  #b40426;\n",
       "            color:  #f1f1f1;\n",
       "        }</style><table id=\"T_cf807_\" ><thead>    <tr>        <th class=\"blank level0\" ></th>        <th class=\"col_heading level0 col0\" >Кол-во пропусков</th>        <th class=\"col_heading level0 col1\" >Доля пропусков</th>    </tr></thead><tbody>\n",
       "                <tr>\n",
       "                        <th id=\"T_cf807_level0_row0\" class=\"row_heading level0 row0\" >id</th>\n",
       "                        <td id=\"T_cf807_row0_col0\" class=\"data row0 col0\" >0</td>\n",
       "                        <td id=\"T_cf807_row0_col1\" class=\"data row0 col1\" >0.000000</td>\n",
       "            </tr>\n",
       "            <tr>\n",
       "                        <th id=\"T_cf807_level0_row1\" class=\"row_heading level0 row1\" >person_id</th>\n",
       "                        <td id=\"T_cf807_row1_col0\" class=\"data row1 col0\" >0</td>\n",
       "                        <td id=\"T_cf807_row1_col1\" class=\"data row1 col1\" >0.000000</td>\n",
       "            </tr>\n",
       "            <tr>\n",
       "                        <th id=\"T_cf807_level0_row2\" class=\"row_heading level0 row2\" >institution</th>\n",
       "                        <td id=\"T_cf807_row2_col0\" class=\"data row2 col0\" >55</td>\n",
       "                        <td id=\"T_cf807_row2_col1\" class=\"data row2 col1\" >0.000500</td>\n",
       "            </tr>\n",
       "            <tr>\n",
       "                        <th id=\"T_cf807_level0_row3\" class=\"row_heading level0 row3\" >graduated_at</th>\n",
       "                        <td id=\"T_cf807_row3_col0\" class=\"data row3 col0\" >51556</td>\n",
       "                        <td id=\"T_cf807_row3_col1\" class=\"data row3 col1\" >0.470400</td>\n",
       "            </tr>\n",
       "    </tbody></table>"
      ],
      "text/plain": [
       "<pandas.io.formats.style.Styler at 0x7f66244c3910>"
      ]
     },
     "metadata": {},
     "output_type": "display_data"
    }
   ],
   "source": [
    "# Строим таблицу с анализом пропусков в датасете\n",
    "missing_df(df_education)"
   ]
  },
  {
   "cell_type": "markdown",
   "metadata": {},
   "source": [
    "Пропуски в столбцах `instituition` и `graduated_at` связаны с неполным заполнением данных о сотрудниках.\n",
    "\n",
    "Возможно сотрудники отказались заполнять эти данные"
   ]
  },
  {
   "cell_type": "markdown",
   "metadata": {},
   "source": [
    "#### Пропуски в `df_people`"
   ]
  },
  {
   "cell_type": "code",
   "execution_count": 30,
   "metadata": {},
   "outputs": [
    {
     "name": "stdout",
     "output_type": "stream",
     "text": [
      "Пропуски в датасете: df_people\n"
     ]
    },
    {
     "data": {
      "text/html": [
       "<style  type=\"text/css\" >\n",
       "#T_4802d_row0_col0,#T_4802d_row0_col1,#T_4802d_row1_col0,#T_4802d_row1_col1,#T_4802d_row2_col0,#T_4802d_row2_col1{\n",
       "            background-color:  #3b4cc0;\n",
       "            color:  #f1f1f1;\n",
       "        }#T_4802d_row3_col0,#T_4802d_row3_col1{\n",
       "            background-color:  #b40426;\n",
       "            color:  #f1f1f1;\n",
       "        }#T_4802d_row4_col0,#T_4802d_row4_col1{\n",
       "            background-color:  #bb1b2c;\n",
       "            color:  #f1f1f1;\n",
       "        }</style><table id=\"T_4802d_\" ><thead>    <tr>        <th class=\"blank level0\" ></th>        <th class=\"col_heading level0 col0\" >Кол-во пропусков</th>        <th class=\"col_heading level0 col1\" >Доля пропусков</th>    </tr></thead><tbody>\n",
       "                <tr>\n",
       "                        <th id=\"T_4802d_level0_row0\" class=\"row_heading level0 row0\" >id</th>\n",
       "                        <td id=\"T_4802d_row0_col0\" class=\"data row0 col0\" >0</td>\n",
       "                        <td id=\"T_4802d_row0_col1\" class=\"data row0 col1\" >0.000000</td>\n",
       "            </tr>\n",
       "            <tr>\n",
       "                        <th id=\"T_4802d_level0_row1\" class=\"row_heading level0 row1\" >first_name</th>\n",
       "                        <td id=\"T_4802d_row1_col0\" class=\"data row1 col0\" >5</td>\n",
       "                        <td id=\"T_4802d_row1_col1\" class=\"data row1 col1\" >0.000000</td>\n",
       "            </tr>\n",
       "            <tr>\n",
       "                        <th id=\"T_4802d_level0_row2\" class=\"row_heading level0 row2\" >last_name</th>\n",
       "                        <td id=\"T_4802d_row2_col0\" class=\"data row2 col0\" >1</td>\n",
       "                        <td id=\"T_4802d_row2_col1\" class=\"data row2 col1\" >0.000000</td>\n",
       "            </tr>\n",
       "            <tr>\n",
       "                        <th id=\"T_4802d_level0_row3\" class=\"row_heading level0 row3\" >company_id</th>\n",
       "                        <td id=\"T_4802d_row3_col0\" class=\"data row3 col0\" >192094</td>\n",
       "                        <td id=\"T_4802d_row3_col1\" class=\"data row3 col1\" >0.847300</td>\n",
       "            </tr>\n",
       "            <tr>\n",
       "                        <th id=\"T_4802d_level0_row4\" class=\"row_heading level0 row4\" >network_username</th>\n",
       "                        <td id=\"T_4802d_row4_col0\" class=\"data row4 col0\" >187842</td>\n",
       "                        <td id=\"T_4802d_row4_col1\" class=\"data row4 col1\" >0.828600</td>\n",
       "            </tr>\n",
       "    </tbody></table>"
      ],
      "text/plain": [
       "<pandas.io.formats.style.Styler at 0x7f669aa20c40>"
      ]
     },
     "metadata": {},
     "output_type": "display_data"
    }
   ],
   "source": [
    "# Строим таблицу с анализом пропусков в датасете\n",
    "missing_df(df_people)"
   ]
  },
  {
   "cell_type": "markdown",
   "metadata": {},
   "source": [
    "Пропуски в столбцах `first_name` и `last_name` связаны с неполным заполнением данных о сотрудниках.\n",
    "\n",
    "Скорее всего данные внесены ошибочно.\n",
    "\n",
    "Так как кол-во пропусков невелико, можно удалить эти строки из датасета."
   ]
  },
  {
   "cell_type": "code",
   "execution_count": 31,
   "metadata": {},
   "outputs": [
    {
     "name": "stdout",
     "output_type": "stream",
     "text": [
      "Пропуски в датасете: df_people\n"
     ]
    },
    {
     "data": {
      "text/html": [
       "<style  type=\"text/css\" >\n",
       "#T_78b99_row0_col0,#T_78b99_row0_col1,#T_78b99_row1_col0,#T_78b99_row1_col1,#T_78b99_row2_col0,#T_78b99_row2_col1{\n",
       "            background-color:  #3b4cc0;\n",
       "            color:  #f1f1f1;\n",
       "        }#T_78b99_row3_col0,#T_78b99_row3_col1{\n",
       "            background-color:  #b40426;\n",
       "            color:  #f1f1f1;\n",
       "        }#T_78b99_row4_col0,#T_78b99_row4_col1{\n",
       "            background-color:  #bb1b2c;\n",
       "            color:  #f1f1f1;\n",
       "        }</style><table id=\"T_78b99_\" ><thead>    <tr>        <th class=\"blank level0\" ></th>        <th class=\"col_heading level0 col0\" >Кол-во пропусков</th>        <th class=\"col_heading level0 col1\" >Доля пропусков</th>    </tr></thead><tbody>\n",
       "                <tr>\n",
       "                        <th id=\"T_78b99_level0_row0\" class=\"row_heading level0 row0\" >id</th>\n",
       "                        <td id=\"T_78b99_row0_col0\" class=\"data row0 col0\" >0</td>\n",
       "                        <td id=\"T_78b99_row0_col1\" class=\"data row0 col1\" >0.000000</td>\n",
       "            </tr>\n",
       "            <tr>\n",
       "                        <th id=\"T_78b99_level0_row1\" class=\"row_heading level0 row1\" >first_name</th>\n",
       "                        <td id=\"T_78b99_row1_col0\" class=\"data row1 col0\" >0</td>\n",
       "                        <td id=\"T_78b99_row1_col1\" class=\"data row1 col1\" >0.000000</td>\n",
       "            </tr>\n",
       "            <tr>\n",
       "                        <th id=\"T_78b99_level0_row2\" class=\"row_heading level0 row2\" >last_name</th>\n",
       "                        <td id=\"T_78b99_row2_col0\" class=\"data row2 col0\" >0</td>\n",
       "                        <td id=\"T_78b99_row2_col1\" class=\"data row2 col1\" >0.000000</td>\n",
       "            </tr>\n",
       "            <tr>\n",
       "                        <th id=\"T_78b99_level0_row3\" class=\"row_heading level0 row3\" >company_id</th>\n",
       "                        <td id=\"T_78b99_row3_col0\" class=\"data row3 col0\" >192090</td>\n",
       "                        <td id=\"T_78b99_row3_col1\" class=\"data row3 col1\" >0.847300</td>\n",
       "            </tr>\n",
       "            <tr>\n",
       "                        <th id=\"T_78b99_level0_row4\" class=\"row_heading level0 row4\" >network_username</th>\n",
       "                        <td id=\"T_78b99_row4_col0\" class=\"data row4 col0\" >187837</td>\n",
       "                        <td id=\"T_78b99_row4_col1\" class=\"data row4 col1\" >0.828600</td>\n",
       "            </tr>\n",
       "    </tbody></table>"
      ],
      "text/plain": [
       "<pandas.io.formats.style.Styler at 0x7f66981379d0>"
      ]
     },
     "metadata": {},
     "output_type": "display_data"
    },
    {
     "name": "stdout",
     "output_type": "stream",
     "text": [
      "Обработка датасета df_people\n",
      "  Исходное кол-во строк:        226709\n",
      "  Кол-во строк после обработки: 226704\n",
      "  Удалено строк:                5 ( 0.0 %)\n"
     ]
    }
   ],
   "source": [
    "# Удаляем строки с пропусками в столбце company_id\n",
    "df_people = df_people.dropna(subset=['first_name'])\n",
    "\n",
    "# Проверяем что получилось\n",
    "missing_df(df_people)\n",
    "\n",
    "# Проверим размер получившегося датасета\n",
    "df_difference (df_people_orig, df_people)"
   ]
  },
  {
   "cell_type": "markdown",
   "metadata": {},
   "source": [
    "---\n",
    "\n",
    "Рассмотрим пропуски в столбце `company_id`, `network_username`.\n",
    "\n",
    "Пропуски в этом столбце свидетельствуют о том, что данные заполнены некорректно."
   ]
  },
  {
   "cell_type": "markdown",
   "metadata": {},
   "source": [
    "#### Пропуски в `df_degrees`"
   ]
  },
  {
   "cell_type": "code",
   "execution_count": 32,
   "metadata": {},
   "outputs": [
    {
     "name": "stdout",
     "output_type": "stream",
     "text": [
      "Пропуски в датасете: df_degrees\n"
     ]
    },
    {
     "data": {
      "text/html": [
       "<style  type=\"text/css\" >\n",
       "#T_640bc_row0_col0,#T_640bc_row0_col1,#T_640bc_row1_col0,#T_640bc_row1_col1,#T_640bc_row4_col0,#T_640bc_row4_col1{\n",
       "            background-color:  #3b4cc0;\n",
       "            color:  #f1f1f1;\n",
       "        }#T_640bc_row2_col0,#T_640bc_row2_col1{\n",
       "            background-color:  #bfd3f6;\n",
       "            color:  #000000;\n",
       "        }#T_640bc_row3_col0,#T_640bc_row3_col1{\n",
       "            background-color:  #b40426;\n",
       "            color:  #f1f1f1;\n",
       "        }</style><table id=\"T_640bc_\" ><thead>    <tr>        <th class=\"blank level0\" ></th>        <th class=\"col_heading level0 col0\" >Кол-во пропусков</th>        <th class=\"col_heading level0 col1\" >Доля пропусков</th>    </tr></thead><tbody>\n",
       "                <tr>\n",
       "                        <th id=\"T_640bc_level0_row0\" class=\"row_heading level0 row0\" >id</th>\n",
       "                        <td id=\"T_640bc_row0_col0\" class=\"data row0 col0\" >0</td>\n",
       "                        <td id=\"T_640bc_row0_col1\" class=\"data row0 col1\" >0.000000</td>\n",
       "            </tr>\n",
       "            <tr>\n",
       "                        <th id=\"T_640bc_level0_row1\" class=\"row_heading level0 row1\" >object_id</th>\n",
       "                        <td id=\"T_640bc_row1_col0\" class=\"data row1 col0\" >0</td>\n",
       "                        <td id=\"T_640bc_row1_col1\" class=\"data row1 col1\" >0.000000</td>\n",
       "            </tr>\n",
       "            <tr>\n",
       "                        <th id=\"T_640bc_level0_row2\" class=\"row_heading level0 row2\" >degree_type</th>\n",
       "                        <td id=\"T_640bc_row2_col0\" class=\"data row2 col0\" >11218</td>\n",
       "                        <td id=\"T_640bc_row2_col1\" class=\"data row2 col1\" >0.102300</td>\n",
       "            </tr>\n",
       "            <tr>\n",
       "                        <th id=\"T_640bc_level0_row3\" class=\"row_heading level0 row3\" >subject</th>\n",
       "                        <td id=\"T_640bc_row3_col0\" class=\"data row3 col0\" >28312</td>\n",
       "                        <td id=\"T_640bc_row3_col1\" class=\"data row3 col1\" >0.258300</td>\n",
       "            </tr>\n",
       "            <tr>\n",
       "                        <th id=\"T_640bc_level0_row4\" class=\"row_heading level0 row4\" >person_id</th>\n",
       "                        <td id=\"T_640bc_row4_col0\" class=\"data row4 col0\" >0</td>\n",
       "                        <td id=\"T_640bc_row4_col1\" class=\"data row4 col1\" >0.000000</td>\n",
       "            </tr>\n",
       "    </tbody></table>"
      ],
      "text/plain": [
       "<pandas.io.formats.style.Styler at 0x7f6626cc04c0>"
      ]
     },
     "metadata": {},
     "output_type": "display_data"
    }
   ],
   "source": [
    "# Строим таблицу с анализом пропусков в датасете\n",
    "missing_df(df_degrees)"
   ]
  },
  {
   "cell_type": "markdown",
   "metadata": {},
   "source": [
    "Рассмотрим пропуски в столбце `degree_type`, `subject`.\n",
    "\n",
    "Пропуски в этом столбце свидетельствуют о том, что данные заполнены некорректно."
   ]
  },
  {
   "cell_type": "markdown",
   "metadata": {},
   "source": [
    "#### Промежуточный вывод по Шагу 1\n",
    "Пропуски данных:\n",
    "- Удалены явно некорректные строки из датасетов\n",
    "    -  `df_comp_rounds` - 302 строк\n",
    "    -  `df_people` - 9 строк\n",
    "- Проверены пропуски во всех датасетах. Пропусков много и скорее всего они связаны с некорректным заполнением данных, либо по объективным причиным данные отсутствуют. Для исключения искажения данных пропуски оставлены как есть\n",
    "\n",
    "Полнота данных:\n",
    "- В датасете `df_acq` явно не хватает данных по варианту расчета (80 % пропусков). Это може привести к некорректному анализу по типу расчета\n",
    "- В датасете `df_comp_rounds`:\n",
    "    - категория области деятельности компании (33% пропусков). Это может исказит аналитику по областям деятельности компаний\n",
    "    - дата инвистировани (49% пропусков). Очень высокий показатель который может повлиять на аналитику распределения инвистирования по годам\n",
    "    - официальный сайт компании (32% пропусков) и ник компании в сети (56% пропусков) не должен никак сказаться на аналитике. Можно принебречь этими значениями\n",
    "    - код страны (50% пропусков). Повлияет на аналитику распределения компаний по странам\n",
    "    - пропуски по остальным столбцам (76% пропусков) объяснимы\n",
    "- В датасете `df_education` значительное колличество пропусков по столбцу даты получения образования (47% пропусков). Не должно повлиять на поставленные задачи\n",
    "- В датасете `df_people` значительное кол-во пропусков (84% пропусков) о принадлежности сотрудника к компании. Может повлиять на аналитику компаний, связанную с сотрудниками\n",
    "- В датасете `df_degrees` значительное колличество пропусков в информации об образовании сторудников (10% пропусков) и специальности сотрудников (26% пропусков). Может сильно повлиять на аналитику компаний связанную с уровнем образованности сотрудников"
   ]
  },
  {
   "cell_type": "markdown",
   "metadata": {
    "id": "u60cHsn6rJg1"
   },
   "source": [
    "## Шаг 2. Предобработка данных, предварительное исследование"
   ]
  },
  {
   "cell_type": "markdown",
   "metadata": {
    "id": "g2bHIIjcrJg1"
   },
   "source": [
    "\n",
    "### Раунды финансирования по годам"
   ]
  },
  {
   "cell_type": "code",
   "execution_count": 33,
   "metadata": {
    "id": "Cf5IjfOQrJg1",
    "scrolled": true,
    "vscode": {
     "languageId": "plaintext"
    }
   },
   "outputs": [
    {
     "name": "stderr",
     "output_type": "stream",
     "text": [
      "/tmp/ipykernel_292/1122991442.py:20: SettingWithCopyWarning: \n",
      "A value is trying to be set on a copy of a slice from a DataFrame.\n",
      "Try using .loc[row_indexer,col_indexer] = value instead\n",
      "\n",
      "See the caveats in the documentation: https://pandas.pydata.org/pandas-docs/stable/user_guide/indexing.html#returning-a-view-versus-a-copy\n",
      "  filtred_pivot_comp_rounds['roll_mean'] = filtred_pivot_comp_rounds[('median', 'raised  amount')].rolling(window=3).mean()\n"
     ]
    },
    {
     "data": {
      "text/html": [
       "<div>\n",
       "<style scoped>\n",
       "    .dataframe tbody tr th:only-of-type {\n",
       "        vertical-align: middle;\n",
       "    }\n",
       "\n",
       "    .dataframe tbody tr th {\n",
       "        vertical-align: top;\n",
       "    }\n",
       "\n",
       "    .dataframe thead tr th {\n",
       "        text-align: left;\n",
       "    }\n",
       "\n",
       "    .dataframe thead tr:last-of-type th {\n",
       "        text-align: right;\n",
       "    }\n",
       "</style>\n",
       "<table border=\"1\" class=\"dataframe\">\n",
       "  <thead>\n",
       "    <tr>\n",
       "      <th></th>\n",
       "      <th>count</th>\n",
       "      <th>median</th>\n",
       "      <th>roll_mean</th>\n",
       "    </tr>\n",
       "    <tr>\n",
       "      <th></th>\n",
       "      <th>raised  amount</th>\n",
       "      <th>raised  amount</th>\n",
       "      <th></th>\n",
       "    </tr>\n",
       "    <tr>\n",
       "      <th>funded_at_year</th>\n",
       "      <th></th>\n",
       "      <th></th>\n",
       "      <th></th>\n",
       "    </tr>\n",
       "  </thead>\n",
       "  <tbody>\n",
       "    <tr>\n",
       "      <th>1999</th>\n",
       "      <td>76</td>\n",
       "      <td>2000000.0</td>\n",
       "      <td>NaN</td>\n",
       "    </tr>\n",
       "    <tr>\n",
       "      <th>2000</th>\n",
       "      <td>125</td>\n",
       "      <td>4200000.0</td>\n",
       "      <td>NaN</td>\n",
       "    </tr>\n",
       "    <tr>\n",
       "      <th>2001</th>\n",
       "      <td>96</td>\n",
       "      <td>3000000.0</td>\n",
       "      <td>3.066667e+06</td>\n",
       "    </tr>\n",
       "    <tr>\n",
       "      <th>2002</th>\n",
       "      <td>116</td>\n",
       "      <td>4200000.0</td>\n",
       "      <td>3.800000e+06</td>\n",
       "    </tr>\n",
       "    <tr>\n",
       "      <th>2003</th>\n",
       "      <td>159</td>\n",
       "      <td>3000000.0</td>\n",
       "      <td>3.400000e+06</td>\n",
       "    </tr>\n",
       "    <tr>\n",
       "      <th>2004</th>\n",
       "      <td>291</td>\n",
       "      <td>5000000.0</td>\n",
       "      <td>4.066667e+06</td>\n",
       "    </tr>\n",
       "    <tr>\n",
       "      <th>2005</th>\n",
       "      <td>1633</td>\n",
       "      <td>5500000.0</td>\n",
       "      <td>4.500000e+06</td>\n",
       "    </tr>\n",
       "    <tr>\n",
       "      <th>2006</th>\n",
       "      <td>2436</td>\n",
       "      <td>5000000.0</td>\n",
       "      <td>5.166667e+06</td>\n",
       "    </tr>\n",
       "    <tr>\n",
       "      <th>2007</th>\n",
       "      <td>3279</td>\n",
       "      <td>3973320.0</td>\n",
       "      <td>4.824440e+06</td>\n",
       "    </tr>\n",
       "    <tr>\n",
       "      <th>2008</th>\n",
       "      <td>3774</td>\n",
       "      <td>3110000.0</td>\n",
       "      <td>4.027773e+06</td>\n",
       "    </tr>\n",
       "    <tr>\n",
       "      <th>2009</th>\n",
       "      <td>4151</td>\n",
       "      <td>2000000.0</td>\n",
       "      <td>3.027773e+06</td>\n",
       "    </tr>\n",
       "    <tr>\n",
       "      <th>2010</th>\n",
       "      <td>6221</td>\n",
       "      <td>1602500.0</td>\n",
       "      <td>2.237500e+06</td>\n",
       "    </tr>\n",
       "    <tr>\n",
       "      <th>2011</th>\n",
       "      <td>9204</td>\n",
       "      <td>1200000.0</td>\n",
       "      <td>1.600833e+06</td>\n",
       "    </tr>\n",
       "    <tr>\n",
       "      <th>2012</th>\n",
       "      <td>9970</td>\n",
       "      <td>1000000.0</td>\n",
       "      <td>1.267500e+06</td>\n",
       "    </tr>\n",
       "    <tr>\n",
       "      <th>2013</th>\n",
       "      <td>11072</td>\n",
       "      <td>1200000.0</td>\n",
       "      <td>1.133333e+06</td>\n",
       "    </tr>\n",
       "  </tbody>\n",
       "</table>\n",
       "</div>"
      ],
      "text/plain": [
       "                        count         median     roll_mean\n",
       "               raised  amount raised  amount              \n",
       "funded_at_year                                            \n",
       "1999                       76      2000000.0           NaN\n",
       "2000                      125      4200000.0           NaN\n",
       "2001                       96      3000000.0  3.066667e+06\n",
       "2002                      116      4200000.0  3.800000e+06\n",
       "2003                      159      3000000.0  3.400000e+06\n",
       "2004                      291      5000000.0  4.066667e+06\n",
       "2005                     1633      5500000.0  4.500000e+06\n",
       "2006                     2436      5000000.0  5.166667e+06\n",
       "2007                     3279      3973320.0  4.824440e+06\n",
       "2008                     3774      3110000.0  4.027773e+06\n",
       "2009                     4151      2000000.0  3.027773e+06\n",
       "2010                     6221      1602500.0  2.237500e+06\n",
       "2011                     9204      1200000.0  1.600833e+06\n",
       "2012                     9970      1000000.0  1.267500e+06\n",
       "2013                    11072      1200000.0  1.133333e+06"
      ]
     },
     "metadata": {},
     "output_type": "display_data"
    },
    {
     "name": "stderr",
     "output_type": "stream",
     "text": [
      "/tmp/ipykernel_292/1122991442.py:55: UserWarning: FixedFormatter should only be used together with FixedLocator\n",
      "  plt.gca().set_yticklabels(['{:.0f}'.format(x) for x in current_values])\n"
     ]
    },
    {
     "data": {
      "text/plain": [
       "<Figure size 432x360 with 0 Axes>"
      ]
     },
     "metadata": {},
     "output_type": "display_data"
    },
    {
     "data": {
      "image/png": "[encoded data removed]",
      "text/plain": [
       "<Figure size 432x288 with 1 Axes>"
      ]
     },
     "metadata": {
      "needs_background": "light"
     },
     "output_type": "display_data"
    }
   ],
   "source": [
    "# Создаем копию исходного датасета\n",
    "df_temp = df_comp_rounds_orig.copy()\n",
    "# Добавляем столбец, в котором выделяем год из столбца 'funded  at'\n",
    "df_temp['funded_at_year'] = df_temp['funded  at'].astype('datetime64[ns]').dt.year\n",
    "# Преобразовываем тип данных в integer\n",
    "df_temp['funded_at_year'] = pd.array(df_temp['funded_at_year'], dtype=pd.Int64Dtype())\n",
    "\n",
    "# Создаем сводную тоаблицу по годам финансирования.\n",
    "    # Считаем колличество этапов финансирования и медиану по каждому году\n",
    "pivot_comp_rounds = pd.pivot_table(\n",
    "    df_temp,\n",
    "    index='funded_at_year',\n",
    "    values='raised  amount',\n",
    "    aggfunc=['count',  'median'])\n",
    "\n",
    "# Фильтруем сводную таблицу и оставляем только года в которых колличество этапов финансирования больше 50\n",
    "filtred_pivot_comp_rounds = pivot_comp_rounds[(pivot_comp_rounds[( 'count', 'raised  amount')] > 50 )]\n",
    "\n",
    "# Подсчитываем скользящую среднюю и добавляемс в новый столбце\n",
    "filtred_pivot_comp_rounds['roll_mean'] = filtred_pivot_comp_rounds[('median', 'raised  amount')].rolling(window=3).mean()\n",
    "\n",
    "display(filtred_pivot_comp_rounds)\n",
    "\n",
    "# Строим график\n",
    "# Устанавливаем размеры графика\n",
    "plt.figure(figsize=(6, 5))\n",
    "\n",
    "# Строим гистограмму \n",
    "ax=filtred_pivot_comp_rounds.plot(\n",
    "    kind='bar',\n",
    "    y=( 'median', 'raised  amount'),\n",
    "    legend = True,\n",
    "    rot=90\n",
    "    )\n",
    "\n",
    "# сторим скользящую среднюю\n",
    "filtred_pivot_comp_rounds.plot(\n",
    "    kind='line',\n",
    "    y='roll_mean',\n",
    "    color='red',\n",
    "    ax=ax,\n",
    "    legend = True,\n",
    "    use_index=False,\n",
    "    rot=90\n",
    "    )\n",
    "\n",
    "\n",
    "plt.xlabel('Год финансирования')\n",
    "plt.legend(title='')\n",
    "plt.ylabel('Типичная сумма финансирования, $')\n",
    "plt.title('Динамика типичного размера средств в рамках одного раунда финансирования')\n",
    "\n",
    "# Настраиваем отображение значений пот оси Y\n",
    "current_values = plt.gca().get_yticks()\n",
    "plt.gca().set_yticklabels(['{:.0f}'.format(x) for x in current_values])\n",
    "\n",
    "plt.show()"
   ]
  },
  {
   "cell_type": "markdown",
   "metadata": {
    "id": "8Fbz6KmzFdYP"
   },
   "source": [
    "#### Выводы\n",
    "На основе сводной таблицы и построенной диаграммы можно сделать следующие выводы:\n",
    "- В 2005 году типичный размер собранных в рамках одного раунда средств был максимален?\n",
    "- В 2013 году колличество раундов финансирования и размер средств в рамках одного раунда увеличился"
   ]
  },
  {
   "cell_type": "markdown",
   "metadata": {
    "id": "45if1en1rJg2"
   },
   "source": [
    "\n",
    "### 2.2. Люди и их образование\n",
    "\n",
    "Рассмотрим сведения об образовании сотрудников компаний.\n",
    "\n",
    "Для этого объединим два датасета `df_people` и `df_education`."
   ]
  },
  {
   "cell_type": "code",
   "execution_count": 34,
   "metadata": {
    "id": "psPO7C4MrJg2",
    "vscode": {
     "languageId": "plaintext"
    }
   },
   "outputs": [
    {
     "name": "stdout",
     "output_type": "stream",
     "text": [
      "Пропуски в датасете: people_education\n"
     ]
    },
    {
     "data": {
      "text/html": [
       "<style  type=\"text/css\" >\n",
       "#T_5aa64_row0_col0,#T_5aa64_row0_col1,#T_5aa64_row1_col0,#T_5aa64_row1_col1,#T_5aa64_row2_col0,#T_5aa64_row2_col1{\n",
       "            background-color:  #3b4cc0;\n",
       "            color:  #f1f1f1;\n",
       "        }#T_5aa64_row3_col0,#T_5aa64_row3_col1{\n",
       "            background-color:  #b40426;\n",
       "            color:  #f1f1f1;\n",
       "        }#T_5aa64_row4_col0,#T_5aa64_row4_col1{\n",
       "            background-color:  #bb1b2c;\n",
       "            color:  #f1f1f1;\n",
       "        }#T_5aa64_row5_col0,#T_5aa64_row5_col1,#T_5aa64_row6_col0,#T_5aa64_row6_col1,#T_5aa64_row7_col0,#T_5aa64_row7_col1{\n",
       "            background-color:  #e9785d;\n",
       "            color:  #000000;\n",
       "        }#T_5aa64_row8_col0,#T_5aa64_row8_col1{\n",
       "            background-color:  #b70d28;\n",
       "            color:  #f1f1f1;\n",
       "        }</style><table id=\"T_5aa64_\" ><thead>    <tr>        <th class=\"blank level0\" ></th>        <th class=\"col_heading level0 col0\" >Кол-во пропусков</th>        <th class=\"col_heading level0 col1\" >Доля пропусков</th>    </tr></thead><tbody>\n",
       "                <tr>\n",
       "                        <th id=\"T_5aa64_level0_row0\" class=\"row_heading level0 row0\" >id_people</th>\n",
       "                        <td id=\"T_5aa64_row0_col0\" class=\"data row0 col0\" >0</td>\n",
       "                        <td id=\"T_5aa64_row0_col1\" class=\"data row0 col1\" >0.000000</td>\n",
       "            </tr>\n",
       "            <tr>\n",
       "                        <th id=\"T_5aa64_level0_row1\" class=\"row_heading level0 row1\" >first_name</th>\n",
       "                        <td id=\"T_5aa64_row1_col0\" class=\"data row1 col0\" >0</td>\n",
       "                        <td id=\"T_5aa64_row1_col1\" class=\"data row1 col1\" >0.000000</td>\n",
       "            </tr>\n",
       "            <tr>\n",
       "                        <th id=\"T_5aa64_level0_row2\" class=\"row_heading level0 row2\" >last_name</th>\n",
       "                        <td id=\"T_5aa64_row2_col0\" class=\"data row2 col0\" >0</td>\n",
       "                        <td id=\"T_5aa64_row2_col1\" class=\"data row2 col1\" >0.000000</td>\n",
       "            </tr>\n",
       "            <tr>\n",
       "                        <th id=\"T_5aa64_level0_row3\" class=\"row_heading level0 row3\" >company_id</th>\n",
       "                        <td id=\"T_5aa64_row3_col0\" class=\"data row3 col0\" >192090</td>\n",
       "                        <td id=\"T_5aa64_row3_col1\" class=\"data row3 col1\" >0.847300</td>\n",
       "            </tr>\n",
       "            <tr>\n",
       "                        <th id=\"T_5aa64_level0_row4\" class=\"row_heading level0 row4\" >network_username</th>\n",
       "                        <td id=\"T_5aa64_row4_col0\" class=\"data row4 col0\" >187836</td>\n",
       "                        <td id=\"T_5aa64_row4_col1\" class=\"data row4 col1\" >0.828600</td>\n",
       "            </tr>\n",
       "            <tr>\n",
       "                        <th id=\"T_5aa64_level0_row5\" class=\"row_heading level0 row5\" >id_education</th>\n",
       "                        <td id=\"T_5aa64_row5_col0\" class=\"data row5 col0\" >158632</td>\n",
       "                        <td id=\"T_5aa64_row5_col1\" class=\"data row5 col1\" >0.699700</td>\n",
       "            </tr>\n",
       "            <tr>\n",
       "                        <th id=\"T_5aa64_level0_row6\" class=\"row_heading level0 row6\" >person_id</th>\n",
       "                        <td id=\"T_5aa64_row6_col0\" class=\"data row6 col0\" >158632</td>\n",
       "                        <td id=\"T_5aa64_row6_col1\" class=\"data row6 col1\" >0.699700</td>\n",
       "            </tr>\n",
       "            <tr>\n",
       "                        <th id=\"T_5aa64_level0_row7\" class=\"row_heading level0 row7\" >institution</th>\n",
       "                        <td id=\"T_5aa64_row7_col0\" class=\"data row7 col0\" >158672</td>\n",
       "                        <td id=\"T_5aa64_row7_col1\" class=\"data row7 col1\" >0.699900</td>\n",
       "            </tr>\n",
       "            <tr>\n",
       "                        <th id=\"T_5aa64_level0_row8\" class=\"row_heading level0 row8\" >graduated_at</th>\n",
       "                        <td id=\"T_5aa64_row8_col0\" class=\"data row8 col0\" >190316</td>\n",
       "                        <td id=\"T_5aa64_row8_col1\" class=\"data row8 col1\" >0.839500</td>\n",
       "            </tr>\n",
       "    </tbody></table>"
      ],
      "text/plain": [
       "<pandas.io.formats.style.Styler at 0x7f6626a3eaf0>"
      ]
     },
     "metadata": {},
     "output_type": "display_data"
    },
    {
     "name": "stdout",
     "output_type": "stream",
     "text": [
      "Доля сотрудников с наличием образования 0.3002\n"
     ]
    }
   ],
   "source": [
    "# Преобразование типов данных сделано для устранения ошибки возникающей при объединении датасетов\n",
    " # ValueError: Buffer dtype mismatch, expected 'const int64_t' but got 'int'\n",
    "df_people['id'] = df_people['id'].astype('int64')\n",
    "df_education['person_id'] = df_education['person_id'].astype('int64')\n",
    "\n",
    "# Обйденим датасеты df_people и df_education\n",
    "people_education = df_people.merge(df_education, how='left', left_on='id', right_on='person_id', suffixes = ('_people','_education'))\n",
    "\n",
    "# Удалим все неявные дубликаты строк по столбцам id_people + first_name + last_name\n",
    "people_education = people_education.drop_duplicates(subset=['id_people', 'first_name', 'last_name']).reset_index(drop=True)\n",
    "\n",
    "missing_df(people_education)\n",
    "\n",
    "#Выделим признак наличия образования у сотрудника\n",
    "education_true = people_education['institution'].notna() | people_education['graduated_at'].notna()\n",
    "\n",
    "print('Доля сотрудников с наличием образования',round(education_true.mean(),4))"
   ]
  },
  {
   "cell_type": "markdown",
   "metadata": {
    "id": "BThTjpLqFcsm"
   },
   "source": [
    "Проанализирова полученные результаты можно сделать вывод что данные об образовании сотрудников не достаточно полны.\n",
    "\n",
    "По полученным результатам лишь 30,02% сотрудников имеют образование.\n",
    "\n",
    "Попробуем присодинить датасет `df_degrees` с данными о типе образования сотрудника после преобразования столбца `'person_id'` в пункте `1.2.5.` и перепроверим результаты"
   ]
  },
  {
   "cell_type": "code",
   "execution_count": 35,
   "metadata": {},
   "outputs": [
    {
     "name": "stdout",
     "output_type": "stream",
     "text": [
      "Пропуски в датасете: people_education_full\n"
     ]
    },
    {
     "data": {
      "text/html": [
       "<style  type=\"text/css\" >\n",
       "#T_d9f45_row0_col0,#T_d9f45_row0_col1,#T_d9f45_row1_col0,#T_d9f45_row1_col1,#T_d9f45_row2_col0,#T_d9f45_row2_col1{\n",
       "            background-color:  #3b4cc0;\n",
       "            color:  #f1f1f1;\n",
       "        }#T_d9f45_row3_col0,#T_d9f45_row3_col1{\n",
       "            background-color:  #b40426;\n",
       "            color:  #f1f1f1;\n",
       "        }#T_d9f45_row4_col0,#T_d9f45_row4_col1{\n",
       "            background-color:  #bb1b2c;\n",
       "            color:  #f1f1f1;\n",
       "        }#T_d9f45_row5_col0,#T_d9f45_row5_col1,#T_d9f45_row6_col0,#T_d9f45_row6_col1,#T_d9f45_row7_col0,#T_d9f45_row7_col1,#T_d9f45_row9_col0,#T_d9f45_row9_col1,#T_d9f45_row10_col0,#T_d9f45_row10_col1,#T_d9f45_row13_col0,#T_d9f45_row13_col1{\n",
       "            background-color:  #e9785d;\n",
       "            color:  #000000;\n",
       "        }#T_d9f45_row8_col0,#T_d9f45_row8_col1{\n",
       "            background-color:  #b70d28;\n",
       "            color:  #f1f1f1;\n",
       "        }#T_d9f45_row11_col0,#T_d9f45_row11_col1{\n",
       "            background-color:  #e16751;\n",
       "            color:  #000000;\n",
       "        }#T_d9f45_row12_col0,#T_d9f45_row12_col1{\n",
       "            background-color:  #d1493f;\n",
       "            color:  #f1f1f1;\n",
       "        }</style><table id=\"T_d9f45_\" ><thead>    <tr>        <th class=\"blank level0\" ></th>        <th class=\"col_heading level0 col0\" >Кол-во пропусков</th>        <th class=\"col_heading level0 col1\" >Доля пропусков</th>    </tr></thead><tbody>\n",
       "                <tr>\n",
       "                        <th id=\"T_d9f45_level0_row0\" class=\"row_heading level0 row0\" >id_people</th>\n",
       "                        <td id=\"T_d9f45_row0_col0\" class=\"data row0 col0\" >0</td>\n",
       "                        <td id=\"T_d9f45_row0_col1\" class=\"data row0 col1\" >0.000000</td>\n",
       "            </tr>\n",
       "            <tr>\n",
       "                        <th id=\"T_d9f45_level0_row1\" class=\"row_heading level0 row1\" >first_name</th>\n",
       "                        <td id=\"T_d9f45_row1_col0\" class=\"data row1 col0\" >0</td>\n",
       "                        <td id=\"T_d9f45_row1_col1\" class=\"data row1 col1\" >0.000000</td>\n",
       "            </tr>\n",
       "            <tr>\n",
       "                        <th id=\"T_d9f45_level0_row2\" class=\"row_heading level0 row2\" >last_name</th>\n",
       "                        <td id=\"T_d9f45_row2_col0\" class=\"data row2 col0\" >0</td>\n",
       "                        <td id=\"T_d9f45_row2_col1\" class=\"data row2 col1\" >0.000000</td>\n",
       "            </tr>\n",
       "            <tr>\n",
       "                        <th id=\"T_d9f45_level0_row3\" class=\"row_heading level0 row3\" >company_id</th>\n",
       "                        <td id=\"T_d9f45_row3_col0\" class=\"data row3 col0\" >192090</td>\n",
       "                        <td id=\"T_d9f45_row3_col1\" class=\"data row3 col1\" >0.847300</td>\n",
       "            </tr>\n",
       "            <tr>\n",
       "                        <th id=\"T_d9f45_level0_row4\" class=\"row_heading level0 row4\" >network_username</th>\n",
       "                        <td id=\"T_d9f45_row4_col0\" class=\"data row4 col0\" >187836</td>\n",
       "                        <td id=\"T_d9f45_row4_col1\" class=\"data row4 col1\" >0.828600</td>\n",
       "            </tr>\n",
       "            <tr>\n",
       "                        <th id=\"T_d9f45_level0_row5\" class=\"row_heading level0 row5\" >id_education</th>\n",
       "                        <td id=\"T_d9f45_row5_col0\" class=\"data row5 col0\" >158632</td>\n",
       "                        <td id=\"T_d9f45_row5_col1\" class=\"data row5 col1\" >0.699700</td>\n",
       "            </tr>\n",
       "            <tr>\n",
       "                        <th id=\"T_d9f45_level0_row6\" class=\"row_heading level0 row6\" >person_id_people</th>\n",
       "                        <td id=\"T_d9f45_row6_col0\" class=\"data row6 col0\" >158632</td>\n",
       "                        <td id=\"T_d9f45_row6_col1\" class=\"data row6 col1\" >0.699700</td>\n",
       "            </tr>\n",
       "            <tr>\n",
       "                        <th id=\"T_d9f45_level0_row7\" class=\"row_heading level0 row7\" >institution</th>\n",
       "                        <td id=\"T_d9f45_row7_col0\" class=\"data row7 col0\" >158672</td>\n",
       "                        <td id=\"T_d9f45_row7_col1\" class=\"data row7 col1\" >0.699900</td>\n",
       "            </tr>\n",
       "            <tr>\n",
       "                        <th id=\"T_d9f45_level0_row8\" class=\"row_heading level0 row8\" >graduated_at</th>\n",
       "                        <td id=\"T_d9f45_row8_col0\" class=\"data row8 col0\" >190316</td>\n",
       "                        <td id=\"T_d9f45_row8_col1\" class=\"data row8 col1\" >0.839500</td>\n",
       "            </tr>\n",
       "            <tr>\n",
       "                        <th id=\"T_d9f45_level0_row9\" class=\"row_heading level0 row9\" >id</th>\n",
       "                        <td id=\"T_d9f45_row9_col0\" class=\"data row9 col0\" >158632</td>\n",
       "                        <td id=\"T_d9f45_row9_col1\" class=\"data row9 col1\" >0.699700</td>\n",
       "            </tr>\n",
       "            <tr>\n",
       "                        <th id=\"T_d9f45_level0_row10\" class=\"row_heading level0 row10\" >object_id</th>\n",
       "                        <td id=\"T_d9f45_row10_col0\" class=\"data row10 col0\" >158632</td>\n",
       "                        <td id=\"T_d9f45_row10_col1\" class=\"data row10 col1\" >0.699700</td>\n",
       "            </tr>\n",
       "            <tr>\n",
       "                        <th id=\"T_d9f45_level0_row11\" class=\"row_heading level0 row11\" >degree_type</th>\n",
       "                        <td id=\"T_d9f45_row11_col0\" class=\"data row11 col0\" >165302</td>\n",
       "                        <td id=\"T_d9f45_row11_col1\" class=\"data row11 col1\" >0.729200</td>\n",
       "            </tr>\n",
       "            <tr>\n",
       "                        <th id=\"T_d9f45_level0_row12\" class=\"row_heading level0 row12\" >subject</th>\n",
       "                        <td id=\"T_d9f45_row12_col0\" class=\"data row12 col0\" >175895</td>\n",
       "                        <td id=\"T_d9f45_row12_col1\" class=\"data row12 col1\" >0.775900</td>\n",
       "            </tr>\n",
       "            <tr>\n",
       "                        <th id=\"T_d9f45_level0_row13\" class=\"row_heading level0 row13\" >person_id_degrees</th>\n",
       "                        <td id=\"T_d9f45_row13_col0\" class=\"data row13 col0\" >158632</td>\n",
       "                        <td id=\"T_d9f45_row13_col1\" class=\"data row13 col1\" >0.699700</td>\n",
       "            </tr>\n",
       "    </tbody></table>"
      ],
      "text/plain": [
       "<pandas.io.formats.style.Styler at 0x7f6626a11970>"
      ]
     },
     "metadata": {},
     "output_type": "display_data"
    },
    {
     "name": "stdout",
     "output_type": "stream",
     "text": [
      "Доля сотрудников с наличием образования 0.3003\n"
     ]
    }
   ],
   "source": [
    "# Обйденим датасеты people_education и df_degrees\n",
    "people_education_full = people_education.merge(df_degrees, how='left', left_on='id_people', right_on='person_id', suffixes = ('_people', '_degrees'))\n",
    "\n",
    "# Удалим все неявные дубликаты строк по фильтру id_people + first_name + last_name\n",
    "people_education_full = people_education_full.drop_duplicates(subset=['id_people', 'first_name', 'last_name']).reset_index(drop=True)\n",
    "\n",
    "\n",
    "\n",
    "missing_df(people_education_full)\n",
    "\n",
    "#Выделим признак наличия образования у сотрудника\n",
    "education_true = people_education_full['institution'].notna() | people_education_full['graduated_at'].notna() | people_education_full['degree_type'].notna()\n",
    "\n",
    "print('Доля сотрудников с наличием образования',round(education_true.mean(),4))"
   ]
  },
  {
   "cell_type": "markdown",
   "metadata": {},
   "source": [
    "После присоединения датасета `df_degrees` видим более точные данные об образовании сотрудников. 30,03% сотрудников компаний имеют образование\n",
    "\n",
    "В дальнейшем будем использовать этот датасет для аналитики.\n",
    "\n",
    "Добавим признак наличия образования в датасет `people_education_true`"
   ]
  },
  {
   "cell_type": "code",
   "execution_count": 36,
   "metadata": {},
   "outputs": [],
   "source": [
    "#Выделим признак наличия образования у сотрудника\n",
    "people_education_full['education_true']  = people_education_full['institution'].notna() | people_education_full['graduated_at'].notna() | people_education_full['degree_type'].notna()"
   ]
  },
  {
   "cell_type": "markdown",
   "metadata": {},
   "source": [
    "Разделим все компании на несколько групп по количеству сотрудников и оценим среднюю долю сотрудников без информации об образовании в каждой из групп."
   ]
  },
  {
   "cell_type": "code",
   "execution_count": 37,
   "metadata": {
    "id": "4FC98Pd-FcmG"
   },
   "outputs": [
    {
     "name": "stdout",
     "output_type": "stream",
     "text": [
      "count    20404.000000\n",
      "mean         1.548667\n",
      "std          2.868234\n",
      "min          1.000000\n",
      "25%          1.000000\n",
      "50%          1.000000\n",
      "75%          1.000000\n",
      "max        244.000000\n",
      "Name: company_people_count, dtype: float64\n"
     ]
    },
    {
     "ename": "TypeError",
     "evalue": "boolean value of NA is ambiguous",
     "output_type": "error",
     "traceback": [
      "\u001b[0;31m---------------------------------------------------------------------------\u001b[0m",
      "\u001b[0;31mAttributeError\u001b[0m                            Traceback (most recent call last)",
      "\u001b[0;32m/opt/conda/lib/python3.9/site-packages/seaborn/_core.py\u001b[0m in \u001b[0;36mcategorical_order\u001b[0;34m(vector, order)\u001b[0m\n\u001b[1;32m   1471\u001b[0m             \u001b[0;32mtry\u001b[0m\u001b[0;34m:\u001b[0m\u001b[0;34m\u001b[0m\u001b[0;34m\u001b[0m\u001b[0m\n\u001b[0;32m-> 1472\u001b[0;31m                 \u001b[0morder\u001b[0m \u001b[0;34m=\u001b[0m \u001b[0mvector\u001b[0m\u001b[0;34m.\u001b[0m\u001b[0mcat\u001b[0m\u001b[0;34m.\u001b[0m\u001b[0mcategories\u001b[0m\u001b[0;34m\u001b[0m\u001b[0;34m\u001b[0m\u001b[0m\n\u001b[0m\u001b[1;32m   1473\u001b[0m             \u001b[0;32mexcept\u001b[0m \u001b[0;34m(\u001b[0m\u001b[0mTypeError\u001b[0m\u001b[0;34m,\u001b[0m \u001b[0mAttributeError\u001b[0m\u001b[0;34m)\u001b[0m\u001b[0;34m:\u001b[0m\u001b[0;34m\u001b[0m\u001b[0;34m\u001b[0m\u001b[0m\n",
      "\u001b[0;32m/opt/conda/lib/python3.9/site-packages/pandas/core/generic.py\u001b[0m in \u001b[0;36m__getattr__\u001b[0;34m(self, name)\u001b[0m\n\u001b[1;32m   5460\u001b[0m         ):\n\u001b[0;32m-> 5461\u001b[0;31m             \u001b[0;32mreturn\u001b[0m \u001b[0mobject\u001b[0m\u001b[0;34m.\u001b[0m\u001b[0m__getattribute__\u001b[0m\u001b[0;34m(\u001b[0m\u001b[0mself\u001b[0m\u001b[0;34m,\u001b[0m \u001b[0mname\u001b[0m\u001b[0;34m)\u001b[0m\u001b[0;34m\u001b[0m\u001b[0;34m\u001b[0m\u001b[0m\n\u001b[0m\u001b[1;32m   5462\u001b[0m         \u001b[0;32melse\u001b[0m\u001b[0;34m:\u001b[0m\u001b[0;34m\u001b[0m\u001b[0;34m\u001b[0m\u001b[0m\n",
      "\u001b[0;32m/opt/conda/lib/python3.9/site-packages/pandas/core/accessor.py\u001b[0m in \u001b[0;36m__get__\u001b[0;34m(self, obj, cls)\u001b[0m\n\u001b[1;32m    179\u001b[0m             \u001b[0;32mreturn\u001b[0m \u001b[0mself\u001b[0m\u001b[0;34m.\u001b[0m\u001b[0m_accessor\u001b[0m\u001b[0;34m\u001b[0m\u001b[0;34m\u001b[0m\u001b[0m\n\u001b[0;32m--> 180\u001b[0;31m         \u001b[0maccessor_obj\u001b[0m \u001b[0;34m=\u001b[0m \u001b[0mself\u001b[0m\u001b[0;34m.\u001b[0m\u001b[0m_accessor\u001b[0m\u001b[0;34m(\u001b[0m\u001b[0mobj\u001b[0m\u001b[0;34m)\u001b[0m\u001b[0;34m\u001b[0m\u001b[0;34m\u001b[0m\u001b[0m\n\u001b[0m\u001b[1;32m    181\u001b[0m         \u001b[0;31m# Replace the property with the accessor object. Inspired by:\u001b[0m\u001b[0;34m\u001b[0m\u001b[0;34m\u001b[0m\u001b[0;34m\u001b[0m\u001b[0m\n",
      "\u001b[0;32m/opt/conda/lib/python3.9/site-packages/pandas/core/arrays/categorical.py\u001b[0m in \u001b[0;36m__init__\u001b[0;34m(self, data)\u001b[0m\n\u001b[1;32m   2456\u001b[0m     \u001b[0;32mdef\u001b[0m \u001b[0m__init__\u001b[0m\u001b[0;34m(\u001b[0m\u001b[0mself\u001b[0m\u001b[0;34m,\u001b[0m \u001b[0mdata\u001b[0m\u001b[0;34m)\u001b[0m\u001b[0;34m:\u001b[0m\u001b[0;34m\u001b[0m\u001b[0;34m\u001b[0m\u001b[0m\n\u001b[0;32m-> 2457\u001b[0;31m         \u001b[0mself\u001b[0m\u001b[0;34m.\u001b[0m\u001b[0m_validate\u001b[0m\u001b[0;34m(\u001b[0m\u001b[0mdata\u001b[0m\u001b[0;34m)\u001b[0m\u001b[0;34m\u001b[0m\u001b[0;34m\u001b[0m\u001b[0m\n\u001b[0m\u001b[1;32m   2458\u001b[0m         \u001b[0mself\u001b[0m\u001b[0;34m.\u001b[0m\u001b[0m_parent\u001b[0m \u001b[0;34m=\u001b[0m \u001b[0mdata\u001b[0m\u001b[0;34m.\u001b[0m\u001b[0mvalues\u001b[0m\u001b[0;34m\u001b[0m\u001b[0;34m\u001b[0m\u001b[0m\n",
      "\u001b[0;32m/opt/conda/lib/python3.9/site-packages/pandas/core/arrays/categorical.py\u001b[0m in \u001b[0;36m_validate\u001b[0;34m(data)\u001b[0m\n\u001b[1;32m   2465\u001b[0m         \u001b[0;32mif\u001b[0m \u001b[0;32mnot\u001b[0m \u001b[0mis_categorical_dtype\u001b[0m\u001b[0;34m(\u001b[0m\u001b[0mdata\u001b[0m\u001b[0;34m.\u001b[0m\u001b[0mdtype\u001b[0m\u001b[0;34m)\u001b[0m\u001b[0;34m:\u001b[0m\u001b[0;34m\u001b[0m\u001b[0;34m\u001b[0m\u001b[0m\n\u001b[0;32m-> 2466\u001b[0;31m             \u001b[0;32mraise\u001b[0m \u001b[0mAttributeError\u001b[0m\u001b[0;34m(\u001b[0m\u001b[0;34m\"Can only use .cat accessor with a 'category' dtype\"\u001b[0m\u001b[0;34m)\u001b[0m\u001b[0;34m\u001b[0m\u001b[0;34m\u001b[0m\u001b[0m\n\u001b[0m\u001b[1;32m   2467\u001b[0m \u001b[0;34m\u001b[0m\u001b[0m\n",
      "\u001b[0;31mAttributeError\u001b[0m: Can only use .cat accessor with a 'category' dtype",
      "\nDuring handling of the above exception, another exception occurred:\n",
      "\u001b[0;31mTypeError\u001b[0m                                 Traceback (most recent call last)",
      "\u001b[0;32m/tmp/ipykernel_292/1250406935.py\u001b[0m in \u001b[0;36m<module>\u001b[0;34m\u001b[0m\n\u001b[1;32m      9\u001b[0m \u001b[0;31m# Гистограмма распределения кол-ва сотрудников\u001b[0m\u001b[0;34m\u001b[0m\u001b[0;34m\u001b[0m\u001b[0;34m\u001b[0m\u001b[0m\n\u001b[1;32m     10\u001b[0m \u001b[0mplt\u001b[0m\u001b[0;34m.\u001b[0m\u001b[0mfigure\u001b[0m\u001b[0;34m(\u001b[0m\u001b[0mfigsize\u001b[0m\u001b[0;34m=\u001b[0m\u001b[0;34m(\u001b[0m\u001b[0;36m10\u001b[0m\u001b[0;34m,\u001b[0m \u001b[0;36m6\u001b[0m\u001b[0;34m)\u001b[0m\u001b[0;34m)\u001b[0m\u001b[0;34m\u001b[0m\u001b[0;34m\u001b[0m\u001b[0m\n\u001b[0;32m---> 11\u001b[0;31m \u001b[0msns\u001b[0m\u001b[0;34m.\u001b[0m\u001b[0mcountplot\u001b[0m\u001b[0;34m(\u001b[0m\u001b[0mdata\u001b[0m \u001b[0;34m=\u001b[0m \u001b[0mpeople_education_full\u001b[0m\u001b[0;34m,\u001b[0m \u001b[0mx\u001b[0m\u001b[0;34m=\u001b[0m\u001b[0;34m'company_people_count'\u001b[0m\u001b[0;34m,\u001b[0m \u001b[0mcolor\u001b[0m\u001b[0;34m=\u001b[0m\u001b[0;34m'blue'\u001b[0m\u001b[0;34m)\u001b[0m\u001b[0;34m\u001b[0m\u001b[0;34m\u001b[0m\u001b[0m\n\u001b[0m\u001b[1;32m     12\u001b[0m \u001b[0mplt\u001b[0m\u001b[0;34m.\u001b[0m\u001b[0mxticks\u001b[0m\u001b[0;34m(\u001b[0m\u001b[0mrotation\u001b[0m\u001b[0;34m=\u001b[0m\u001b[0;36m90\u001b[0m\u001b[0;34m)\u001b[0m\u001b[0;34m\u001b[0m\u001b[0;34m\u001b[0m\u001b[0m\n\u001b[1;32m     13\u001b[0m \u001b[0mplt\u001b[0m\u001b[0;34m.\u001b[0m\u001b[0mtitle\u001b[0m\u001b[0;34m(\u001b[0m\u001b[0;34m'Распределение количества сотрудников в компании'\u001b[0m\u001b[0;34m)\u001b[0m\u001b[0;34m\u001b[0m\u001b[0;34m\u001b[0m\u001b[0m\n",
      "\u001b[0;32m/opt/conda/lib/python3.9/site-packages/seaborn/_decorators.py\u001b[0m in \u001b[0;36minner_f\u001b[0;34m(*args, **kwargs)\u001b[0m\n\u001b[1;32m     44\u001b[0m             )\n\u001b[1;32m     45\u001b[0m         \u001b[0mkwargs\u001b[0m\u001b[0;34m.\u001b[0m\u001b[0mupdate\u001b[0m\u001b[0;34m(\u001b[0m\u001b[0;34m{\u001b[0m\u001b[0mk\u001b[0m\u001b[0;34m:\u001b[0m \u001b[0marg\u001b[0m \u001b[0;32mfor\u001b[0m \u001b[0mk\u001b[0m\u001b[0;34m,\u001b[0m \u001b[0marg\u001b[0m \u001b[0;32min\u001b[0m \u001b[0mzip\u001b[0m\u001b[0;34m(\u001b[0m\u001b[0msig\u001b[0m\u001b[0;34m.\u001b[0m\u001b[0mparameters\u001b[0m\u001b[0;34m,\u001b[0m \u001b[0margs\u001b[0m\u001b[0;34m)\u001b[0m\u001b[0;34m}\u001b[0m\u001b[0;34m)\u001b[0m\u001b[0;34m\u001b[0m\u001b[0;34m\u001b[0m\u001b[0m\n\u001b[0;32m---> 46\u001b[0;31m         \u001b[0;32mreturn\u001b[0m \u001b[0mf\u001b[0m\u001b[0;34m(\u001b[0m\u001b[0;34m**\u001b[0m\u001b[0mkwargs\u001b[0m\u001b[0;34m)\u001b[0m\u001b[0;34m\u001b[0m\u001b[0;34m\u001b[0m\u001b[0m\n\u001b[0m\u001b[1;32m     47\u001b[0m     \u001b[0;32mreturn\u001b[0m \u001b[0minner_f\u001b[0m\u001b[0;34m\u001b[0m\u001b[0;34m\u001b[0m\u001b[0m\n\u001b[1;32m     48\u001b[0m \u001b[0;34m\u001b[0m\u001b[0m\n",
      "\u001b[0;32m/opt/conda/lib/python3.9/site-packages/seaborn/categorical.py\u001b[0m in \u001b[0;36mcountplot\u001b[0;34m(x, y, hue, data, order, hue_order, orient, color, palette, saturation, dodge, ax, **kwargs)\u001b[0m\n\u001b[1;32m   3593\u001b[0m         \u001b[0;32mraise\u001b[0m \u001b[0mValueError\u001b[0m\u001b[0;34m(\u001b[0m\u001b[0;34m\"Cannot pass values for both `x` and `y`\"\u001b[0m\u001b[0;34m)\u001b[0m\u001b[0;34m\u001b[0m\u001b[0;34m\u001b[0m\u001b[0m\n\u001b[1;32m   3594\u001b[0m \u001b[0;34m\u001b[0m\u001b[0m\n\u001b[0;32m-> 3595\u001b[0;31m     plotter = _CountPlotter(\n\u001b[0m\u001b[1;32m   3596\u001b[0m         \u001b[0mx\u001b[0m\u001b[0;34m,\u001b[0m \u001b[0my\u001b[0m\u001b[0;34m,\u001b[0m \u001b[0mhue\u001b[0m\u001b[0;34m,\u001b[0m \u001b[0mdata\u001b[0m\u001b[0;34m,\u001b[0m \u001b[0morder\u001b[0m\u001b[0;34m,\u001b[0m \u001b[0mhue_order\u001b[0m\u001b[0;34m,\u001b[0m\u001b[0;34m\u001b[0m\u001b[0;34m\u001b[0m\u001b[0m\n\u001b[1;32m   3597\u001b[0m         \u001b[0mestimator\u001b[0m\u001b[0;34m,\u001b[0m \u001b[0mci\u001b[0m\u001b[0;34m,\u001b[0m \u001b[0mn_boot\u001b[0m\u001b[0;34m,\u001b[0m \u001b[0munits\u001b[0m\u001b[0;34m,\u001b[0m \u001b[0mseed\u001b[0m\u001b[0;34m,\u001b[0m\u001b[0;34m\u001b[0m\u001b[0;34m\u001b[0m\u001b[0m\n",
      "\u001b[0;32m/opt/conda/lib/python3.9/site-packages/seaborn/categorical.py\u001b[0m in \u001b[0;36m__init__\u001b[0;34m(self, x, y, hue, data, order, hue_order, estimator, ci, n_boot, units, seed, orient, color, palette, saturation, errcolor, errwidth, capsize, dodge)\u001b[0m\n\u001b[1;32m   1582\u001b[0m                  errwidth, capsize, dodge):\n\u001b[1;32m   1583\u001b[0m         \u001b[0;34m\"\"\"Initialize the plotter.\"\"\"\u001b[0m\u001b[0;34m\u001b[0m\u001b[0;34m\u001b[0m\u001b[0m\n\u001b[0;32m-> 1584\u001b[0;31m         self.establish_variables(x, y, hue, data, orient,\n\u001b[0m\u001b[1;32m   1585\u001b[0m                                  order, hue_order, units)\n\u001b[1;32m   1586\u001b[0m         \u001b[0mself\u001b[0m\u001b[0;34m.\u001b[0m\u001b[0mestablish_colors\u001b[0m\u001b[0;34m(\u001b[0m\u001b[0mcolor\u001b[0m\u001b[0;34m,\u001b[0m \u001b[0mpalette\u001b[0m\u001b[0;34m,\u001b[0m \u001b[0msaturation\u001b[0m\u001b[0;34m)\u001b[0m\u001b[0;34m\u001b[0m\u001b[0;34m\u001b[0m\u001b[0m\n",
      "\u001b[0;32m/opt/conda/lib/python3.9/site-packages/seaborn/categorical.py\u001b[0m in \u001b[0;36mestablish_variables\u001b[0;34m(self, x, y, hue, data, orient, order, hue_order, units)\u001b[0m\n\u001b[1;32m    201\u001b[0m \u001b[0;34m\u001b[0m\u001b[0m\n\u001b[1;32m    202\u001b[0m                 \u001b[0;31m# Get the order on the categorical axis\u001b[0m\u001b[0;34m\u001b[0m\u001b[0;34m\u001b[0m\u001b[0;34m\u001b[0m\u001b[0m\n\u001b[0;32m--> 203\u001b[0;31m                 \u001b[0mgroup_names\u001b[0m \u001b[0;34m=\u001b[0m \u001b[0mcategorical_order\u001b[0m\u001b[0;34m(\u001b[0m\u001b[0mgroups\u001b[0m\u001b[0;34m,\u001b[0m \u001b[0morder\u001b[0m\u001b[0;34m)\u001b[0m\u001b[0;34m\u001b[0m\u001b[0;34m\u001b[0m\u001b[0m\n\u001b[0m\u001b[1;32m    204\u001b[0m \u001b[0;34m\u001b[0m\u001b[0m\n\u001b[1;32m    205\u001b[0m                 \u001b[0;31m# Group the numeric data\u001b[0m\u001b[0;34m\u001b[0m\u001b[0;34m\u001b[0m\u001b[0;34m\u001b[0m\u001b[0m\n",
      "\u001b[0;32m/opt/conda/lib/python3.9/site-packages/seaborn/_core.py\u001b[0m in \u001b[0;36mcategorical_order\u001b[0;34m(vector, order)\u001b[0m\n\u001b[1;32m   1479\u001b[0m \u001b[0;34m\u001b[0m\u001b[0m\n\u001b[1;32m   1480\u001b[0m                 \u001b[0;32mif\u001b[0m \u001b[0mvariable_type\u001b[0m\u001b[0;34m(\u001b[0m\u001b[0mvector\u001b[0m\u001b[0;34m)\u001b[0m \u001b[0;34m==\u001b[0m \u001b[0;34m\"numeric\"\u001b[0m\u001b[0;34m:\u001b[0m\u001b[0;34m\u001b[0m\u001b[0;34m\u001b[0m\u001b[0m\n\u001b[0;32m-> 1481\u001b[0;31m                     \u001b[0morder\u001b[0m \u001b[0;34m=\u001b[0m \u001b[0mnp\u001b[0m\u001b[0;34m.\u001b[0m\u001b[0msort\u001b[0m\u001b[0;34m(\u001b[0m\u001b[0morder\u001b[0m\u001b[0;34m)\u001b[0m\u001b[0;34m\u001b[0m\u001b[0;34m\u001b[0m\u001b[0m\n\u001b[0m\u001b[1;32m   1482\u001b[0m \u001b[0;34m\u001b[0m\u001b[0m\n\u001b[1;32m   1483\u001b[0m         \u001b[0morder\u001b[0m \u001b[0;34m=\u001b[0m \u001b[0mfilter\u001b[0m\u001b[0;34m(\u001b[0m\u001b[0mpd\u001b[0m\u001b[0;34m.\u001b[0m\u001b[0mnotnull\u001b[0m\u001b[0;34m,\u001b[0m \u001b[0morder\u001b[0m\u001b[0;34m)\u001b[0m\u001b[0;34m\u001b[0m\u001b[0;34m\u001b[0m\u001b[0m\n",
      "\u001b[0;32m<__array_function__ internals>\u001b[0m in \u001b[0;36msort\u001b[0;34m(*args, **kwargs)\u001b[0m\n",
      "\u001b[0;32m/opt/conda/lib/python3.9/site-packages/numpy/core/fromnumeric.py\u001b[0m in \u001b[0;36msort\u001b[0;34m(a, axis, kind, order)\u001b[0m\n\u001b[1;32m    996\u001b[0m     \u001b[0;32melse\u001b[0m\u001b[0;34m:\u001b[0m\u001b[0;34m\u001b[0m\u001b[0;34m\u001b[0m\u001b[0m\n\u001b[1;32m    997\u001b[0m         \u001b[0ma\u001b[0m \u001b[0;34m=\u001b[0m \u001b[0masanyarray\u001b[0m\u001b[0;34m(\u001b[0m\u001b[0ma\u001b[0m\u001b[0;34m)\u001b[0m\u001b[0;34m.\u001b[0m\u001b[0mcopy\u001b[0m\u001b[0;34m(\u001b[0m\u001b[0morder\u001b[0m\u001b[0;34m=\u001b[0m\u001b[0;34m\"K\"\u001b[0m\u001b[0;34m)\u001b[0m\u001b[0;34m\u001b[0m\u001b[0;34m\u001b[0m\u001b[0m\n\u001b[0;32m--> 998\u001b[0;31m     \u001b[0ma\u001b[0m\u001b[0;34m.\u001b[0m\u001b[0msort\u001b[0m\u001b[0;34m(\u001b[0m\u001b[0maxis\u001b[0m\u001b[0;34m=\u001b[0m\u001b[0maxis\u001b[0m\u001b[0;34m,\u001b[0m \u001b[0mkind\u001b[0m\u001b[0;34m=\u001b[0m\u001b[0mkind\u001b[0m\u001b[0;34m,\u001b[0m \u001b[0morder\u001b[0m\u001b[0;34m=\u001b[0m\u001b[0morder\u001b[0m\u001b[0;34m)\u001b[0m\u001b[0;34m\u001b[0m\u001b[0;34m\u001b[0m\u001b[0m\n\u001b[0m\u001b[1;32m    999\u001b[0m     \u001b[0;32mreturn\u001b[0m \u001b[0ma\u001b[0m\u001b[0;34m\u001b[0m\u001b[0;34m\u001b[0m\u001b[0m\n\u001b[1;32m   1000\u001b[0m \u001b[0;34m\u001b[0m\u001b[0m\n",
      "\u001b[0;32mpandas/_libs/missing.pyx\u001b[0m in \u001b[0;36mpandas._libs.missing.NAType.__bool__\u001b[0;34m()\u001b[0m\n",
      "\u001b[0;31mTypeError\u001b[0m: boolean value of NA is ambiguous"
     ]
    },
    {
     "data": {
      "text/plain": [
       "<Figure size 720x432 with 0 Axes>"
      ]
     },
     "metadata": {},
     "output_type": "display_data"
    }
   ],
   "source": [
    "#Посчитаем кол-во сотрудников в каждой компании\n",
    "people_education_full['company_people_count'] = people_education_full.groupby('company_id')['id_people'].count()\n",
    "# Преобразовываем тип данных в integer\n",
    "people_education_full['company_people_count'] = pd.array(people_education_full['company_people_count'], dtype=pd.Int64Dtype())\n",
    "\n",
    "# Посмотрим на распределение значений в столбце с кол-вом сотрудников\n",
    "print(people_education_full['company_people_count'].describe())\n",
    "\n",
    "# Гистограмма распределения кол-ва сотрудников\n",
    "plt.figure(figsize=(10, 6))\n",
    "sns.countplot(data = people_education_full, x='company_people_count', color='blue')\n",
    "plt.xticks(rotation=90)\n",
    "plt.title('Распределение количества сотрудников в компании')\n",
    "plt.xlabel('Количество сотрудников')\n",
    "plt.ylabel('Количество компаний')\n",
    "plt.tight_layout()\n",
    "plt.show()"
   ]
  },
  {
   "cell_type": "markdown",
   "metadata": {},
   "source": [
    "Из полученных результатов видим:\n",
    "- максимальное колличество сотрудников в компании равно 244\n",
    "- основная часть компаний имеет колличество сотрудников до 4\n",
    "\n",
    "Исходя из этого разделим компании на категории\n",
    "- 1 сотрудник в компании\n",
    "- 2 сотрудника в компании\n",
    "- 3 сотрудника в компании\n",
    "- 4-5 сотрудников в компании\n",
    "- 6-10 сотрудников в компании\n",
    "- 11-25 сотрудников в компании\n",
    "- более 26 сотрудников в компании"
   ]
  },
  {
   "cell_type": "code",
   "execution_count": null,
   "metadata": {},
   "outputs": [],
   "source": [
    "# распределяем компании по группам\n",
    "bins_list   = [0, 1, 2, 3, 5, 10, 25, float('inf')],\n",
    "labels_list = ['1', '2', '3', '4-5', '6-10', '11-25', '26+']\n",
    "\n",
    "people_education_full['company_people_group'] = pd.cut(people_education_full['company_people_count'], \n",
    "                                                       bins = [0, 1, 2, 3, 5, 10, 25, float('inf')], \n",
    "                                                       labels = ['1', '2', '3', '4-5', '6-10', '11-25', '26+']) \n",
    "\n",
    "# Рассмотрим долю сотрудников без образования в каждой категории\n",
    "print('Доля сотрудников в компаниях без образования в зависимости от численности компании:')\n",
    "people_education_comp_group = 1-people_education_full.groupby('company_people_group', observed=True)['education_true'].mean()\n",
    "\n",
    "people_education_comp_group"
   ]
  },
  {
   "cell_type": "markdown",
   "metadata": {},
   "source": [
    "#### Выводы\n",
    "На основе полученных результатов можно сделать следующие выводы:\n",
    "- 30% сотрудников компаний имеют образование.\n",
    "- основаная часть сотрудников работает в компаниях с численностью до 4 человек\n",
    "- максимальное колличество сотрудников в компании составляет 244 человек\n",
    "\n",
    "Исходя из вышесказанного, чем крупнее компания, тем больше колличество сотрудников с образованием работает в этой компании."
   ]
  },
  {
   "cell_type": "markdown",
   "metadata": {
    "id": "Lz7qjM32xglW"
   },
   "source": [
    "### Объединять или не объединять — вот в чём вопрос\n",
    "Проверим можно ли объеднить датасеты `df_comp_rounds` и `df_people` по столбцу `network_username`.\n",
    "\n",
    "Посмотрим насколько часто встречаются одинаковые значения в этих датасетах"
   ]
  },
  {
   "cell_type": "code",
   "execution_count": 38,
   "metadata": {
    "id": "zyI3rt0rxg1O",
    "scrolled": true
   },
   "outputs": [
    {
     "name": "stdout",
     "output_type": "stream",
     "text": [
      "Поле network_username встречается в датасетах df_comp_rounds и df_people 2199 раз\n",
      "Что составляет 1.01 % данных датасета df_comp_rounds\n"
     ]
    },
    {
     "data": {
      "image/png": "[encoded data removed]",
      "text/plain": [
       "<Figure size 432x288 with 1 Axes>"
      ]
     },
     "metadata": {},
     "output_type": "display_data"
    }
   ],
   "source": [
    "net_username_intersection = len(set(df_comp_rounds['network_username'][df_comp_rounds['network_username'].notna()]).intersection(df_people['network_username'][df_people['network_username'].notna()]))\n",
    "print('Поле network_username встречается в датасетах df_comp_rounds и df_people', net_username_intersection, 'раз')\n",
    "print('Что составляет', round((net_username_intersection/len(df_comp_rounds))*100,2), '% данных датасета df_comp_rounds')\n",
    "\n",
    "# Строим диаграмму Венна\n",
    "venn2([\n",
    "    set(df_comp_rounds['network_username'][df_comp_rounds['network_username'].notna()]),\n",
    "    set(df_people['network_username'][df_people['network_username'].notna()])\n",
    "      ],\n",
    "    set_labels=('Company Users', 'Fund Users'))\n",
    "\n",
    "# Отображаем график\n",
    "plt.title(\"Пересечение пользователей Company Users и Fund Users\")\n",
    "plt.show()  "
   ]
  },
  {
   "cell_type": "markdown",
   "metadata": {
    "id": "RxOS5rwmFcNW"
   },
   "source": [
    "#### Вывод\n",
    "Из за редкого пересечения по столбцу `network_username` можно сделать вывод что датасеты `df_comp_rounds` и `df_people` объединять по полю `network_username` нельзя."
   ]
  },
  {
   "cell_type": "markdown",
   "metadata": {
    "id": "EHcODomVrJg1"
   },
   "source": [
    "\n",
    "### Проблемный датасет и причина возникновения пропусков\n",
    "\n",
    "Рассмотрим еще раз внимательнее данные в датасете `df_comp_rounds` на их качество и полноту"
   ]
  },
  {
   "cell_type": "code",
   "execution_count": 39,
   "metadata": {
    "id": "tJ6Sl6MKrJg1",
    "vscode": {
     "languageId": "plaintext"
    }
   },
   "outputs": [
    {
     "data": {
      "text/html": [
       "<div>\n",
       "<style scoped>\n",
       "    .dataframe tbody tr th:only-of-type {\n",
       "        vertical-align: middle;\n",
       "    }\n",
       "\n",
       "    .dataframe tbody tr th {\n",
       "        vertical-align: top;\n",
       "    }\n",
       "\n",
       "    .dataframe thead th {\n",
       "        text-align: right;\n",
       "    }\n",
       "</style>\n",
       "<table border=\"1\" class=\"dataframe\">\n",
       "  <thead>\n",
       "    <tr style=\"text-align: right;\">\n",
       "      <th></th>\n",
       "      <th>company_id</th>\n",
       "      <th>name</th>\n",
       "      <th>category_code</th>\n",
       "      <th>status</th>\n",
       "      <th>founded_at</th>\n",
       "      <th>closed_at</th>\n",
       "      <th>domain</th>\n",
       "      <th>network_username</th>\n",
       "      <th>country_code</th>\n",
       "      <th>investment_rounds</th>\n",
       "      <th>funding_rounds</th>\n",
       "      <th>funding_total</th>\n",
       "      <th>milestones</th>\n",
       "      <th>funding_round_id</th>\n",
       "      <th>с_id</th>\n",
       "      <th>funded_at</th>\n",
       "      <th>funding_round_type</th>\n",
       "      <th>raised_amount</th>\n",
       "      <th>pre_money_valuation</th>\n",
       "      <th>participants</th>\n",
       "      <th>is_first_round</th>\n",
       "      <th>is_last_round</th>\n",
       "    </tr>\n",
       "  </thead>\n",
       "  <tbody>\n",
       "    <tr>\n",
       "      <th>0</th>\n",
       "      <td>1</td>\n",
       "      <td>Wetpaint</td>\n",
       "      <td>web</td>\n",
       "      <td>operating</td>\n",
       "      <td>2005-10-17</td>\n",
       "      <td>NaT</td>\n",
       "      <td>wetpaint-inc.com</td>\n",
       "      <td>BachelrWetpaint</td>\n",
       "      <td>USA</td>\n",
       "      <td>0</td>\n",
       "      <td>3</td>\n",
       "      <td>39750000</td>\n",
       "      <td>5</td>\n",
       "      <td>888</td>\n",
       "      <td>1.0</td>\n",
       "      <td>2005-10-01</td>\n",
       "      <td>series-a</td>\n",
       "      <td>5250000.0</td>\n",
       "      <td>0</td>\n",
       "      <td>2</td>\n",
       "      <td>0</td>\n",
       "      <td>1</td>\n",
       "    </tr>\n",
       "    <tr>\n",
       "      <th>1</th>\n",
       "      <td>1</td>\n",
       "      <td>Wetpaint</td>\n",
       "      <td>web</td>\n",
       "      <td>operating</td>\n",
       "      <td>2005-10-17</td>\n",
       "      <td>NaT</td>\n",
       "      <td>wetpaint-inc.com</td>\n",
       "      <td>BachelrWetpaint</td>\n",
       "      <td>USA</td>\n",
       "      <td>0</td>\n",
       "      <td>3</td>\n",
       "      <td>39750000</td>\n",
       "      <td>5</td>\n",
       "      <td>889</td>\n",
       "      <td>1.0</td>\n",
       "      <td>2007-01-01</td>\n",
       "      <td>series-b</td>\n",
       "      <td>9500000.0</td>\n",
       "      <td>0</td>\n",
       "      <td>3</td>\n",
       "      <td>0</td>\n",
       "      <td>0</td>\n",
       "    </tr>\n",
       "    <tr>\n",
       "      <th>2</th>\n",
       "      <td>1</td>\n",
       "      <td>Wetpaint</td>\n",
       "      <td>web</td>\n",
       "      <td>operating</td>\n",
       "      <td>2005-10-17</td>\n",
       "      <td>NaT</td>\n",
       "      <td>wetpaint-inc.com</td>\n",
       "      <td>BachelrWetpaint</td>\n",
       "      <td>USA</td>\n",
       "      <td>0</td>\n",
       "      <td>3</td>\n",
       "      <td>39750000</td>\n",
       "      <td>5</td>\n",
       "      <td>2312</td>\n",
       "      <td>1.0</td>\n",
       "      <td>2008-05-19</td>\n",
       "      <td>series-c+</td>\n",
       "      <td>25000000.0</td>\n",
       "      <td>0</td>\n",
       "      <td>4</td>\n",
       "      <td>1</td>\n",
       "      <td>0</td>\n",
       "    </tr>\n",
       "    <tr>\n",
       "      <th>3</th>\n",
       "      <td>10</td>\n",
       "      <td>Flektor</td>\n",
       "      <td>games_video</td>\n",
       "      <td>acquired</td>\n",
       "      <td>NaT</td>\n",
       "      <td>NaT</td>\n",
       "      <td>flektor.com</td>\n",
       "      <td>NaN</td>\n",
       "      <td>USA</td>\n",
       "      <td>0</td>\n",
       "      <td>0</td>\n",
       "      <td>0</td>\n",
       "      <td>0</td>\n",
       "      <td>&lt;NA&gt;</td>\n",
       "      <td>NaN</td>\n",
       "      <td>NaT</td>\n",
       "      <td>NaN</td>\n",
       "      <td>NaN</td>\n",
       "      <td>&lt;NA&gt;</td>\n",
       "      <td>&lt;NA&gt;</td>\n",
       "      <td>&lt;NA&gt;</td>\n",
       "      <td>&lt;NA&gt;</td>\n",
       "    </tr>\n",
       "    <tr>\n",
       "      <th>4</th>\n",
       "      <td>100</td>\n",
       "      <td>There</td>\n",
       "      <td>games_video</td>\n",
       "      <td>acquired</td>\n",
       "      <td>NaT</td>\n",
       "      <td>NaT</td>\n",
       "      <td>there.com</td>\n",
       "      <td>NaN</td>\n",
       "      <td>USA</td>\n",
       "      <td>0</td>\n",
       "      <td>0</td>\n",
       "      <td>0</td>\n",
       "      <td>4</td>\n",
       "      <td>&lt;NA&gt;</td>\n",
       "      <td>NaN</td>\n",
       "      <td>NaT</td>\n",
       "      <td>NaN</td>\n",
       "      <td>NaN</td>\n",
       "      <td>&lt;NA&gt;</td>\n",
       "      <td>&lt;NA&gt;</td>\n",
       "      <td>&lt;NA&gt;</td>\n",
       "      <td>&lt;NA&gt;</td>\n",
       "    </tr>\n",
       "    <tr>\n",
       "      <th>5</th>\n",
       "      <td>10000</td>\n",
       "      <td>MYWEBBO</td>\n",
       "      <td>network_hosting</td>\n",
       "      <td>operating</td>\n",
       "      <td>2008-07-26</td>\n",
       "      <td>NaT</td>\n",
       "      <td>mywebbo.com</td>\n",
       "      <td>NaN</td>\n",
       "      <td>NaN</td>\n",
       "      <td>0</td>\n",
       "      <td>0</td>\n",
       "      <td>0</td>\n",
       "      <td>0</td>\n",
       "      <td>&lt;NA&gt;</td>\n",
       "      <td>NaN</td>\n",
       "      <td>NaT</td>\n",
       "      <td>NaN</td>\n",
       "      <td>NaN</td>\n",
       "      <td>&lt;NA&gt;</td>\n",
       "      <td>&lt;NA&gt;</td>\n",
       "      <td>&lt;NA&gt;</td>\n",
       "      <td>&lt;NA&gt;</td>\n",
       "    </tr>\n",
       "    <tr>\n",
       "      <th>6</th>\n",
       "      <td>10001</td>\n",
       "      <td>THE Movie Streamer</td>\n",
       "      <td>games_video</td>\n",
       "      <td>operating</td>\n",
       "      <td>2008-07-26</td>\n",
       "      <td>NaT</td>\n",
       "      <td>themoviestreamer.com</td>\n",
       "      <td>NaN</td>\n",
       "      <td>NaN</td>\n",
       "      <td>0</td>\n",
       "      <td>0</td>\n",
       "      <td>0</td>\n",
       "      <td>0</td>\n",
       "      <td>&lt;NA&gt;</td>\n",
       "      <td>NaN</td>\n",
       "      <td>NaT</td>\n",
       "      <td>NaN</td>\n",
       "      <td>NaN</td>\n",
       "      <td>&lt;NA&gt;</td>\n",
       "      <td>&lt;NA&gt;</td>\n",
       "      <td>&lt;NA&gt;</td>\n",
       "      <td>&lt;NA&gt;</td>\n",
       "    </tr>\n",
       "    <tr>\n",
       "      <th>7</th>\n",
       "      <td>10002</td>\n",
       "      <td>Synergie Media</td>\n",
       "      <td>advertising</td>\n",
       "      <td>operating</td>\n",
       "      <td>2007-06-27</td>\n",
       "      <td>NaT</td>\n",
       "      <td>synergie-media.com</td>\n",
       "      <td>NaN</td>\n",
       "      <td>MAR</td>\n",
       "      <td>0</td>\n",
       "      <td>0</td>\n",
       "      <td>0</td>\n",
       "      <td>0</td>\n",
       "      <td>&lt;NA&gt;</td>\n",
       "      <td>NaN</td>\n",
       "      <td>NaT</td>\n",
       "      <td>NaN</td>\n",
       "      <td>NaN</td>\n",
       "      <td>&lt;NA&gt;</td>\n",
       "      <td>&lt;NA&gt;</td>\n",
       "      <td>&lt;NA&gt;</td>\n",
       "      <td>&lt;NA&gt;</td>\n",
       "    </tr>\n",
       "    <tr>\n",
       "      <th>8</th>\n",
       "      <td>10003</td>\n",
       "      <td>Green Basti Ecosystems</td>\n",
       "      <td>cleantech</td>\n",
       "      <td>operating</td>\n",
       "      <td>2008-08-20</td>\n",
       "      <td>NaT</td>\n",
       "      <td>NaN</td>\n",
       "      <td>NaN</td>\n",
       "      <td>IND</td>\n",
       "      <td>0</td>\n",
       "      <td>0</td>\n",
       "      <td>0</td>\n",
       "      <td>0</td>\n",
       "      <td>&lt;NA&gt;</td>\n",
       "      <td>NaN</td>\n",
       "      <td>NaT</td>\n",
       "      <td>NaN</td>\n",
       "      <td>NaN</td>\n",
       "      <td>&lt;NA&gt;</td>\n",
       "      <td>&lt;NA&gt;</td>\n",
       "      <td>&lt;NA&gt;</td>\n",
       "      <td>&lt;NA&gt;</td>\n",
       "    </tr>\n",
       "    <tr>\n",
       "      <th>9</th>\n",
       "      <td>100042</td>\n",
       "      <td>HostNine</td>\n",
       "      <td>NaN</td>\n",
       "      <td>operating</td>\n",
       "      <td>NaT</td>\n",
       "      <td>NaT</td>\n",
       "      <td>hostnine.com</td>\n",
       "      <td>Hostnine</td>\n",
       "      <td>NaN</td>\n",
       "      <td>0</td>\n",
       "      <td>0</td>\n",
       "      <td>0</td>\n",
       "      <td>1</td>\n",
       "      <td>&lt;NA&gt;</td>\n",
       "      <td>NaN</td>\n",
       "      <td>NaT</td>\n",
       "      <td>NaN</td>\n",
       "      <td>NaN</td>\n",
       "      <td>&lt;NA&gt;</td>\n",
       "      <td>&lt;NA&gt;</td>\n",
       "      <td>&lt;NA&gt;</td>\n",
       "      <td>&lt;NA&gt;</td>\n",
       "    </tr>\n",
       "  </tbody>\n",
       "</table>\n",
       "</div>"
      ],
      "text/plain": [
       "   company_id                    name    category_code     status founded_at  \\\n",
       "0           1                Wetpaint              web  operating 2005-10-17   \n",
       "1           1                Wetpaint              web  operating 2005-10-17   \n",
       "2           1                Wetpaint              web  operating 2005-10-17   \n",
       "3          10                 Flektor      games_video   acquired        NaT   \n",
       "4         100                   There      games_video   acquired        NaT   \n",
       "5       10000                 MYWEBBO  network_hosting  operating 2008-07-26   \n",
       "6       10001      THE Movie Streamer      games_video  operating 2008-07-26   \n",
       "7       10002          Synergie Media      advertising  operating 2007-06-27   \n",
       "8       10003  Green Basti Ecosystems        cleantech  operating 2008-08-20   \n",
       "9      100042                HostNine              NaN  operating        NaT   \n",
       "\n",
       "  closed_at                domain network_username country_code  \\\n",
       "0       NaT      wetpaint-inc.com  BachelrWetpaint          USA   \n",
       "1       NaT      wetpaint-inc.com  BachelrWetpaint          USA   \n",
       "2       NaT      wetpaint-inc.com  BachelrWetpaint          USA   \n",
       "3       NaT           flektor.com              NaN          USA   \n",
       "4       NaT             there.com              NaN          USA   \n",
       "5       NaT           mywebbo.com              NaN          NaN   \n",
       "6       NaT  themoviestreamer.com              NaN          NaN   \n",
       "7       NaT    synergie-media.com              NaN          MAR   \n",
       "8       NaT                   NaN              NaN          IND   \n",
       "9       NaT          hostnine.com         Hostnine          NaN   \n",
       "\n",
       "   investment_rounds  funding_rounds  funding_total  milestones  \\\n",
       "0                  0               3       39750000           5   \n",
       "1                  0               3       39750000           5   \n",
       "2                  0               3       39750000           5   \n",
       "3                  0               0              0           0   \n",
       "4                  0               0              0           4   \n",
       "5                  0               0              0           0   \n",
       "6                  0               0              0           0   \n",
       "7                  0               0              0           0   \n",
       "8                  0               0              0           0   \n",
       "9                  0               0              0           1   \n",
       "\n",
       "   funding_round_id  с_id  funded_at funding_round_type  raised_amount  \\\n",
       "0               888   1.0 2005-10-01           series-a      5250000.0   \n",
       "1               889   1.0 2007-01-01           series-b      9500000.0   \n",
       "2              2312   1.0 2008-05-19          series-c+     25000000.0   \n",
       "3              <NA>   NaN        NaT                NaN            NaN   \n",
       "4              <NA>   NaN        NaT                NaN            NaN   \n",
       "5              <NA>   NaN        NaT                NaN            NaN   \n",
       "6              <NA>   NaN        NaT                NaN            NaN   \n",
       "7              <NA>   NaN        NaT                NaN            NaN   \n",
       "8              <NA>   NaN        NaT                NaN            NaN   \n",
       "9              <NA>   NaN        NaT                NaN            NaN   \n",
       "\n",
       "   pre_money_valuation  participants  is_first_round  is_last_round  \n",
       "0                    0             2               0              1  \n",
       "1                    0             3               0              0  \n",
       "2                    0             4               1              0  \n",
       "3                 <NA>          <NA>            <NA>           <NA>  \n",
       "4                 <NA>          <NA>            <NA>           <NA>  \n",
       "5                 <NA>          <NA>            <NA>           <NA>  \n",
       "6                 <NA>          <NA>            <NA>           <NA>  \n",
       "7                 <NA>          <NA>            <NA>           <NA>  \n",
       "8                 <NA>          <NA>            <NA>           <NA>  \n",
       "9                 <NA>          <NA>            <NA>           <NA>  "
      ]
     },
     "metadata": {},
     "output_type": "display_data"
    },
    {
     "data": {
      "text/html": [
       "<div>\n",
       "<style scoped>\n",
       "    .dataframe tbody tr th:only-of-type {\n",
       "        vertical-align: middle;\n",
       "    }\n",
       "\n",
       "    .dataframe tbody tr th {\n",
       "        vertical-align: top;\n",
       "    }\n",
       "\n",
       "    .dataframe thead th {\n",
       "        text-align: right;\n",
       "    }\n",
       "</style>\n",
       "<table border=\"1\" class=\"dataframe\">\n",
       "  <thead>\n",
       "    <tr style=\"text-align: right;\">\n",
       "      <th></th>\n",
       "      <th>company_id</th>\n",
       "      <th>name</th>\n",
       "      <th>category_code</th>\n",
       "      <th>status</th>\n",
       "      <th>founded_at</th>\n",
       "      <th>closed_at</th>\n",
       "      <th>domain</th>\n",
       "      <th>network_username</th>\n",
       "      <th>country_code</th>\n",
       "      <th>investment_rounds</th>\n",
       "      <th>funding_rounds</th>\n",
       "      <th>funding_total</th>\n",
       "      <th>milestones</th>\n",
       "      <th>funding_round_id</th>\n",
       "      <th>с_id</th>\n",
       "      <th>funded_at</th>\n",
       "      <th>funding_round_type</th>\n",
       "      <th>raised_amount</th>\n",
       "      <th>pre_money_valuation</th>\n",
       "      <th>participants</th>\n",
       "      <th>is_first_round</th>\n",
       "      <th>is_last_round</th>\n",
       "    </tr>\n",
       "  </thead>\n",
       "  <tbody>\n",
       "    <tr>\n",
       "      <th>217462</th>\n",
       "      <td>183352</td>\n",
       "      <td>Mattress Source</td>\n",
       "      <td>NaN</td>\n",
       "      <td>operating</td>\n",
       "      <td>NaT</td>\n",
       "      <td>NaT</td>\n",
       "      <td>mattresssourcestl.com</td>\n",
       "      <td>network</td>\n",
       "      <td>NaN</td>\n",
       "      <td>0</td>\n",
       "      <td>0</td>\n",
       "      <td>0</td>\n",
       "      <td>0</td>\n",
       "      <td>&lt;NA&gt;</td>\n",
       "      <td>NaN</td>\n",
       "      <td>NaT</td>\n",
       "      <td>NaN</td>\n",
       "      <td>NaN</td>\n",
       "      <td>&lt;NA&gt;</td>\n",
       "      <td>&lt;NA&gt;</td>\n",
       "      <td>&lt;NA&gt;</td>\n",
       "      <td>&lt;NA&gt;</td>\n",
       "    </tr>\n",
       "    <tr>\n",
       "      <th>217463</th>\n",
       "      <td>3429</td>\n",
       "      <td>Zend Technologies</td>\n",
       "      <td>software</td>\n",
       "      <td>operating</td>\n",
       "      <td>1999-01-01</td>\n",
       "      <td>NaT</td>\n",
       "      <td>zend.com</td>\n",
       "      <td>networkzend</td>\n",
       "      <td>USA</td>\n",
       "      <td>0</td>\n",
       "      <td>4</td>\n",
       "      <td>44000000</td>\n",
       "      <td>6</td>\n",
       "      <td>2318</td>\n",
       "      <td>3429.0</td>\n",
       "      <td>2006-08-28</td>\n",
       "      <td>series-c+</td>\n",
       "      <td>20000000.0</td>\n",
       "      <td>0</td>\n",
       "      <td>7</td>\n",
       "      <td>0</td>\n",
       "      <td>0</td>\n",
       "    </tr>\n",
       "    <tr>\n",
       "      <th>217464</th>\n",
       "      <td>3429</td>\n",
       "      <td>Zend Technologies</td>\n",
       "      <td>software</td>\n",
       "      <td>operating</td>\n",
       "      <td>1999-01-01</td>\n",
       "      <td>NaT</td>\n",
       "      <td>zend.com</td>\n",
       "      <td>networkzend</td>\n",
       "      <td>USA</td>\n",
       "      <td>0</td>\n",
       "      <td>4</td>\n",
       "      <td>44000000</td>\n",
       "      <td>6</td>\n",
       "      <td>2319</td>\n",
       "      <td>3429.0</td>\n",
       "      <td>2004-07-19</td>\n",
       "      <td>series-c+</td>\n",
       "      <td>8000000.0</td>\n",
       "      <td>0</td>\n",
       "      <td>4</td>\n",
       "      <td>0</td>\n",
       "      <td>1</td>\n",
       "    </tr>\n",
       "    <tr>\n",
       "      <th>217465</th>\n",
       "      <td>3429</td>\n",
       "      <td>Zend Technologies</td>\n",
       "      <td>software</td>\n",
       "      <td>operating</td>\n",
       "      <td>1999-01-01</td>\n",
       "      <td>NaT</td>\n",
       "      <td>zend.com</td>\n",
       "      <td>networkzend</td>\n",
       "      <td>USA</td>\n",
       "      <td>0</td>\n",
       "      <td>4</td>\n",
       "      <td>44000000</td>\n",
       "      <td>6</td>\n",
       "      <td>15655</td>\n",
       "      <td>3429.0</td>\n",
       "      <td>2010-05-17</td>\n",
       "      <td>venture</td>\n",
       "      <td>9000000.0</td>\n",
       "      <td>0</td>\n",
       "      <td>6</td>\n",
       "      <td>0</td>\n",
       "      <td>0</td>\n",
       "    </tr>\n",
       "    <tr>\n",
       "      <th>217466</th>\n",
       "      <td>3429</td>\n",
       "      <td>Zend Technologies</td>\n",
       "      <td>software</td>\n",
       "      <td>operating</td>\n",
       "      <td>1999-01-01</td>\n",
       "      <td>NaT</td>\n",
       "      <td>zend.com</td>\n",
       "      <td>networkzend</td>\n",
       "      <td>USA</td>\n",
       "      <td>0</td>\n",
       "      <td>4</td>\n",
       "      <td>44000000</td>\n",
       "      <td>6</td>\n",
       "      <td>20896</td>\n",
       "      <td>3429.0</td>\n",
       "      <td>2011-01-10</td>\n",
       "      <td>venture</td>\n",
       "      <td>7000000.0</td>\n",
       "      <td>0</td>\n",
       "      <td>1</td>\n",
       "      <td>1</td>\n",
       "      <td>0</td>\n",
       "    </tr>\n",
       "    <tr>\n",
       "      <th>217467</th>\n",
       "      <td>7748</td>\n",
       "      <td>Flowgram</td>\n",
       "      <td>web</td>\n",
       "      <td>closed</td>\n",
       "      <td>2007-06-01</td>\n",
       "      <td>2008-06-11</td>\n",
       "      <td>flowgram.com</td>\n",
       "      <td>network</td>\n",
       "      <td>USA</td>\n",
       "      <td>0</td>\n",
       "      <td>1</td>\n",
       "      <td>1300000</td>\n",
       "      <td>3</td>\n",
       "      <td>2836</td>\n",
       "      <td>7748.0</td>\n",
       "      <td>2008-01-31</td>\n",
       "      <td>angel</td>\n",
       "      <td>1300000.0</td>\n",
       "      <td>0</td>\n",
       "      <td>8</td>\n",
       "      <td>1</td>\n",
       "      <td>1</td>\n",
       "    </tr>\n",
       "    <tr>\n",
       "      <th>217468</th>\n",
       "      <td>174536</td>\n",
       "      <td>Pphotonet</td>\n",
       "      <td>games_video</td>\n",
       "      <td>operating</td>\n",
       "      <td>2012-05-01</td>\n",
       "      <td>NaT</td>\n",
       "      <td>pPhotonet.co</td>\n",
       "      <td>pPhotonet</td>\n",
       "      <td>NaN</td>\n",
       "      <td>0</td>\n",
       "      <td>0</td>\n",
       "      <td>0</td>\n",
       "      <td>0</td>\n",
       "      <td>&lt;NA&gt;</td>\n",
       "      <td>NaN</td>\n",
       "      <td>NaT</td>\n",
       "      <td>NaN</td>\n",
       "      <td>NaN</td>\n",
       "      <td>&lt;NA&gt;</td>\n",
       "      <td>&lt;NA&gt;</td>\n",
       "      <td>&lt;NA&gt;</td>\n",
       "      <td>&lt;NA&gt;</td>\n",
       "    </tr>\n",
       "    <tr>\n",
       "      <th>217469</th>\n",
       "      <td>43233</td>\n",
       "      <td>Photonet</td>\n",
       "      <td>photo_video</td>\n",
       "      <td>acquired</td>\n",
       "      <td>2010-03-01</td>\n",
       "      <td>NaT</td>\n",
       "      <td>Photonet.com</td>\n",
       "      <td>Photonet</td>\n",
       "      <td>USA</td>\n",
       "      <td>0</td>\n",
       "      <td>3</td>\n",
       "      <td>57500000</td>\n",
       "      <td>3</td>\n",
       "      <td>12687</td>\n",
       "      <td>43233.0</td>\n",
       "      <td>2010-03-05</td>\n",
       "      <td>angel</td>\n",
       "      <td>500000.0</td>\n",
       "      <td>0</td>\n",
       "      <td>2</td>\n",
       "      <td>0</td>\n",
       "      <td>1</td>\n",
       "    </tr>\n",
       "    <tr>\n",
       "      <th>217470</th>\n",
       "      <td>43233</td>\n",
       "      <td>Photonet</td>\n",
       "      <td>photo_video</td>\n",
       "      <td>acquired</td>\n",
       "      <td>2010-03-01</td>\n",
       "      <td>NaT</td>\n",
       "      <td>Photonet.com</td>\n",
       "      <td>Photonet</td>\n",
       "      <td>USA</td>\n",
       "      <td>0</td>\n",
       "      <td>3</td>\n",
       "      <td>57500000</td>\n",
       "      <td>3</td>\n",
       "      <td>21259</td>\n",
       "      <td>43233.0</td>\n",
       "      <td>2011-02-02</td>\n",
       "      <td>series-a</td>\n",
       "      <td>7000000.0</td>\n",
       "      <td>0</td>\n",
       "      <td>5</td>\n",
       "      <td>0</td>\n",
       "      <td>0</td>\n",
       "    </tr>\n",
       "    <tr>\n",
       "      <th>217471</th>\n",
       "      <td>43233</td>\n",
       "      <td>Photonet</td>\n",
       "      <td>photo_video</td>\n",
       "      <td>acquired</td>\n",
       "      <td>2010-03-01</td>\n",
       "      <td>NaT</td>\n",
       "      <td>Photonet.com</td>\n",
       "      <td>Photonet</td>\n",
       "      <td>USA</td>\n",
       "      <td>0</td>\n",
       "      <td>3</td>\n",
       "      <td>57500000</td>\n",
       "      <td>3</td>\n",
       "      <td>28645</td>\n",
       "      <td>43233.0</td>\n",
       "      <td>2012-04-05</td>\n",
       "      <td>series-b</td>\n",
       "      <td>50000000.0</td>\n",
       "      <td>0</td>\n",
       "      <td>5</td>\n",
       "      <td>1</td>\n",
       "      <td>0</td>\n",
       "    </tr>\n",
       "  </tbody>\n",
       "</table>\n",
       "</div>"
      ],
      "text/plain": [
       "        company_id               name category_code     status founded_at  \\\n",
       "217462      183352    Mattress Source           NaN  operating        NaT   \n",
       "217463        3429  Zend Technologies      software  operating 1999-01-01   \n",
       "217464        3429  Zend Technologies      software  operating 1999-01-01   \n",
       "217465        3429  Zend Technologies      software  operating 1999-01-01   \n",
       "217466        3429  Zend Technologies      software  operating 1999-01-01   \n",
       "217467        7748           Flowgram           web     closed 2007-06-01   \n",
       "217468      174536          Pphotonet   games_video  operating 2012-05-01   \n",
       "217469       43233           Photonet   photo_video   acquired 2010-03-01   \n",
       "217470       43233           Photonet   photo_video   acquired 2010-03-01   \n",
       "217471       43233           Photonet   photo_video   acquired 2010-03-01   \n",
       "\n",
       "        closed_at                 domain network_username country_code  \\\n",
       "217462        NaT  mattresssourcestl.com          network          NaN   \n",
       "217463        NaT               zend.com      networkzend          USA   \n",
       "217464        NaT               zend.com      networkzend          USA   \n",
       "217465        NaT               zend.com      networkzend          USA   \n",
       "217466        NaT               zend.com      networkzend          USA   \n",
       "217467 2008-06-11           flowgram.com          network          USA   \n",
       "217468        NaT           pPhotonet.co        pPhotonet          NaN   \n",
       "217469        NaT           Photonet.com         Photonet          USA   \n",
       "217470        NaT           Photonet.com         Photonet          USA   \n",
       "217471        NaT           Photonet.com         Photonet          USA   \n",
       "\n",
       "        investment_rounds  funding_rounds  funding_total  milestones  \\\n",
       "217462                  0               0              0           0   \n",
       "217463                  0               4       44000000           6   \n",
       "217464                  0               4       44000000           6   \n",
       "217465                  0               4       44000000           6   \n",
       "217466                  0               4       44000000           6   \n",
       "217467                  0               1        1300000           3   \n",
       "217468                  0               0              0           0   \n",
       "217469                  0               3       57500000           3   \n",
       "217470                  0               3       57500000           3   \n",
       "217471                  0               3       57500000           3   \n",
       "\n",
       "        funding_round_id     с_id  funded_at funding_round_type  \\\n",
       "217462              <NA>      NaN        NaT                NaN   \n",
       "217463              2318   3429.0 2006-08-28          series-c+   \n",
       "217464              2319   3429.0 2004-07-19          series-c+   \n",
       "217465             15655   3429.0 2010-05-17            venture   \n",
       "217466             20896   3429.0 2011-01-10            venture   \n",
       "217467              2836   7748.0 2008-01-31              angel   \n",
       "217468              <NA>      NaN        NaT                NaN   \n",
       "217469             12687  43233.0 2010-03-05              angel   \n",
       "217470             21259  43233.0 2011-02-02           series-a   \n",
       "217471             28645  43233.0 2012-04-05           series-b   \n",
       "\n",
       "        raised_amount  pre_money_valuation  participants  is_first_round  \\\n",
       "217462            NaN                 <NA>          <NA>            <NA>   \n",
       "217463     20000000.0                    0             7               0   \n",
       "217464      8000000.0                    0             4               0   \n",
       "217465      9000000.0                    0             6               0   \n",
       "217466      7000000.0                    0             1               1   \n",
       "217467      1300000.0                    0             8               1   \n",
       "217468            NaN                 <NA>          <NA>            <NA>   \n",
       "217469       500000.0                    0             2               0   \n",
       "217470      7000000.0                    0             5               0   \n",
       "217471     50000000.0                    0             5               1   \n",
       "\n",
       "        is_last_round  \n",
       "217462           <NA>  \n",
       "217463              0  \n",
       "217464              1  \n",
       "217465              0  \n",
       "217466              0  \n",
       "217467              1  \n",
       "217468           <NA>  \n",
       "217469              1  \n",
       "217470              0  \n",
       "217471              0  "
      ]
     },
     "metadata": {},
     "output_type": "display_data"
    }
   ],
   "source": [
    "# Выводим первые и последние 10 строк\n",
    "display(df_comp_rounds.head(10))\n",
    "display(df_comp_rounds.tail(10))"
   ]
  },
  {
   "cell_type": "markdown",
   "metadata": {},
   "source": [
    "Учитывая результаты о пропусках в данных из пункта `1.4.3` и рассмотрев данные построчно можно сделать вывод:\n",
    "- пропуски в столбцах `funding_round_id`,\t`с_id`,\t`funded_at`, `funding_round_type`, `raised_amount`,\t`pre_money_valuation`, `participants`, `is_first_round`, `is_last_round` связаны с отсутствием раундов финансирования у некоторых компаний\n",
    "\n",
    "Следовательно можно сделать вывод что датасет `df_comp_rounds` образован в результате объединения двух датасетов.\n",
    "\n",
    "Разделим датасет `df_comp_rounds` на два с первичным ключом по столбцу `company_id`:\n",
    "- `df_company` - информация о компаниях\n",
    "- `df_rounds` информация о раундах финансирования"
   ]
  },
  {
   "cell_type": "code",
   "execution_count": 40,
   "metadata": {},
   "outputs": [
    {
     "data": {
      "text/html": [
       "<div>\n",
       "<style scoped>\n",
       "    .dataframe tbody tr th:only-of-type {\n",
       "        vertical-align: middle;\n",
       "    }\n",
       "\n",
       "    .dataframe tbody tr th {\n",
       "        vertical-align: top;\n",
       "    }\n",
       "\n",
       "    .dataframe thead th {\n",
       "        text-align: right;\n",
       "    }\n",
       "</style>\n",
       "<table border=\"1\" class=\"dataframe\">\n",
       "  <thead>\n",
       "    <tr style=\"text-align: right;\">\n",
       "      <th></th>\n",
       "      <th>company_id</th>\n",
       "      <th>name</th>\n",
       "      <th>category_code</th>\n",
       "      <th>status</th>\n",
       "      <th>founded_at</th>\n",
       "      <th>closed_at</th>\n",
       "      <th>domain</th>\n",
       "      <th>network_username</th>\n",
       "      <th>country_code</th>\n",
       "      <th>investment_rounds</th>\n",
       "      <th>funding_rounds</th>\n",
       "      <th>funding_total</th>\n",
       "      <th>milestones</th>\n",
       "    </tr>\n",
       "  </thead>\n",
       "  <tbody>\n",
       "    <tr>\n",
       "      <th>0</th>\n",
       "      <td>1</td>\n",
       "      <td>Wetpaint</td>\n",
       "      <td>web</td>\n",
       "      <td>operating</td>\n",
       "      <td>2005-10-17</td>\n",
       "      <td>NaT</td>\n",
       "      <td>wetpaint-inc.com</td>\n",
       "      <td>BachelrWetpaint</td>\n",
       "      <td>USA</td>\n",
       "      <td>0</td>\n",
       "      <td>3</td>\n",
       "      <td>39750000</td>\n",
       "      <td>5</td>\n",
       "    </tr>\n",
       "    <tr>\n",
       "      <th>1</th>\n",
       "      <td>10</td>\n",
       "      <td>Flektor</td>\n",
       "      <td>games_video</td>\n",
       "      <td>acquired</td>\n",
       "      <td>NaT</td>\n",
       "      <td>NaT</td>\n",
       "      <td>flektor.com</td>\n",
       "      <td>NaN</td>\n",
       "      <td>USA</td>\n",
       "      <td>0</td>\n",
       "      <td>0</td>\n",
       "      <td>0</td>\n",
       "      <td>0</td>\n",
       "    </tr>\n",
       "    <tr>\n",
       "      <th>2</th>\n",
       "      <td>100</td>\n",
       "      <td>There</td>\n",
       "      <td>games_video</td>\n",
       "      <td>acquired</td>\n",
       "      <td>NaT</td>\n",
       "      <td>NaT</td>\n",
       "      <td>there.com</td>\n",
       "      <td>NaN</td>\n",
       "      <td>USA</td>\n",
       "      <td>0</td>\n",
       "      <td>0</td>\n",
       "      <td>0</td>\n",
       "      <td>4</td>\n",
       "    </tr>\n",
       "    <tr>\n",
       "      <th>3</th>\n",
       "      <td>10000</td>\n",
       "      <td>MYWEBBO</td>\n",
       "      <td>network_hosting</td>\n",
       "      <td>operating</td>\n",
       "      <td>2008-07-26</td>\n",
       "      <td>NaT</td>\n",
       "      <td>mywebbo.com</td>\n",
       "      <td>NaN</td>\n",
       "      <td>NaN</td>\n",
       "      <td>0</td>\n",
       "      <td>0</td>\n",
       "      <td>0</td>\n",
       "      <td>0</td>\n",
       "    </tr>\n",
       "    <tr>\n",
       "      <th>4</th>\n",
       "      <td>10001</td>\n",
       "      <td>THE Movie Streamer</td>\n",
       "      <td>games_video</td>\n",
       "      <td>operating</td>\n",
       "      <td>2008-07-26</td>\n",
       "      <td>NaT</td>\n",
       "      <td>themoviestreamer.com</td>\n",
       "      <td>NaN</td>\n",
       "      <td>NaN</td>\n",
       "      <td>0</td>\n",
       "      <td>0</td>\n",
       "      <td>0</td>\n",
       "      <td>0</td>\n",
       "    </tr>\n",
       "  </tbody>\n",
       "</table>\n",
       "</div>"
      ],
      "text/plain": [
       "   company_id                name    category_code     status founded_at  \\\n",
       "0           1            Wetpaint              web  operating 2005-10-17   \n",
       "1          10             Flektor      games_video   acquired        NaT   \n",
       "2         100               There      games_video   acquired        NaT   \n",
       "3       10000             MYWEBBO  network_hosting  operating 2008-07-26   \n",
       "4       10001  THE Movie Streamer      games_video  operating 2008-07-26   \n",
       "\n",
       "  closed_at                domain network_username country_code  \\\n",
       "0       NaT      wetpaint-inc.com  BachelrWetpaint          USA   \n",
       "1       NaT           flektor.com              NaN          USA   \n",
       "2       NaT             there.com              NaN          USA   \n",
       "3       NaT           mywebbo.com              NaN          NaN   \n",
       "4       NaT  themoviestreamer.com              NaN          NaN   \n",
       "\n",
       "   investment_rounds  funding_rounds  funding_total  milestones  \n",
       "0                  0               3       39750000           5  \n",
       "1                  0               0              0           0  \n",
       "2                  0               0              0           4  \n",
       "3                  0               0              0           0  \n",
       "4                  0               0              0           0  "
      ]
     },
     "metadata": {},
     "output_type": "display_data"
    },
    {
     "name": "stdout",
     "output_type": "stream",
     "text": [
      "Пропуски в датасете: df_company\n"
     ]
    },
    {
     "data": {
      "text/html": [
       "<style  type=\"text/css\" >\n",
       "#T_2619f_row0_col0,#T_2619f_row0_col1,#T_2619f_row1_col0,#T_2619f_row1_col1,#T_2619f_row3_col0,#T_2619f_row3_col1,#T_2619f_row9_col0,#T_2619f_row9_col1,#T_2619f_row10_col0,#T_2619f_row10_col1,#T_2619f_row11_col0,#T_2619f_row11_col1,#T_2619f_row12_col0,#T_2619f_row12_col1{\n",
       "            background-color:  #3b4cc0;\n",
       "            color:  #f1f1f1;\n",
       "        }#T_2619f_row2_col0,#T_2619f_row2_col1{\n",
       "            background-color:  #b9d0f9;\n",
       "            color:  #000000;\n",
       "        }#T_2619f_row4_col0,#T_2619f_row4_col1{\n",
       "            background-color:  #e8d6cc;\n",
       "            color:  #000000;\n",
       "        }#T_2619f_row5_col0,#T_2619f_row5_col1{\n",
       "            background-color:  #b40426;\n",
       "            color:  #f1f1f1;\n",
       "        }#T_2619f_row6_col0,#T_2619f_row6_col1{\n",
       "            background-color:  #b3cdfb;\n",
       "            color:  #000000;\n",
       "        }#T_2619f_row7_col0,#T_2619f_row7_col1{\n",
       "            background-color:  #f2cbb7;\n",
       "            color:  #000000;\n",
       "        }#T_2619f_row8_col0,#T_2619f_row8_col1{\n",
       "            background-color:  #ebd3c6;\n",
       "            color:  #000000;\n",
       "        }</style><table id=\"T_2619f_\" ><thead>    <tr>        <th class=\"blank level0\" ></th>        <th class=\"col_heading level0 col0\" >Кол-во пропусков</th>        <th class=\"col_heading level0 col1\" >Доля пропусков</th>    </tr></thead><tbody>\n",
       "                <tr>\n",
       "                        <th id=\"T_2619f_level0_row0\" class=\"row_heading level0 row0\" >company_id</th>\n",
       "                        <td id=\"T_2619f_row0_col0\" class=\"data row0 col0\" >0</td>\n",
       "                        <td id=\"T_2619f_row0_col1\" class=\"data row0 col1\" >0.000000</td>\n",
       "            </tr>\n",
       "            <tr>\n",
       "                        <th id=\"T_2619f_level0_row1\" class=\"row_heading level0 row1\" >name</th>\n",
       "                        <td id=\"T_2619f_row1_col0\" class=\"data row1 col0\" >0</td>\n",
       "                        <td id=\"T_2619f_row1_col1\" class=\"data row1 col1\" >0.000000</td>\n",
       "            </tr>\n",
       "            <tr>\n",
       "                        <th id=\"T_2619f_level0_row2\" class=\"row_heading level0 row2\" >category_code</th>\n",
       "                        <td id=\"T_2619f_row2_col0\" class=\"data row2 col0\" >73367</td>\n",
       "                        <td id=\"T_2619f_row2_col1\" class=\"data row2 col1\" >0.373300</td>\n",
       "            </tr>\n",
       "            <tr>\n",
       "                        <th id=\"T_2619f_level0_row3\" class=\"row_heading level0 row3\" >status</th>\n",
       "                        <td id=\"T_2619f_row3_col0\" class=\"data row3 col0\" >0</td>\n",
       "                        <td id=\"T_2619f_row3_col1\" class=\"data row3 col1\" >0.000000</td>\n",
       "            </tr>\n",
       "            <tr>\n",
       "                        <th id=\"T_2619f_level0_row4\" class=\"row_heading level0 row4\" >founded_at</th>\n",
       "                        <td id=\"T_2619f_row4_col0\" class=\"data row4 col0\" >105326</td>\n",
       "                        <td id=\"T_2619f_row4_col1\" class=\"data row4 col1\" >0.535900</td>\n",
       "            </tr>\n",
       "            <tr>\n",
       "                        <th id=\"T_2619f_level0_row5\" class=\"row_heading level0 row5\" >closed_at</th>\n",
       "                        <td id=\"T_2619f_row5_col0\" class=\"data row5 col0\" >193933</td>\n",
       "                        <td id=\"T_2619f_row5_col1\" class=\"data row5 col1\" >0.986700</td>\n",
       "            </tr>\n",
       "            <tr>\n",
       "                        <th id=\"T_2619f_level0_row6\" class=\"row_heading level0 row6\" >domain</th>\n",
       "                        <td id=\"T_2619f_row6_col0\" class=\"data row6 col0\" >70008</td>\n",
       "                        <td id=\"T_2619f_row6_col1\" class=\"data row6 col1\" >0.356200</td>\n",
       "            </tr>\n",
       "            <tr>\n",
       "                        <th id=\"T_2619f_level0_row7\" class=\"row_heading level0 row7\" >network_username</th>\n",
       "                        <td id=\"T_2619f_row7_col0\" class=\"data row7 col0\" >115962</td>\n",
       "                        <td id=\"T_2619f_row7_col1\" class=\"data row7 col1\" >0.590000</td>\n",
       "            </tr>\n",
       "            <tr>\n",
       "                        <th id=\"T_2619f_level0_row8\" class=\"row_heading level0 row8\" >country_code</th>\n",
       "                        <td id=\"T_2619f_row8_col0\" class=\"data row8 col0\" >108563</td>\n",
       "                        <td id=\"T_2619f_row8_col1\" class=\"data row8 col1\" >0.552300</td>\n",
       "            </tr>\n",
       "            <tr>\n",
       "                        <th id=\"T_2619f_level0_row9\" class=\"row_heading level0 row9\" >investment_rounds</th>\n",
       "                        <td id=\"T_2619f_row9_col0\" class=\"data row9 col0\" >0</td>\n",
       "                        <td id=\"T_2619f_row9_col1\" class=\"data row9 col1\" >0.000000</td>\n",
       "            </tr>\n",
       "            <tr>\n",
       "                        <th id=\"T_2619f_level0_row10\" class=\"row_heading level0 row10\" >funding_rounds</th>\n",
       "                        <td id=\"T_2619f_row10_col0\" class=\"data row10 col0\" >0</td>\n",
       "                        <td id=\"T_2619f_row10_col1\" class=\"data row10 col1\" >0.000000</td>\n",
       "            </tr>\n",
       "            <tr>\n",
       "                        <th id=\"T_2619f_level0_row11\" class=\"row_heading level0 row11\" >funding_total</th>\n",
       "                        <td id=\"T_2619f_row11_col0\" class=\"data row11 col0\" >0</td>\n",
       "                        <td id=\"T_2619f_row11_col1\" class=\"data row11 col1\" >0.000000</td>\n",
       "            </tr>\n",
       "            <tr>\n",
       "                        <th id=\"T_2619f_level0_row12\" class=\"row_heading level0 row12\" >milestones</th>\n",
       "                        <td id=\"T_2619f_row12_col0\" class=\"data row12 col0\" >0</td>\n",
       "                        <td id=\"T_2619f_row12_col1\" class=\"data row12 col1\" >0.000000</td>\n",
       "            </tr>\n",
       "    </tbody></table>"
      ],
      "text/plain": [
       "<pandas.io.formats.style.Styler at 0x7f6626a4f730>"
      ]
     },
     "metadata": {},
     "output_type": "display_data"
    },
    {
     "data": {
      "text/html": [
       "<div>\n",
       "<style scoped>\n",
       "    .dataframe tbody tr th:only-of-type {\n",
       "        vertical-align: middle;\n",
       "    }\n",
       "\n",
       "    .dataframe tbody tr th {\n",
       "        vertical-align: top;\n",
       "    }\n",
       "\n",
       "    .dataframe thead th {\n",
       "        text-align: right;\n",
       "    }\n",
       "</style>\n",
       "<table border=\"1\" class=\"dataframe\">\n",
       "  <thead>\n",
       "    <tr style=\"text-align: right;\">\n",
       "      <th></th>\n",
       "      <th>funding_round_id</th>\n",
       "      <th>company_id</th>\n",
       "      <th>funded_at</th>\n",
       "      <th>funding_round_type</th>\n",
       "      <th>raised_amount</th>\n",
       "      <th>pre_money_valuation</th>\n",
       "      <th>participants</th>\n",
       "      <th>is_first_round</th>\n",
       "      <th>is_last_round</th>\n",
       "    </tr>\n",
       "  </thead>\n",
       "  <tbody>\n",
       "    <tr>\n",
       "      <th>0</th>\n",
       "      <td>888</td>\n",
       "      <td>1</td>\n",
       "      <td>2005-10-01</td>\n",
       "      <td>series-a</td>\n",
       "      <td>5250000.0</td>\n",
       "      <td>0</td>\n",
       "      <td>2</td>\n",
       "      <td>0</td>\n",
       "      <td>1</td>\n",
       "    </tr>\n",
       "    <tr>\n",
       "      <th>1</th>\n",
       "      <td>889</td>\n",
       "      <td>1</td>\n",
       "      <td>2007-01-01</td>\n",
       "      <td>series-b</td>\n",
       "      <td>9500000.0</td>\n",
       "      <td>0</td>\n",
       "      <td>3</td>\n",
       "      <td>0</td>\n",
       "      <td>0</td>\n",
       "    </tr>\n",
       "    <tr>\n",
       "      <th>2</th>\n",
       "      <td>2312</td>\n",
       "      <td>1</td>\n",
       "      <td>2008-05-19</td>\n",
       "      <td>series-c+</td>\n",
       "      <td>25000000.0</td>\n",
       "      <td>0</td>\n",
       "      <td>4</td>\n",
       "      <td>1</td>\n",
       "      <td>0</td>\n",
       "    </tr>\n",
       "    <tr>\n",
       "      <th>3</th>\n",
       "      <td>1644</td>\n",
       "      <td>1001</td>\n",
       "      <td>2008-02-26</td>\n",
       "      <td>series-a</td>\n",
       "      <td>5000000.0</td>\n",
       "      <td>0</td>\n",
       "      <td>3</td>\n",
       "      <td>1</td>\n",
       "      <td>1</td>\n",
       "    </tr>\n",
       "    <tr>\n",
       "      <th>4</th>\n",
       "      <td>6682</td>\n",
       "      <td>10014</td>\n",
       "      <td>2008-09-01</td>\n",
       "      <td>angel</td>\n",
       "      <td>0.0</td>\n",
       "      <td>0</td>\n",
       "      <td>1</td>\n",
       "      <td>1</td>\n",
       "      <td>1</td>\n",
       "    </tr>\n",
       "  </tbody>\n",
       "</table>\n",
       "</div>"
      ],
      "text/plain": [
       "   funding_round_id  company_id  funded_at funding_round_type  raised_amount  \\\n",
       "0               888           1 2005-10-01           series-a      5250000.0   \n",
       "1               889           1 2007-01-01           series-b      9500000.0   \n",
       "2              2312           1 2008-05-19          series-c+     25000000.0   \n",
       "3              1644        1001 2008-02-26           series-a      5000000.0   \n",
       "4              6682       10014 2008-09-01              angel            0.0   \n",
       "\n",
       "   pre_money_valuation  participants  is_first_round  is_last_round  \n",
       "0                    0             2               0              1  \n",
       "1                    0             3               0              0  \n",
       "2                    0             4               1              0  \n",
       "3                    0             3               1              1  \n",
       "4                    0             1               1              1  "
      ]
     },
     "metadata": {},
     "output_type": "display_data"
    },
    {
     "name": "stdout",
     "output_type": "stream",
     "text": [
      "Пропуски в датасете: df_rounds\n"
     ]
    },
    {
     "data": {
      "text/html": [
       "<style  type=\"text/css\" >\n",
       "#T_56176_row0_col0,#T_56176_row0_col1,#T_56176_row1_col0,#T_56176_row1_col1,#T_56176_row3_col0,#T_56176_row3_col1,#T_56176_row4_col0,#T_56176_row4_col1,#T_56176_row5_col0,#T_56176_row5_col1,#T_56176_row6_col0,#T_56176_row6_col1,#T_56176_row7_col0,#T_56176_row7_col1,#T_56176_row8_col0,#T_56176_row8_col1{\n",
       "            background-color:  #3b4cc0;\n",
       "            color:  #f1f1f1;\n",
       "        }#T_56176_row2_col0,#T_56176_row2_col1{\n",
       "            background-color:  #b40426;\n",
       "            color:  #f1f1f1;\n",
       "        }</style><table id=\"T_56176_\" ><thead>    <tr>        <th class=\"blank level0\" ></th>        <th class=\"col_heading level0 col0\" >Кол-во пропусков</th>        <th class=\"col_heading level0 col1\" >Доля пропусков</th>    </tr></thead><tbody>\n",
       "                <tr>\n",
       "                        <th id=\"T_56176_level0_row0\" class=\"row_heading level0 row0\" >funding_round_id</th>\n",
       "                        <td id=\"T_56176_row0_col0\" class=\"data row0 col0\" >0</td>\n",
       "                        <td id=\"T_56176_row0_col1\" class=\"data row0 col1\" >0.000000</td>\n",
       "            </tr>\n",
       "            <tr>\n",
       "                        <th id=\"T_56176_level0_row1\" class=\"row_heading level0 row1\" >company_id</th>\n",
       "                        <td id=\"T_56176_row1_col0\" class=\"data row1 col0\" >0</td>\n",
       "                        <td id=\"T_56176_row1_col1\" class=\"data row1 col1\" >0.000000</td>\n",
       "            </tr>\n",
       "            <tr>\n",
       "                        <th id=\"T_56176_level0_row2\" class=\"row_heading level0 row2\" >funded_at</th>\n",
       "                        <td id=\"T_56176_row2_col0\" class=\"data row2 col0\" >244</td>\n",
       "                        <td id=\"T_56176_row2_col1\" class=\"data row2 col1\" >0.004600</td>\n",
       "            </tr>\n",
       "            <tr>\n",
       "                        <th id=\"T_56176_level0_row3\" class=\"row_heading level0 row3\" >funding_round_type</th>\n",
       "                        <td id=\"T_56176_row3_col0\" class=\"data row3 col0\" >0</td>\n",
       "                        <td id=\"T_56176_row3_col1\" class=\"data row3 col1\" >0.000000</td>\n",
       "            </tr>\n",
       "            <tr>\n",
       "                        <th id=\"T_56176_level0_row4\" class=\"row_heading level0 row4\" >raised_amount</th>\n",
       "                        <td id=\"T_56176_row4_col0\" class=\"data row4 col0\" >0</td>\n",
       "                        <td id=\"T_56176_row4_col1\" class=\"data row4 col1\" >0.000000</td>\n",
       "            </tr>\n",
       "            <tr>\n",
       "                        <th id=\"T_56176_level0_row5\" class=\"row_heading level0 row5\" >pre_money_valuation</th>\n",
       "                        <td id=\"T_56176_row5_col0\" class=\"data row5 col0\" >0</td>\n",
       "                        <td id=\"T_56176_row5_col1\" class=\"data row5 col1\" >0.000000</td>\n",
       "            </tr>\n",
       "            <tr>\n",
       "                        <th id=\"T_56176_level0_row6\" class=\"row_heading level0 row6\" >participants</th>\n",
       "                        <td id=\"T_56176_row6_col0\" class=\"data row6 col0\" >0</td>\n",
       "                        <td id=\"T_56176_row6_col1\" class=\"data row6 col1\" >0.000000</td>\n",
       "            </tr>\n",
       "            <tr>\n",
       "                        <th id=\"T_56176_level0_row7\" class=\"row_heading level0 row7\" >is_first_round</th>\n",
       "                        <td id=\"T_56176_row7_col0\" class=\"data row7 col0\" >0</td>\n",
       "                        <td id=\"T_56176_row7_col1\" class=\"data row7 col1\" >0.000000</td>\n",
       "            </tr>\n",
       "            <tr>\n",
       "                        <th id=\"T_56176_level0_row8\" class=\"row_heading level0 row8\" >is_last_round</th>\n",
       "                        <td id=\"T_56176_row8_col0\" class=\"data row8 col0\" >0</td>\n",
       "                        <td id=\"T_56176_row8_col1\" class=\"data row8 col1\" >0.000000</td>\n",
       "            </tr>\n",
       "    </tbody></table>"
      ],
      "text/plain": [
       "<pandas.io.formats.style.Styler at 0x7f669aa20e80>"
      ]
     },
     "metadata": {},
     "output_type": "display_data"
    }
   ],
   "source": [
    "# создаем датасет с данными о компаниях\n",
    "df_company = df_comp_rounds[['company_id',\n",
    "                            'name',\n",
    "                            'category_code',\n",
    "                            'status',\n",
    "                            'founded_at',\n",
    "                            'closed_at',\n",
    "                            'domain',\n",
    "                            'network_username',\n",
    "                            'country_code',\n",
    "                            'investment_rounds',\n",
    "                            'funding_rounds',\n",
    "                            'funding_total',\n",
    "                            'milestones']]\n",
    "# Удаляем полные дубликаты\n",
    "df_company = df_company.drop_duplicates().reset_index(drop=True)\n",
    "\n",
    "# создаем датасет о раундах финансирования для непустых строк в столбце 'funding_round_id'\n",
    "df_rounds = df_comp_rounds[df_comp_rounds['funding_round_id'].notna() == True][['funding_round_id', \n",
    "                                                                            'company_id', \n",
    "                                                                            'funded_at', \n",
    "                                                                            'funding_round_type',\n",
    "                                                                            'raised_amount',\n",
    "                                                                            'pre_money_valuation',\n",
    "                                                                            'participants',\n",
    "                                                                            'is_first_round',\n",
    "                                                                            'is_last_round']].reset_index(drop=True)\n",
    "\n",
    "# Удаляем полные дубликаты\n",
    "df_rounds = df_rounds.drop_duplicates().reset_index(drop=True)\n",
    "\n",
    "# Выводим первые 5 и информацию о пропусках в данных строк получившихся датасетов\n",
    "display(df_company.head(5))\n",
    "missing_df(df_company)\n",
    "\n",
    "display(df_rounds.head(5))\n",
    "missing_df(df_rounds)\n"
   ]
  },
  {
   "cell_type": "markdown",
   "metadata": {},
   "source": [
    "#### Выводы\n",
    "В результате анализа датасета `df_comp_rounds` принято решение о разделении его на два:\n",
    "- `df_company` - информация о компаниях\n",
    "- `df_rounds` информация о раундах финансирования"
   ]
  },
  {
   "cell_type": "markdown",
   "metadata": {},
   "source": [
    "### Промежуточный вывод по Шагу 2\n",
    "ПО результатам Шага 2 можно сделать следующие основные выводы:\n",
    "1. Финансирование:\n",
    "    - В 2005 году типичный размер собранных в рамках одного раунда средств был максимален?\n",
    "    - В 2013 году колличество раундов финансирования и размер средств в рамках одного раунда увеличился\n",
    "2. Сотрудники компаний:\n",
    "    - Колличество сотрудников компаний:\n",
    "        - основаная часть сотрудников работает в компаниях с численностью до 4 человек\n",
    "        - максимальное колличество сотрудников в компании составляет 244 человек\n",
    "    - Образование сотрудников компаний:\n",
    "    - 30% сотрудников компаний имеют образование.\n",
    "    - Распределение сотрудников без образования по компнаниям:\n",
    "        - в компаниях с численностью более 10 человек колличество сотрудников без образования ниже, чем в менее крупных\n",
    "3. В результате анализа датасета `df_comp_rounds` принято решение о разделении его на два:\n",
    "    - `df_company` - информация о компаниях\n",
    "    - `df_rounds` информация о раундах финансирования"
   ]
  },
  {
   "cell_type": "markdown",
   "metadata": {
    "id": "bmVYhphNrJg2"
   },
   "source": [
    "\n",
    "## Шаг 3. Исследовательский анализ объединённых таблиц"
   ]
  },
  {
   "cell_type": "markdown",
   "metadata": {
    "id": "3Di6tCT3rJg2"
   },
   "source": [
    "\n",
    "### Объединение данных\n",
    "\n",
    "Объединим данные датасетов `df_company` и `df_rounds` для ответа на вопросы заказчика, которые касаются интересующих его компаний. Заказчика прежде всего интересуют те компании, которые меняли или готовы менять владельцев. Получение инвестиций или финансирования, по мнению заказчика, означает интерес к покупке или продаже компании.\n",
    "\n",
    "В итоговый датасет войдут компании со следующими условиями:\n",
    "- `funding_rounds` > 0 или\n",
    "- `investment_rounds` > 0 или\n",
    "- в столбце `status` указано `acquired`"
   ]
  },
  {
   "cell_type": "code",
   "execution_count": 41,
   "metadata": {},
   "outputs": [
    {
     "name": "stdout",
     "output_type": "stream",
     "text": [
      "Колличество строк в датасете 61666\n",
      "Колличество компаний для анализа = 40747\n"
     ]
    }
   ],
   "source": [
    "df_company_filtered = df_company[(df_company['funding_rounds']>0) | (df_company['investment_rounds']>0) | (df_company['status'] == 'acquired')]\n",
    "# Объединяем отфильтрованный датасет df_company_filtered и датасет df_rounds\n",
    "df_comp_raunds_update = df_company_filtered.merge(df_rounds,\n",
    "                                         how = 'left', \n",
    "                                         on='company_id',\n",
    "                                         suffixes = ('_company','_rounds')\n",
    "                                        )\n",
    "# Считаем колличество компаний в объединенном датасете\n",
    "print('Колличество строк в датасете', len(df_comp_raunds_update))\n",
    "print('Колличество компаний для анализа =', df_comp_raunds_update['company_id'].nunique())"
   ]
  },
  {
   "cell_type": "markdown",
   "metadata": {},
   "source": [
    "#### Промежуточные выводы\n",
    "\n",
    "После фильтрации в итоговый объединенный датасет вошло 40747 строк"
   ]
  },
  {
   "cell_type": "markdown",
   "metadata": {
    "id": "DFHINkV3rJg2"
   },
   "source": [
    "\n",
    "### Анализ выбросов\n",
    "\n",
    "Заказчика интересует обычный для рассматриваемого периода размер средств, который предоставлялся компаниям.\n",
    "\n",
    "- По предобработанному столбцу `funding_total` графическим способом оцените, какой размер общего финансирования для одной компании будет типичным, а какой — выбивающимся.\n",
    "- В процессе расчёта значений обратите внимание, например, на показатели, возвращаемые методом `.describe()`, — объясните их. Применимы ли к таким данным обычные способы нахождения типичных значений?"
   ]
  },
  {
   "cell_type": "code",
   "execution_count": 42,
   "metadata": {
    "id": "8jm75fKXrJg2",
    "vscode": {
     "languageId": "plaintext"
    }
   },
   "outputs": [
    {
     "name": "stderr",
     "output_type": "stream",
     "text": [
      "/tmp/ipykernel_292/676639317.py:12: UserWarning: FixedFormatter should only be used together with FixedLocator\n",
      "  plt.gca().set_xticklabels(['{:.0f}'.format(x) for x in current_values])\n"
     ]
    },
    {
     "data": {
      "image/png": "[encoded data removed]",
      "text/plain": [
       "<Figure size 864x144 with 1 Axes>"
      ]
     },
     "metadata": {
      "needs_background": "light"
     },
     "output_type": "display_data"
    }
   ],
   "source": [
    "# Строим диаграмму размаха методом boxplot()\n",
    "plt.figure(figsize=(12, 2))\n",
    "plt.boxplot(df_company_filtered['funding_total'],\n",
    "            vert=False  # Устанавливаем горизонтальную ориентацию\n",
    "           )\n",
    "\n",
    "plt.title('Распределение ощего финансирования для одной компании')\n",
    "plt.xlabel('Размер финансирования')\n",
    "plt.grid(True)\n",
    "\n",
    "current_values = plt.gca().get_xticks()\n",
    "plt.gca().set_xticklabels(['{:.0f}'.format(x) for x in current_values])\n",
    "\n",
    "# Отображаем график\n",
    "plt.show()"
   ]
  },
  {
   "cell_type": "markdown",
   "metadata": {},
   "source": [
    "На диаграмме присутствуют значительные выбросы, которые негативно сказываются на визуальном анализе.\n",
    "\n",
    "Построим диаграмму  без отображения выбросов"
   ]
  },
  {
   "cell_type": "code",
   "execution_count": 43,
   "metadata": {},
   "outputs": [
    {
     "name": "stdout",
     "output_type": "stream",
     "text": [
      "count    4.074700e+04\n",
      "mean     1.013561e+07\n",
      "std      5.646436e+07\n",
      "min      0.000000e+00\n",
      "25%      0.000000e+00\n",
      "50%      6.000000e+05\n",
      "75%      5.650650e+06\n",
      "max      5.700000e+09\n",
      "Name: funding_total, dtype: float64\n"
     ]
    },
    {
     "name": "stderr",
     "output_type": "stream",
     "text": [
      "/tmp/ipykernel_292/2828917817.py:16: UserWarning: FixedFormatter should only be used together with FixedLocator\n",
      "  plt.gca().set_xticklabels(['{:.0f}'.format(x) for x in current_values])\n"
     ]
    },
    {
     "data": {
      "image/png": "[encoded data removed]",
      "text/plain": [
       "<Figure size 864x144 with 1 Axes>"
      ]
     },
     "metadata": {
      "needs_background": "light"
     },
     "output_type": "display_data"
    }
   ],
   "source": [
    "# Рассмотрим распределение значений в столбце 'funding_total'\n",
    "print(df_company_filtered['funding_total'].describe())\n",
    "\n",
    "# Строим диаграмму размаха методом boxplot() с отключенным отображением выбросов\n",
    "plt.figure(figsize=(12, 2))\n",
    "plt.boxplot(df_company_filtered['funding_total'],\n",
    "            showfliers=False, # Отключим отображение выбросов\n",
    "            vert=False  # Устанавливаем горизонтальную ориентацию\n",
    "           )\n",
    "\n",
    "plt.title('Распределение ощего финансирования для одной компании (без выбросов)')\n",
    "plt.xlabel('Размер финансирования')\n",
    "plt.grid(True)\n",
    "\n",
    "current_values = plt.gca().get_xticks()\n",
    "plt.gca().set_xticklabels(['{:.0f}'.format(x) for x in current_values])\n",
    "\n",
    "# Отображаем график\n",
    "plt.show()"
   ]
  },
  {
   "cell_type": "markdown",
   "metadata": {},
   "source": [
    "#### Промежуточные выводы\n",
    "Проанализировав полученные результаты имеем:\n",
    "- Среднее значение финансирования на одну компанию составляет 10 135 609\n",
    "- процентиль 25% составляет 0\n",
    "- процентиль 50% составляет 600 000\n",
    "- процентиль 75% составляет 5 650 650, что является границей выбросов\n",
    "- максимальное значение составляет 5 700 000 000 долларов\n",
    "- на диаграмме видно значительное колличество выбросов вправо\n",
    "\n",
    "Следовательно видим значительное смещение общего финансирования влево, что указывает на\n",
    "- 600 000 долларов является типичным размером общего финансирования\n",
    "- значительное колличество компаний с нулевым финансированием\n",
    "- такая разница между медианным и средним значением финансирования указывает на значительную разницу между типичными и максимальными суммами финансирования\n",
    "- такой характер распределения показывает что основаная масса сделок имеет низкую стоимость."
   ]
  },
  {
   "cell_type": "markdown",
   "metadata": {
    "id": "JqkRAQrIrJg2"
   },
   "source": [
    "\n",
    "### Куплены забесплатно?\n",
    "\n",
    "- Исследуйте компании, которые были проданы за ноль или за один доллар, и при этом известно, что у них был ненулевой общий объём финансирования.\n",
    "\n",
    "- Рассчитайте аналитически верхнюю и нижнюю границу выбросов для столбца `funding_total` и укажите, каким процентилям границы соответствуют."
   ]
  },
  {
   "cell_type": "markdown",
   "metadata": {},
   "source": [
    "Определим колличество компаний проданных меньше чем за 1 доллар\n",
    "\n",
    "Для этого присоединим датасет `df_acq`"
   ]
  },
  {
   "cell_type": "code",
   "execution_count": 44,
   "metadata": {
    "id": "wJHXCBwwrJg2",
    "vscode": {
     "languageId": "plaintext"
    }
   },
   "outputs": [
    {
     "name": "stdout",
     "output_type": "stream",
     "text": [
      "143\n"
     ]
    }
   ],
   "source": [
    "# Отфильтруем столбцец\n",
    "df_company_acq = df_company_filtered.merge(df_acq,\n",
    "                                         how = 'left', \n",
    "                                         left_on='company_id',\n",
    "                                         right_on = 'acquired_company_id'\n",
    "                                        ).reset_index()\n",
    "\n",
    "# Рассмотрим дубликаты по столбцу company_id\n",
    "print(df_company_acq.duplicated(subset='company_id').sum())"
   ]
  },
  {
   "cell_type": "markdown",
   "metadata": {},
   "source": [
    "В датасете `df_company_acq` Содержиьтся 143 дубликата по столбцу `company_id`.\n",
    "Рассмотрим эти данные внимательнее"
   ]
  },
  {
   "cell_type": "code",
   "execution_count": 45,
   "metadata": {},
   "outputs": [
    {
     "data": {
      "text/html": [
       "<div>\n",
       "<style scoped>\n",
       "    .dataframe tbody tr th:only-of-type {\n",
       "        vertical-align: middle;\n",
       "    }\n",
       "\n",
       "    .dataframe tbody tr th {\n",
       "        vertical-align: top;\n",
       "    }\n",
       "\n",
       "    .dataframe thead th {\n",
       "        text-align: right;\n",
       "    }\n",
       "</style>\n",
       "<table border=\"1\" class=\"dataframe\">\n",
       "  <thead>\n",
       "    <tr style=\"text-align: right;\">\n",
       "      <th></th>\n",
       "      <th>index</th>\n",
       "      <th>company_id</th>\n",
       "      <th>name</th>\n",
       "      <th>category_code</th>\n",
       "      <th>status</th>\n",
       "      <th>founded_at</th>\n",
       "      <th>closed_at</th>\n",
       "      <th>domain</th>\n",
       "      <th>network_username</th>\n",
       "      <th>country_code</th>\n",
       "      <th>investment_rounds</th>\n",
       "      <th>funding_rounds</th>\n",
       "      <th>funding_total</th>\n",
       "      <th>milestones</th>\n",
       "      <th>id</th>\n",
       "      <th>acquiring_company_id</th>\n",
       "      <th>acquired_company_id</th>\n",
       "      <th>term_code</th>\n",
       "      <th>price_amount</th>\n",
       "      <th>acquired_at</th>\n",
       "    </tr>\n",
       "  </thead>\n",
       "  <tbody>\n",
       "    <tr>\n",
       "      <th>1235</th>\n",
       "      <td>1235</td>\n",
       "      <td>13</td>\n",
       "      <td>StumbleUpon</td>\n",
       "      <td>web</td>\n",
       "      <td>acquired</td>\n",
       "      <td>2002-02-01</td>\n",
       "      <td>NaT</td>\n",
       "      <td>stumbleupon.com</td>\n",
       "      <td>stumbleupon</td>\n",
       "      <td>USA</td>\n",
       "      <td>0</td>\n",
       "      <td>4</td>\n",
       "      <td>18500000</td>\n",
       "      <td>5</td>\n",
       "      <td>4283.0</td>\n",
       "      <td>20.0</td>\n",
       "      <td>13.0</td>\n",
       "      <td>NaN</td>\n",
       "      <td>0.000000e+00</td>\n",
       "      <td>2007-05-30</td>\n",
       "    </tr>\n",
       "    <tr>\n",
       "      <th>1236</th>\n",
       "      <td>1236</td>\n",
       "      <td>13</td>\n",
       "      <td>StumbleUpon</td>\n",
       "      <td>web</td>\n",
       "      <td>acquired</td>\n",
       "      <td>2002-02-01</td>\n",
       "      <td>NaT</td>\n",
       "      <td>stumbleupon.com</td>\n",
       "      <td>stumbleupon</td>\n",
       "      <td>USA</td>\n",
       "      <td>0</td>\n",
       "      <td>4</td>\n",
       "      <td>18500000</td>\n",
       "      <td>5</td>\n",
       "      <td>5984.0</td>\n",
       "      <td>13.0</td>\n",
       "      <td>13.0</td>\n",
       "      <td>NaN</td>\n",
       "      <td>2.900000e+07</td>\n",
       "      <td>2009-04-01</td>\n",
       "    </tr>\n",
       "    <tr>\n",
       "      <th>34757</th>\n",
       "      <td>34757</td>\n",
       "      <td>62</td>\n",
       "      <td>Skype</td>\n",
       "      <td>software</td>\n",
       "      <td>acquired</td>\n",
       "      <td>2003-08-01</td>\n",
       "      <td>NaT</td>\n",
       "      <td>skype.com</td>\n",
       "      <td>skype</td>\n",
       "      <td>LUX</td>\n",
       "      <td>3</td>\n",
       "      <td>5</td>\n",
       "      <td>76805000</td>\n",
       "      <td>6</td>\n",
       "      <td>5504.0</td>\n",
       "      <td>1242.0</td>\n",
       "      <td>62.0</td>\n",
       "      <td>cash</td>\n",
       "      <td>8.500000e+09</td>\n",
       "      <td>2011-05-10</td>\n",
       "    </tr>\n",
       "    <tr>\n",
       "      <th>34758</th>\n",
       "      <td>34758</td>\n",
       "      <td>62</td>\n",
       "      <td>Skype</td>\n",
       "      <td>software</td>\n",
       "      <td>acquired</td>\n",
       "      <td>2003-08-01</td>\n",
       "      <td>NaT</td>\n",
       "      <td>skype.com</td>\n",
       "      <td>skype</td>\n",
       "      <td>LUX</td>\n",
       "      <td>3</td>\n",
       "      <td>5</td>\n",
       "      <td>76805000</td>\n",
       "      <td>6</td>\n",
       "      <td>5806.0</td>\n",
       "      <td>20.0</td>\n",
       "      <td>62.0</td>\n",
       "      <td>NaN</td>\n",
       "      <td>2.600000e+09</td>\n",
       "      <td>2005-09-12</td>\n",
       "    </tr>\n",
       "    <tr>\n",
       "      <th>38030</th>\n",
       "      <td>38030</td>\n",
       "      <td>75</td>\n",
       "      <td>delicious</td>\n",
       "      <td>web</td>\n",
       "      <td>acquired</td>\n",
       "      <td>2003-09-01</td>\n",
       "      <td>NaT</td>\n",
       "      <td>delicious.com</td>\n",
       "      <td>Delicious</td>\n",
       "      <td>USA</td>\n",
       "      <td>0</td>\n",
       "      <td>1</td>\n",
       "      <td>0</td>\n",
       "      <td>6</td>\n",
       "      <td>8668.0</td>\n",
       "      <td>74819.0</td>\n",
       "      <td>75.0</td>\n",
       "      <td>NaN</td>\n",
       "      <td>0.000000e+00</td>\n",
       "      <td>2011-04-27</td>\n",
       "    </tr>\n",
       "    <tr>\n",
       "      <th>38029</th>\n",
       "      <td>38029</td>\n",
       "      <td>75</td>\n",
       "      <td>delicious</td>\n",
       "      <td>web</td>\n",
       "      <td>acquired</td>\n",
       "      <td>2003-09-01</td>\n",
       "      <td>NaT</td>\n",
       "      <td>delicious.com</td>\n",
       "      <td>Delicious</td>\n",
       "      <td>USA</td>\n",
       "      <td>0</td>\n",
       "      <td>1</td>\n",
       "      <td>0</td>\n",
       "      <td>6</td>\n",
       "      <td>5451.0</td>\n",
       "      <td>29.0</td>\n",
       "      <td>75.0</td>\n",
       "      <td>cash</td>\n",
       "      <td>0.000000e+00</td>\n",
       "      <td>2005-12-01</td>\n",
       "    </tr>\n",
       "    <tr>\n",
       "      <th>1237</th>\n",
       "      <td>1237</td>\n",
       "      <td>130</td>\n",
       "      <td>KickApps</td>\n",
       "      <td>enterprise</td>\n",
       "      <td>acquired</td>\n",
       "      <td>2004-03-01</td>\n",
       "      <td>NaT</td>\n",
       "      <td>kickapps.com</td>\n",
       "      <td>KickApps</td>\n",
       "      <td>USA</td>\n",
       "      <td>0</td>\n",
       "      <td>3</td>\n",
       "      <td>39007800</td>\n",
       "      <td>5</td>\n",
       "      <td>5073.0</td>\n",
       "      <td>475.0</td>\n",
       "      <td>130.0</td>\n",
       "      <td>NaN</td>\n",
       "      <td>0.000000e+00</td>\n",
       "      <td>2011-01-31</td>\n",
       "    </tr>\n",
       "    <tr>\n",
       "      <th>1238</th>\n",
       "      <td>1238</td>\n",
       "      <td>130</td>\n",
       "      <td>KickApps</td>\n",
       "      <td>enterprise</td>\n",
       "      <td>acquired</td>\n",
       "      <td>2004-03-01</td>\n",
       "      <td>NaT</td>\n",
       "      <td>kickapps.com</td>\n",
       "      <td>KickApps</td>\n",
       "      <td>USA</td>\n",
       "      <td>0</td>\n",
       "      <td>3</td>\n",
       "      <td>39007800</td>\n",
       "      <td>5</td>\n",
       "      <td>9040.0</td>\n",
       "      <td>234881.0</td>\n",
       "      <td>130.0</td>\n",
       "      <td>NaN</td>\n",
       "      <td>0.000000e+00</td>\n",
       "      <td>2012-12-12</td>\n",
       "    </tr>\n",
       "    <tr>\n",
       "      <th>2188</th>\n",
       "      <td>2188</td>\n",
       "      <td>142</td>\n",
       "      <td>Bebo</td>\n",
       "      <td>web</td>\n",
       "      <td>acquired</td>\n",
       "      <td>2005-01-06</td>\n",
       "      <td>NaT</td>\n",
       "      <td>bebo.com</td>\n",
       "      <td>Bebo_Official</td>\n",
       "      <td>USA</td>\n",
       "      <td>0</td>\n",
       "      <td>1</td>\n",
       "      <td>15000000</td>\n",
       "      <td>3</td>\n",
       "      <td>5955.0</td>\n",
       "      <td>5602.0</td>\n",
       "      <td>142.0</td>\n",
       "      <td>NaN</td>\n",
       "      <td>1.000000e+07</td>\n",
       "      <td>2010-06-17</td>\n",
       "    </tr>\n",
       "    <tr>\n",
       "      <th>2187</th>\n",
       "      <td>2187</td>\n",
       "      <td>142</td>\n",
       "      <td>Bebo</td>\n",
       "      <td>web</td>\n",
       "      <td>acquired</td>\n",
       "      <td>2005-01-06</td>\n",
       "      <td>NaT</td>\n",
       "      <td>bebo.com</td>\n",
       "      <td>Bebo_Official</td>\n",
       "      <td>USA</td>\n",
       "      <td>0</td>\n",
       "      <td>1</td>\n",
       "      <td>15000000</td>\n",
       "      <td>3</td>\n",
       "      <td>213.0</td>\n",
       "      <td>351.0</td>\n",
       "      <td>142.0</td>\n",
       "      <td>cash</td>\n",
       "      <td>8.500000e+08</td>\n",
       "      <td>2008-03-13</td>\n",
       "    </tr>\n",
       "  </tbody>\n",
       "</table>\n",
       "</div>"
      ],
      "text/plain": [
       "       index  company_id         name category_code    status founded_at  \\\n",
       "1235    1235          13  StumbleUpon           web  acquired 2002-02-01   \n",
       "1236    1236          13  StumbleUpon           web  acquired 2002-02-01   \n",
       "34757  34757          62        Skype      software  acquired 2003-08-01   \n",
       "34758  34758          62        Skype      software  acquired 2003-08-01   \n",
       "38030  38030          75    delicious           web  acquired 2003-09-01   \n",
       "38029  38029          75    delicious           web  acquired 2003-09-01   \n",
       "1237    1237         130     KickApps    enterprise  acquired 2004-03-01   \n",
       "1238    1238         130     KickApps    enterprise  acquired 2004-03-01   \n",
       "2188    2188         142         Bebo           web  acquired 2005-01-06   \n",
       "2187    2187         142         Bebo           web  acquired 2005-01-06   \n",
       "\n",
       "      closed_at           domain network_username country_code  \\\n",
       "1235        NaT  stumbleupon.com      stumbleupon          USA   \n",
       "1236        NaT  stumbleupon.com      stumbleupon          USA   \n",
       "34757       NaT        skype.com            skype          LUX   \n",
       "34758       NaT        skype.com            skype          LUX   \n",
       "38030       NaT    delicious.com        Delicious          USA   \n",
       "38029       NaT    delicious.com        Delicious          USA   \n",
       "1237        NaT     kickapps.com         KickApps          USA   \n",
       "1238        NaT     kickapps.com         KickApps          USA   \n",
       "2188        NaT         bebo.com    Bebo_Official          USA   \n",
       "2187        NaT         bebo.com    Bebo_Official          USA   \n",
       "\n",
       "       investment_rounds  funding_rounds  funding_total  milestones      id  \\\n",
       "1235                   0               4       18500000           5  4283.0   \n",
       "1236                   0               4       18500000           5  5984.0   \n",
       "34757                  3               5       76805000           6  5504.0   \n",
       "34758                  3               5       76805000           6  5806.0   \n",
       "38030                  0               1              0           6  8668.0   \n",
       "38029                  0               1              0           6  5451.0   \n",
       "1237                   0               3       39007800           5  5073.0   \n",
       "1238                   0               3       39007800           5  9040.0   \n",
       "2188                   0               1       15000000           3  5955.0   \n",
       "2187                   0               1       15000000           3   213.0   \n",
       "\n",
       "       acquiring_company_id  acquired_company_id term_code  price_amount  \\\n",
       "1235                   20.0                 13.0       NaN  0.000000e+00   \n",
       "1236                   13.0                 13.0       NaN  2.900000e+07   \n",
       "34757                1242.0                 62.0      cash  8.500000e+09   \n",
       "34758                  20.0                 62.0       NaN  2.600000e+09   \n",
       "38030               74819.0                 75.0       NaN  0.000000e+00   \n",
       "38029                  29.0                 75.0      cash  0.000000e+00   \n",
       "1237                  475.0                130.0       NaN  0.000000e+00   \n",
       "1238               234881.0                130.0       NaN  0.000000e+00   \n",
       "2188                 5602.0                142.0       NaN  1.000000e+07   \n",
       "2187                  351.0                142.0      cash  8.500000e+08   \n",
       "\n",
       "      acquired_at  \n",
       "1235   2007-05-30  \n",
       "1236   2009-04-01  \n",
       "34757  2011-05-10  \n",
       "34758  2005-09-12  \n",
       "38030  2011-04-27  \n",
       "38029  2005-12-01  \n",
       "1237   2011-01-31  \n",
       "1238   2012-12-12  \n",
       "2188   2010-06-17  \n",
       "2187   2008-03-13  "
      ]
     },
     "metadata": {},
     "output_type": "display_data"
    }
   ],
   "source": [
    "display(df_company_acq[df_company_acq.duplicated(subset='company_id', keep=False)].sort_values(by = 'acquired_company_id', ascending=True).head(10))"
   ]
  },
  {
   "cell_type": "markdown",
   "metadata": {},
   "source": [
    "Возникновение дубликатов связано с перепродажами одной и той же компании.\n",
    "\n",
    "Для дальнейшего анализа оставим эти дубликаты как есть"
   ]
  },
  {
   "cell_type": "code",
   "execution_count": 46,
   "metadata": {},
   "outputs": [
    {
     "name": "stdout",
     "output_type": "stream",
     "text": [
      "Кол-во компаний проданных менее чем за 1 доллар 1618\n",
      "Доля компаний проданных менее чем за 1 доллар 0.0396\n"
     ]
    }
   ],
   "source": [
    "df_company_acq_filtered = df_company_acq[(df_company_acq.status == \"acquired\") & (df_company_acq.price_amount < 2) & (df_company_acq.funding_total != 0) ]\n",
    "\n",
    "print('Кол-во компаний проданных менее чем за 1 доллар', len(df_company_acq_filtered))\n",
    "print('Доля компаний проданных менее чем за 1 доллар', round(len(df_company_acq_filtered)/len(df_company_acq), 4))"
   ]
  },
  {
   "cell_type": "markdown",
   "metadata": {},
   "source": [
    "Определим верхнюю и нижнюю границу выбросов, а также каким процентилям соответствуют эти границы"
   ]
  },
  {
   "cell_type": "code",
   "execution_count": 47,
   "metadata": {},
   "outputs": [
    {
     "name": "stdout",
     "output_type": "stream",
     "text": [
      "Нижняя граница выбросов: 0\n",
      "Верхняя граница выбросов: 14126625.0\n",
      "Нижняя граница выбросов соответствует примерно 0.00-му процентилю во всем датасете.\n",
      "Верхняя граница выбросов соответствует примерно 85.62-му процентилю во всем датасете.\n"
     ]
    }
   ],
   "source": [
    "q1 = df_company_filtered['funding_total'].quantile(0.25)\n",
    "q3 = df_company_filtered['funding_total'].quantile(0.75)\n",
    "iqr = q3 - q1\n",
    "lower_bound = q1 - 1.5 * iqr\n",
    "lower_bound = max(0, lower_bound)\n",
    "\n",
    "upper_bound = q3 + 1.5 * iqr\n",
    "print('Нижняя граница выбросов:', lower_bound)\n",
    "print('Верхняя граница выбросов:', upper_bound) \n",
    "\n",
    "lower_percentile = (df_company_filtered['funding_total'] < lower_bound).mean() * 100\n",
    "upper_percentile = (df_company_filtered['funding_total'] < upper_bound).mean() * 100\n",
    "print(f'Нижняя граница выбросов соответствует примерно {lower_percentile:.2f}-му процентилю во всем датасете.')\n",
    "print(f'Верхняя граница выбросов соответствует примерно {upper_percentile:.2f}-му процентилю во всем датасете.') "
   ]
  },
  {
   "cell_type": "markdown",
   "metadata": {},
   "source": [
    "#### Промежуточные выводы\n",
    "Из проведенного анализа следует:\n",
    "1. 1618 компании проданы менее чем за доллар, что соответствует 3,96% всех компаний\n",
    "2. границы выбросов\n",
    "    - Нижняя граница выбросов равна 0 (процентиль 0)\n",
    "    - Нижняя граница выбросов равна 14 126 625 (процентиль 85,62)\n",
    "\n",
    "Исходя из полученной информации следует:\n",
    "- 3,96% проданы бесплатно\n",
    "- 15% компаний проданы аномально дорого\n",
    "   "
   ]
  },
  {
   "cell_type": "markdown",
   "metadata": {
    "id": "mEiWpROjrJg2"
   },
   "source": [
    "\n",
    "### Цены стартапов по категориям"
   ]
  },
  {
   "cell_type": "code",
   "execution_count": 48,
   "metadata": {
    "id": "jQ09dYUWrJg2",
    "vscode": {
     "languageId": "plaintext"
    }
   },
   "outputs": [
    {
     "data": {
      "text/html": [
       "<div>\n",
       "<style scoped>\n",
       "    .dataframe tbody tr th:only-of-type {\n",
       "        vertical-align: middle;\n",
       "    }\n",
       "\n",
       "    .dataframe tbody tr th {\n",
       "        vertical-align: top;\n",
       "    }\n",
       "\n",
       "    .dataframe thead th {\n",
       "        text-align: right;\n",
       "    }\n",
       "</style>\n",
       "<table border=\"1\" class=\"dataframe\">\n",
       "  <thead>\n",
       "    <tr style=\"text-align: right;\">\n",
       "      <th></th>\n",
       "      <th>median</th>\n",
       "      <th>std</th>\n",
       "    </tr>\n",
       "    <tr>\n",
       "      <th>category_code</th>\n",
       "      <th></th>\n",
       "      <th></th>\n",
       "    </tr>\n",
       "  </thead>\n",
       "  <tbody>\n",
       "    <tr>\n",
       "      <th>fashion</th>\n",
       "      <td>97500000.0</td>\n",
       "      <td>NaN</td>\n",
       "    </tr>\n",
       "    <tr>\n",
       "      <th>analytics</th>\n",
       "      <td>80000000.0</td>\n",
       "      <td>NaN</td>\n",
       "    </tr>\n",
       "    <tr>\n",
       "      <th>health</th>\n",
       "      <td>74500000.0</td>\n",
       "      <td>45218682.0</td>\n",
       "    </tr>\n",
       "    <tr>\n",
       "      <th>messaging</th>\n",
       "      <td>57500000.0</td>\n",
       "      <td>53674171.0</td>\n",
       "    </tr>\n",
       "    <tr>\n",
       "      <th>cleantech</th>\n",
       "      <td>51190000.0</td>\n",
       "      <td>34454636.0</td>\n",
       "    </tr>\n",
       "    <tr>\n",
       "      <th>photo_video</th>\n",
       "      <td>45000000.0</td>\n",
       "      <td>10593827.0</td>\n",
       "    </tr>\n",
       "    <tr>\n",
       "      <th>automotive</th>\n",
       "      <td>43000000.0</td>\n",
       "      <td>NaN</td>\n",
       "    </tr>\n",
       "    <tr>\n",
       "      <th>finance</th>\n",
       "      <td>40575000.0</td>\n",
       "      <td>37563869.0</td>\n",
       "    </tr>\n",
       "    <tr>\n",
       "      <th>real_estate</th>\n",
       "      <td>40000000.0</td>\n",
       "      <td>24758837.0</td>\n",
       "    </tr>\n",
       "    <tr>\n",
       "      <th>security</th>\n",
       "      <td>36000000.0</td>\n",
       "      <td>31914008.0</td>\n",
       "    </tr>\n",
       "  </tbody>\n",
       "</table>\n",
       "</div>"
      ],
      "text/plain": [
       "                   median         std\n",
       "category_code                        \n",
       "fashion        97500000.0         NaN\n",
       "analytics      80000000.0         NaN\n",
       "health         74500000.0  45218682.0\n",
       "messaging      57500000.0  53674171.0\n",
       "cleantech      51190000.0  34454636.0\n",
       "photo_video    45000000.0  10593827.0\n",
       "automotive     43000000.0         NaN\n",
       "finance        40575000.0  37563869.0\n",
       "real_estate    40000000.0  24758837.0\n",
       "security       36000000.0  31914008.0"
      ]
     },
     "metadata": {},
     "output_type": "display_data"
    }
   ],
   "source": [
    "q90 = df_company_acq['price_amount'].quantile(0.90)\n",
    "\n",
    "# сгруппируем компании по категории стартапов\n",
    "    #и вычислим среднее значение и стандартное отклонение по полю 'funding_total'\n",
    "df_merged= pd.DataFrame()\n",
    "\n",
    "df_merged['median'] = df_company_acq[\n",
    "        (df_company_acq['price_amount']>0) & (df_company_acq['price_amount']<q90)\n",
    "        ].groupby('category_code')['price_amount'].median().sort_values(ascending=False)\n",
    "\n",
    "df_merged['std'] = round(df_company_acq[\n",
    "        (df_company_acq['price_amount']>0) & (df_company_acq['price_amount']<q90)\n",
    "        ].groupby('category_code')['price_amount'].std().sort_values(ascending=False), 0)\n",
    "\n",
    "display(df_merged.head(10))"
   ]
  },
  {
   "cell_type": "markdown",
   "metadata": {
    "id": "eF1aULm5FjfY"
   },
   "source": [
    "#### Промежуточные выводы\n",
    "Исходя из полученных результатов можно сделать выводы:\n",
    "- в категории `health`, `cleantech`, `photo_video`, `real_estate` стандартное отклонение значительно ниже медианного значения. Эти категории рекомендуются для инвистиций с высокими рисками, так как имеют типично высокие цены покупки стартапов и значительные разбросы цен.\n",
    "- аналогичная ситуация, но с меньшими значениями наблюдается в категориях `messaging`, `finance`, `security`"
   ]
  },
  {
   "cell_type": "markdown",
   "metadata": {
    "id": "ADOfyVY_rJg3"
   },
   "source": [
    "### Сколько раундов продержится стартап перед покупкой"
   ]
  },
  {
   "cell_type": "code",
   "execution_count": 49,
   "metadata": {
    "id": "hgXMPC4WrJg3",
    "vscode": {
     "languageId": "plaintext"
    }
   },
   "outputs": [
    {
     "data": {
      "text/html": [
       "<div>\n",
       "<style scoped>\n",
       "    .dataframe tbody tr th:only-of-type {\n",
       "        vertical-align: middle;\n",
       "    }\n",
       "\n",
       "    .dataframe tbody tr th {\n",
       "        vertical-align: top;\n",
       "    }\n",
       "\n",
       "    .dataframe thead th {\n",
       "        text-align: right;\n",
       "    }\n",
       "</style>\n",
       "<table border=\"1\" class=\"dataframe\">\n",
       "  <thead>\n",
       "    <tr style=\"text-align: right;\">\n",
       "      <th>funding_rounds</th>\n",
       "      <th>1</th>\n",
       "      <th>2</th>\n",
       "      <th>3</th>\n",
       "      <th>4</th>\n",
       "      <th>5</th>\n",
       "      <th>6</th>\n",
       "      <th>7</th>\n",
       "      <th>8</th>\n",
       "      <th>9</th>\n",
       "      <th>10</th>\n",
       "      <th>11</th>\n",
       "      <th>12</th>\n",
       "      <th>13</th>\n",
       "      <th>14</th>\n",
       "      <th>15</th>\n",
       "    </tr>\n",
       "    <tr>\n",
       "      <th>status</th>\n",
       "      <th></th>\n",
       "      <th></th>\n",
       "      <th></th>\n",
       "      <th></th>\n",
       "      <th></th>\n",
       "      <th></th>\n",
       "      <th></th>\n",
       "      <th></th>\n",
       "      <th></th>\n",
       "      <th></th>\n",
       "      <th></th>\n",
       "      <th></th>\n",
       "      <th></th>\n",
       "      <th></th>\n",
       "      <th></th>\n",
       "    </tr>\n",
       "  </thead>\n",
       "  <tbody>\n",
       "    <tr>\n",
       "      <th>operating</th>\n",
       "      <td>17377</td>\n",
       "      <td>10128</td>\n",
       "      <td>6492</td>\n",
       "      <td>3964</td>\n",
       "      <td>2505</td>\n",
       "      <td>1224</td>\n",
       "      <td>791</td>\n",
       "      <td>392</td>\n",
       "      <td>360</td>\n",
       "      <td>200</td>\n",
       "      <td>66</td>\n",
       "      <td>24</td>\n",
       "      <td>13</td>\n",
       "      <td>14</td>\n",
       "      <td>30</td>\n",
       "    </tr>\n",
       "    <tr>\n",
       "      <th>closed</th>\n",
       "      <td>1566</td>\n",
       "      <td>724</td>\n",
       "      <td>279</td>\n",
       "      <td>168</td>\n",
       "      <td>70</td>\n",
       "      <td>18</td>\n",
       "      <td>49</td>\n",
       "      <td>16</td>\n",
       "      <td>0</td>\n",
       "      <td>0</td>\n",
       "      <td>0</td>\n",
       "      <td>0</td>\n",
       "      <td>0</td>\n",
       "      <td>0</td>\n",
       "      <td>0</td>\n",
       "    </tr>\n",
       "    <tr>\n",
       "      <th>acquired</th>\n",
       "      <td>1361</td>\n",
       "      <td>1244</td>\n",
       "      <td>1041</td>\n",
       "      <td>600</td>\n",
       "      <td>290</td>\n",
       "      <td>156</td>\n",
       "      <td>119</td>\n",
       "      <td>56</td>\n",
       "      <td>18</td>\n",
       "      <td>10</td>\n",
       "      <td>11</td>\n",
       "      <td>12</td>\n",
       "      <td>0</td>\n",
       "      <td>0</td>\n",
       "      <td>0</td>\n",
       "    </tr>\n",
       "    <tr>\n",
       "      <th>ipo</th>\n",
       "      <td>230</td>\n",
       "      <td>188</td>\n",
       "      <td>174</td>\n",
       "      <td>132</td>\n",
       "      <td>135</td>\n",
       "      <td>96</td>\n",
       "      <td>70</td>\n",
       "      <td>72</td>\n",
       "      <td>36</td>\n",
       "      <td>20</td>\n",
       "      <td>33</td>\n",
       "      <td>0</td>\n",
       "      <td>52</td>\n",
       "      <td>0</td>\n",
       "      <td>0</td>\n",
       "    </tr>\n",
       "  </tbody>\n",
       "</table>\n",
       "</div>"
      ],
      "text/plain": [
       "funding_rounds     1      2     3     4     5     6    7    8    9    10  11  \\\n",
       "status                                                                         \n",
       "operating       17377  10128  6492  3964  2505  1224  791  392  360  200  66   \n",
       "closed           1566    724   279   168    70    18   49   16    0    0   0   \n",
       "acquired         1361   1244  1041   600   290   156  119   56   18   10  11   \n",
       "ipo               230    188   174   132   135    96   70   72   36   20  33   \n",
       "\n",
       "funding_rounds  12  13  14  15  \n",
       "status                          \n",
       "operating       24  13  14  30  \n",
       "closed           0   0   0   0  \n",
       "acquired        12   0   0   0  \n",
       "ipo              0  52   0   0  "
      ]
     },
     "metadata": {},
     "output_type": "display_data"
    },
    {
     "name": "stdout",
     "output_type": "stream",
     "text": [
      "status\n",
      "ipo          4.471729\n",
      "acquired     2.758438\n",
      "operating    2.491418\n",
      "closed       1.886505\n",
      "Name: funding_rounds, dtype: Float64\n"
     ]
    },
    {
     "data": {
      "image/png": "[encoded data removed]",
      "text/plain": [
       "<Figure size 432x360 with 1 Axes>"
      ]
     },
     "metadata": {
      "needs_background": "light"
     },
     "output_type": "display_data"
    }
   ],
   "source": [
    "# Составим сводную таблицу по статусу компании с колличеством раундов финансирования\n",
    "pivot_table = pd.pivot_table(\n",
    "    df_comp_raunds_update[df_comp_raunds_update['funding_rounds']>0],\n",
    "    index='status',\n",
    "    columns='funding_rounds',\n",
    "    values='company_id',\n",
    "    aggfunc='count',\n",
    "    fill_value=0\n",
    ")\n",
    "# Отсортируем таблицу по столбцу с 1 раундом финансирования\n",
    "pivot_table = pivot_table.sort_values(by=1, ascending=False)\n",
    "\n",
    "# Среднее кол-во раундов по статусу комапнии\n",
    "status_round_mean = df_comp_raunds_update[df_comp_raunds_update['funding_rounds']>0].groupby(['status'])['funding_rounds'].mean().sort_values(ascending=False)\n",
    "\n",
    "display(pivot_table)\n",
    "print(status_round_mean)\n",
    "\n",
    "# Строим график\n",
    "# Устанавливаем размеры графика\n",
    "plt.figure(figsize=(6, 5))\n",
    "\n",
    "# Строим гистограмму \n",
    "status_round_mean.plot(\n",
    "    kind='bar',\n",
    "    legend = False)\n",
    "\n",
    "plt.xlabel('Статус компании')\n",
    "plt.ylabel('Среднее кол-во раундов')\n",
    "plt.title('Среднее кол-во раундов финансирования')\n",
    "\n",
    "plt.show()"
   ]
  },
  {
   "cell_type": "markdown",
   "metadata": {
    "id": "pV3e7kw5Fj1Y"
   },
   "source": [
    "#### Промежуточные выводы\n",
    "\n",
    "1. Один раунд финансирования - типичное значение для всех статусов компаний\n",
    "2. Наибольшее колличество раундов финансирования имеют компании со статусом `ipo`"
   ]
  },
  {
   "cell_type": "markdown",
   "metadata": {},
   "source": [
    "### Промежуточный вывод по Шагу 3\n",
    "1. Для аналитического исследования использовался объединенный датасет:\n",
    "    - объединение происходило из двух датасетов `df_company` и `df_rounds`\n",
    "    - колличество строк в датасете 61666\n",
    "    - колличество компаний в датасете 40747\n",
    "2. Распределение значений в столбце `funding_total` (сумма финансирования):\n",
    "    - среднее значение финансирования на одну компанию составляет 10 135 610 долларов\n",
    "    - половина компаний имеет финансирование меньше 600 000 долларов\n",
    "    - значительное колличество компаний имеют нулевое финансирование\n",
    "    - у нескольких компаний размер финансирования больше 1 000 000 000\n",
    "    - максимальный размер финансирования составляет 5 700 000 000\n",
    "3. Стоимость покупки компаний:\n",
    "    - 1618 компании проданы менее чем за доллар, что составляет 3,96% от общего колличества компаний\n",
    "    - 15% компаний проданы аномально дорого (выше 14 126 625 долларов)\n",
    "4. Распределение цен на стартапы по категориям:\n",
    "    - в категории `health`, `cleantech`, `photo_video`, `real_estate` стандартное отклонение значительно ниже медианного значения. Эти категории рекомендуются для инвистиций с высокими рисками, так как имеют типично высокие цены покупки стартапов и значительные разбросы цен.\n",
    "    - аналогичная ситуация, но с меньшими значениями наблюдается в категориях `messaging`, `finance`, `security`\n",
    "5. Раунды финансирования\n",
    "    - большая часть компаний продается на первом раунде финансирования\n",
    "    - наибольшее колличество раундов финансирования имеют компании со статусом `ipo`\n"
   ]
  },
  {
   "cell_type": "markdown",
   "metadata": {
    "id": "VAFEZ2HBrJg3"
   },
   "source": [
    "\n",
    "## Шаг 4. Итоговый вывод и рекомендации\n",
    "Из аналитического исследования следует:\n",
    "1. Численность большинства компаний не превышает 4 человека\n",
    "2. Лишь 30% сотрудников компаний имеют образование\n",
    "3. С 2005 года на рынке происходит снижение инвистиционных средств\n",
    "4. Около 30 % компаний продаются за 1 доллар или бесплатно, что свидетельствует об особых условиях (договоренностях) при продаже.\n",
    "5. Большинство стратапов продается в первом раунде финансирования\n",
    "6. Стоимсоть стартапов очень сильно разбросана, а значит можно инвестировать как в крупные так и мелкие суммы\n",
    "7. Для инвистирования с высокими рисками подхлдят компании из категорий `health`, `cleantech`, `photo_video`, `real_estate`, так как они имеют типично высокие цены покупки стартапов и значительные разбросы цен."
   ]
  }
 ],
 "metadata": {
  "ExecuteTimeLog": [
   {
    "duration": 1338,
    "start_time": "2025-05-11T10:50:46.054Z"
   },
   {
    "duration": 2131,
    "start_time": "2025-05-11T10:50:47.395Z"
   },
   {
    "duration": 32,
    "start_time": "2025-05-11T10:50:49.528Z"
   },
   {
    "duration": 146,
    "start_time": "2025-05-11T10:50:49.563Z"
   },
   {
    "duration": 70,
    "start_time": "2025-05-11T10:50:49.711Z"
   },
   {
    "duration": 4,
    "start_time": "2025-05-11T10:50:49.783Z"
   },
   {
    "duration": 31,
    "start_time": "2025-05-11T10:50:49.789Z"
   },
   {
    "duration": 79,
    "start_time": "2025-05-11T10:50:49.822Z"
   },
   {
    "duration": 59,
    "start_time": "2025-05-11T10:50:49.904Z"
   },
   {
    "duration": 122,
    "start_time": "2025-05-11T10:50:49.968Z"
   },
   {
    "duration": 22,
    "start_time": "2025-05-11T10:50:50.092Z"
   },
   {
    "duration": 350,
    "start_time": "2025-05-11T10:50:50.116Z"
   },
   {
    "duration": 46,
    "start_time": "2025-05-11T10:50:50.468Z"
   },
   {
    "duration": 79,
    "start_time": "2025-05-11T10:50:50.516Z"
   },
   {
    "duration": 99,
    "start_time": "2025-05-11T10:50:50.597Z"
   },
   {
    "duration": 8,
    "start_time": "2025-05-11T10:50:50.698Z"
   },
   {
    "duration": 86,
    "start_time": "2025-05-11T10:50:50.708Z"
   },
   {
    "duration": 6,
    "start_time": "2025-05-11T10:50:50.796Z"
   },
   {
    "duration": 185,
    "start_time": "2025-05-11T10:50:50.804Z"
   },
   {
    "duration": 20,
    "start_time": "2025-05-11T10:50:50.991Z"
   },
   {
    "duration": 232,
    "start_time": "2025-05-11T10:50:51.012Z"
   },
   {
    "duration": 157,
    "start_time": "2025-05-11T10:50:51.245Z"
   },
   {
    "duration": 28,
    "start_time": "2025-05-11T10:50:51.404Z"
   },
   {
    "duration": 98,
    "start_time": "2025-05-11T10:50:51.434Z"
   },
   {
    "duration": 130,
    "start_time": "2025-05-11T10:50:51.534Z"
   },
   {
    "duration": 47,
    "start_time": "2025-05-11T10:50:51.665Z"
   },
   {
    "duration": 412,
    "start_time": "2025-05-11T10:50:51.714Z"
   },
   {
    "duration": 258,
    "start_time": "2025-05-11T10:50:52.130Z"
   },
   {
    "duration": 435,
    "start_time": "2025-05-11T10:50:52.389Z"
   },
   {
    "duration": 57,
    "start_time": "2025-05-11T10:50:52.825Z"
   },
   {
    "duration": 946,
    "start_time": "2025-05-11T10:50:52.884Z"
   },
   {
    "duration": 36,
    "start_time": "2025-05-11T10:50:53.831Z"
   },
   {
    "duration": 65,
    "start_time": "2025-05-11T10:50:53.869Z"
   },
   {
    "duration": 69,
    "start_time": "2025-05-11T10:50:53.935Z"
   },
   {
    "duration": 267,
    "start_time": "2025-05-11T10:50:54.006Z"
   },
   {
    "duration": 34,
    "start_time": "2025-05-11T11:06:00.553Z"
   },
   {
    "duration": 45,
    "start_time": "2025-05-11T11:07:03.904Z"
   },
   {
    "duration": 22,
    "start_time": "2025-05-11T11:10:25.992Z"
   },
   {
    "duration": 1023,
    "start_time": "2025-05-12T18:13:46.389Z"
   },
   {
    "duration": 0,
    "start_time": "2025-05-12T18:13:47.420Z"
   },
   {
    "duration": 0,
    "start_time": "2025-05-12T18:13:47.424Z"
   },
   {
    "duration": 0,
    "start_time": "2025-05-12T18:13:47.425Z"
   },
   {
    "duration": 0,
    "start_time": "2025-05-12T18:13:47.427Z"
   },
   {
    "duration": 0,
    "start_time": "2025-05-12T18:13:47.429Z"
   },
   {
    "duration": 0,
    "start_time": "2025-05-12T18:13:47.431Z"
   },
   {
    "duration": 0,
    "start_time": "2025-05-12T18:13:47.432Z"
   },
   {
    "duration": 0,
    "start_time": "2025-05-12T18:13:47.434Z"
   },
   {
    "duration": 0,
    "start_time": "2025-05-12T18:13:47.435Z"
   },
   {
    "duration": 0,
    "start_time": "2025-05-12T18:13:47.437Z"
   },
   {
    "duration": 0,
    "start_time": "2025-05-12T18:13:47.439Z"
   },
   {
    "duration": 0,
    "start_time": "2025-05-12T18:13:47.440Z"
   },
   {
    "duration": 0,
    "start_time": "2025-05-12T18:13:47.442Z"
   },
   {
    "duration": 0,
    "start_time": "2025-05-12T18:13:47.443Z"
   },
   {
    "duration": 0,
    "start_time": "2025-05-12T18:13:47.445Z"
   },
   {
    "duration": 0,
    "start_time": "2025-05-12T18:13:47.447Z"
   },
   {
    "duration": 0,
    "start_time": "2025-05-12T18:13:47.448Z"
   },
   {
    "duration": 0,
    "start_time": "2025-05-12T18:13:47.450Z"
   },
   {
    "duration": 0,
    "start_time": "2025-05-12T18:13:47.452Z"
   },
   {
    "duration": 0,
    "start_time": "2025-05-12T18:13:47.453Z"
   },
   {
    "duration": 0,
    "start_time": "2025-05-12T18:13:47.455Z"
   },
   {
    "duration": 0,
    "start_time": "2025-05-12T18:13:47.510Z"
   },
   {
    "duration": 0,
    "start_time": "2025-05-12T18:13:47.512Z"
   },
   {
    "duration": 0,
    "start_time": "2025-05-12T18:13:47.513Z"
   },
   {
    "duration": 0,
    "start_time": "2025-05-12T18:13:47.515Z"
   },
   {
    "duration": 0,
    "start_time": "2025-05-12T18:13:47.519Z"
   },
   {
    "duration": 0,
    "start_time": "2025-05-12T18:13:47.521Z"
   },
   {
    "duration": 0,
    "start_time": "2025-05-12T18:13:47.522Z"
   },
   {
    "duration": 0,
    "start_time": "2025-05-12T18:13:47.527Z"
   },
   {
    "duration": 0,
    "start_time": "2025-05-12T18:13:47.528Z"
   },
   {
    "duration": 0,
    "start_time": "2025-05-12T18:13:47.529Z"
   },
   {
    "duration": 0,
    "start_time": "2025-05-12T18:13:47.531Z"
   },
   {
    "duration": 0,
    "start_time": "2025-05-12T18:13:47.532Z"
   },
   {
    "duration": 0,
    "start_time": "2025-05-12T18:13:47.533Z"
   },
   {
    "duration": 0,
    "start_time": "2025-05-12T18:13:47.534Z"
   },
   {
    "duration": 1306,
    "start_time": "2025-05-12T18:14:28.317Z"
   },
   {
    "duration": 2049,
    "start_time": "2025-05-12T18:14:29.625Z"
   },
   {
    "duration": 55,
    "start_time": "2025-05-12T18:14:31.676Z"
   },
   {
    "duration": 159,
    "start_time": "2025-05-12T18:14:31.733Z"
   },
   {
    "duration": 60,
    "start_time": "2025-05-12T18:14:31.894Z"
   },
   {
    "duration": 73,
    "start_time": "2025-05-12T18:14:31.957Z"
   },
   {
    "duration": 84,
    "start_time": "2025-05-12T18:14:32.032Z"
   },
   {
    "duration": 171,
    "start_time": "2025-05-12T18:14:32.118Z"
   },
   {
    "duration": 49,
    "start_time": "2025-05-12T18:14:32.291Z"
   },
   {
    "duration": 256,
    "start_time": "2025-05-12T18:14:32.343Z"
   },
   {
    "duration": 29,
    "start_time": "2025-05-12T18:14:32.601Z"
   },
   {
    "duration": 364,
    "start_time": "2025-05-12T18:14:32.632Z"
   },
   {
    "duration": 57,
    "start_time": "2025-05-12T18:14:32.998Z"
   },
   {
    "duration": 70,
    "start_time": "2025-05-12T18:14:33.060Z"
   },
   {
    "duration": 206,
    "start_time": "2025-05-12T18:14:33.132Z"
   },
   {
    "duration": 81,
    "start_time": "2025-05-12T18:14:33.340Z"
   },
   {
    "duration": 77,
    "start_time": "2025-05-12T18:14:33.423Z"
   },
   {
    "duration": 21,
    "start_time": "2025-05-12T18:14:33.501Z"
   },
   {
    "duration": 185,
    "start_time": "2025-05-12T18:14:33.524Z"
   },
   {
    "duration": 21,
    "start_time": "2025-05-12T18:14:33.712Z"
   },
   {
    "duration": 253,
    "start_time": "2025-05-12T18:14:33.735Z"
   },
   {
    "duration": 109,
    "start_time": "2025-05-12T18:14:33.990Z"
   },
   {
    "duration": 45,
    "start_time": "2025-05-12T18:14:34.105Z"
   },
   {
    "duration": 106,
    "start_time": "2025-05-12T18:14:34.151Z"
   },
   {
    "duration": 166,
    "start_time": "2025-05-12T18:14:34.259Z"
   },
   {
    "duration": 48,
    "start_time": "2025-05-12T18:14:34.426Z"
   },
   {
    "duration": 412,
    "start_time": "2025-05-12T18:14:34.476Z"
   },
   {
    "duration": 415,
    "start_time": "2025-05-12T18:14:34.890Z"
   },
   {
    "duration": 626,
    "start_time": "2025-05-12T18:14:35.307Z"
   },
   {
    "duration": 33,
    "start_time": "2025-05-12T18:14:35.935Z"
   },
   {
    "duration": 710,
    "start_time": "2025-05-12T18:14:35.969Z"
   },
   {
    "duration": 0,
    "start_time": "2025-05-12T18:14:36.680Z"
   },
   {
    "duration": 0,
    "start_time": "2025-05-12T18:14:36.681Z"
   },
   {
    "duration": 0,
    "start_time": "2025-05-12T18:14:36.683Z"
   },
   {
    "duration": 0,
    "start_time": "2025-05-12T18:14:36.684Z"
   },
   {
    "duration": 0,
    "start_time": "2025-05-12T18:14:36.685Z"
   },
   {
    "duration": 26,
    "start_time": "2025-05-12T18:15:44.112Z"
   },
   {
    "duration": 65,
    "start_time": "2025-05-12T18:15:46.055Z"
   },
   {
    "duration": 73,
    "start_time": "2025-05-12T18:15:47.990Z"
   },
   {
    "duration": 114,
    "start_time": "2025-05-12T18:15:58.249Z"
   },
   {
    "duration": 79,
    "start_time": "2025-05-12T18:16:10.247Z"
   },
   {
    "duration": 10118,
    "start_time": "2025-05-12T18:16:20.393Z"
   },
   {
    "duration": 2943,
    "start_time": "2025-05-12T18:16:43.519Z"
   },
   {
    "duration": 607,
    "start_time": "2025-05-12T18:17:00.012Z"
   },
   {
    "duration": 22,
    "start_time": "2025-05-12T18:17:09.632Z"
   },
   {
    "duration": 10429,
    "start_time": "2025-05-13T18:42:06.704Z"
   },
   {
    "duration": 2571,
    "start_time": "2025-05-13T18:42:17.136Z"
   },
   {
    "duration": 27,
    "start_time": "2025-05-13T18:42:19.710Z"
   },
   {
    "duration": 156,
    "start_time": "2025-05-13T18:42:19.739Z"
   },
   {
    "duration": 265,
    "start_time": "2025-05-13T18:42:19.897Z"
   },
   {
    "duration": 44,
    "start_time": "2025-05-13T18:42:20.166Z"
   },
   {
    "duration": 4,
    "start_time": "2025-05-13T18:42:20.212Z"
   },
   {
    "duration": 58,
    "start_time": "2025-05-13T18:42:20.217Z"
   },
   {
    "duration": 6,
    "start_time": "2025-05-13T18:42:20.276Z"
   },
   {
    "duration": 76,
    "start_time": "2025-05-13T18:42:20.285Z"
   },
   {
    "duration": 39,
    "start_time": "2025-05-13T18:42:20.362Z"
   },
   {
    "duration": 114,
    "start_time": "2025-05-13T18:42:20.403Z"
   },
   {
    "duration": 22,
    "start_time": "2025-05-13T18:42:20.519Z"
   },
   {
    "duration": 376,
    "start_time": "2025-05-13T18:42:20.543Z"
   },
   {
    "duration": 62,
    "start_time": "2025-05-13T18:42:20.921Z"
   },
   {
    "duration": 59,
    "start_time": "2025-05-13T18:42:20.985Z"
   },
   {
    "duration": 101,
    "start_time": "2025-05-13T18:42:21.046Z"
   },
   {
    "duration": 7,
    "start_time": "2025-05-13T18:42:21.160Z"
   },
   {
    "duration": 157,
    "start_time": "2025-05-13T18:42:21.169Z"
   },
   {
    "duration": 7,
    "start_time": "2025-05-13T18:42:21.328Z"
   },
   {
    "duration": 172,
    "start_time": "2025-05-13T18:42:21.337Z"
   },
   {
    "duration": 19,
    "start_time": "2025-05-13T18:42:21.510Z"
   },
   {
    "duration": 233,
    "start_time": "2025-05-13T18:42:21.530Z"
   },
   {
    "duration": 107,
    "start_time": "2025-05-13T18:42:21.765Z"
   },
   {
    "duration": 27,
    "start_time": "2025-05-13T18:42:21.874Z"
   },
   {
    "duration": 103,
    "start_time": "2025-05-13T18:42:21.903Z"
   },
   {
    "duration": 125,
    "start_time": "2025-05-13T18:42:22.008Z"
   },
   {
    "duration": 52,
    "start_time": "2025-05-13T18:42:22.137Z"
   },
   {
    "duration": 413,
    "start_time": "2025-05-13T18:42:22.191Z"
   },
   {
    "duration": 407,
    "start_time": "2025-05-13T18:42:22.606Z"
   },
   {
    "duration": 570,
    "start_time": "2025-05-13T18:42:23.015Z"
   },
   {
    "duration": 25,
    "start_time": "2025-05-13T18:42:23.587Z"
   },
   {
    "duration": 645,
    "start_time": "2025-05-13T18:42:23.614Z"
   },
   {
    "duration": 0,
    "start_time": "2025-05-13T18:42:24.260Z"
   },
   {
    "duration": 0,
    "start_time": "2025-05-13T18:42:24.262Z"
   },
   {
    "duration": 0,
    "start_time": "2025-05-13T18:42:24.263Z"
   },
   {
    "duration": 0,
    "start_time": "2025-05-13T18:42:24.264Z"
   },
   {
    "duration": 0,
    "start_time": "2025-05-13T18:42:24.265Z"
   },
   {
    "duration": 0,
    "start_time": "2025-05-13T18:42:24.266Z"
   },
   {
    "duration": 0,
    "start_time": "2025-05-13T18:42:24.268Z"
   },
   {
    "duration": 0,
    "start_time": "2025-05-13T18:42:24.269Z"
   },
   {
    "duration": 0,
    "start_time": "2025-05-13T18:42:24.270Z"
   },
   {
    "duration": 0,
    "start_time": "2025-05-13T18:42:24.272Z"
   },
   {
    "duration": 9,
    "start_time": "2025-05-13T18:44:59.324Z"
   },
   {
    "duration": 24,
    "start_time": "2025-05-13T18:45:09.980Z"
   },
   {
    "duration": 203,
    "start_time": "2025-05-13T18:45:11.596Z"
   },
   {
    "duration": 48,
    "start_time": "2025-05-13T18:45:12.628Z"
   },
   {
    "duration": 487,
    "start_time": "2025-05-13T18:45:12.947Z"
   },
   {
    "duration": 98,
    "start_time": "2025-05-13T18:45:14.707Z"
   },
   {
    "duration": 185,
    "start_time": "2025-05-13T18:45:15.979Z"
   },
   {
    "duration": 7,
    "start_time": "2025-05-13T18:45:16.747Z"
   },
   {
    "duration": 55,
    "start_time": "2025-05-13T18:45:17.124Z"
   },
   {
    "duration": 29,
    "start_time": "2025-05-13T18:45:17.596Z"
   },
   {
    "duration": 74,
    "start_time": "2025-05-13T18:45:18.076Z"
   },
   {
    "duration": 23,
    "start_time": "2025-05-13T18:45:55.572Z"
   },
   {
    "duration": 23,
    "start_time": "2025-05-13T18:46:10.460Z"
   },
   {
    "duration": 32,
    "start_time": "2025-05-13T18:46:23.484Z"
   },
   {
    "duration": 8,
    "start_time": "2025-05-13T18:48:55.323Z"
   },
   {
    "duration": 8,
    "start_time": "2025-05-13T18:49:03.636Z"
   },
   {
    "duration": 63,
    "start_time": "2025-05-13T18:51:53.294Z"
   },
   {
    "duration": 9096,
    "start_time": "2025-05-15T07:06:56.372Z"
   },
   {
    "duration": 2059,
    "start_time": "2025-05-15T07:07:05.471Z"
   },
   {
    "duration": 22,
    "start_time": "2025-05-15T07:07:07.532Z"
   },
   {
    "duration": 127,
    "start_time": "2025-05-15T07:07:07.563Z"
   },
   {
    "duration": 914207,
    "start_time": "2025-05-15T07:07:07.691Z"
   },
   {
    "duration": 39,
    "start_time": "2025-05-15T07:22:21.899Z"
   },
   {
    "duration": 4,
    "start_time": "2025-05-15T07:22:21.939Z"
   },
   {
    "duration": 37,
    "start_time": "2025-05-15T07:22:21.944Z"
   },
   {
    "duration": 18,
    "start_time": "2025-05-15T07:22:21.982Z"
   },
   {
    "duration": 48,
    "start_time": "2025-05-15T07:22:22.002Z"
   },
   {
    "duration": 31,
    "start_time": "2025-05-15T07:22:22.052Z"
   },
   {
    "duration": 97,
    "start_time": "2025-05-15T07:22:22.084Z"
   },
   {
    "duration": 19,
    "start_time": "2025-05-15T07:22:22.182Z"
   },
   {
    "duration": 262,
    "start_time": "2025-05-15T07:22:22.203Z"
   },
   {
    "duration": 38,
    "start_time": "2025-05-15T07:22:22.467Z"
   },
   {
    "duration": 63,
    "start_time": "2025-05-15T07:22:22.507Z"
   },
   {
    "duration": 91,
    "start_time": "2025-05-15T07:22:22.572Z"
   },
   {
    "duration": 6,
    "start_time": "2025-05-15T07:22:22.665Z"
   },
   {
    "duration": 65,
    "start_time": "2025-05-15T07:22:22.673Z"
   },
   {
    "duration": 5,
    "start_time": "2025-05-15T07:22:22.740Z"
   },
   {
    "duration": 145,
    "start_time": "2025-05-15T07:22:22.747Z"
   },
   {
    "duration": 15,
    "start_time": "2025-05-15T07:22:22.893Z"
   },
   {
    "duration": 187,
    "start_time": "2025-05-15T07:22:22.910Z"
   },
   {
    "duration": 94,
    "start_time": "2025-05-15T07:22:23.098Z"
   },
   {
    "duration": 22,
    "start_time": "2025-05-15T07:22:23.194Z"
   },
   {
    "duration": 78,
    "start_time": "2025-05-15T07:22:23.218Z"
   },
   {
    "duration": 131,
    "start_time": "2025-05-15T07:22:23.298Z"
   },
   {
    "duration": 47,
    "start_time": "2025-05-15T07:22:23.432Z"
   },
   {
    "duration": 367,
    "start_time": "2025-05-15T07:22:23.481Z"
   },
   {
    "duration": 328,
    "start_time": "2025-05-15T07:22:23.849Z"
   },
   {
    "duration": 503,
    "start_time": "2025-05-15T07:22:24.178Z"
   },
   {
    "duration": 22,
    "start_time": "2025-05-15T07:22:24.682Z"
   },
   {
    "duration": 597,
    "start_time": "2025-05-15T07:22:24.706Z"
   },
   {
    "duration": 0,
    "start_time": "2025-05-15T07:22:25.304Z"
   },
   {
    "duration": 0,
    "start_time": "2025-05-15T07:22:25.305Z"
   },
   {
    "duration": 0,
    "start_time": "2025-05-15T07:22:25.306Z"
   },
   {
    "duration": 0,
    "start_time": "2025-05-15T07:22:25.307Z"
   },
   {
    "duration": 0,
    "start_time": "2025-05-15T07:22:25.308Z"
   },
   {
    "duration": 0,
    "start_time": "2025-05-15T07:22:25.309Z"
   },
   {
    "duration": 0,
    "start_time": "2025-05-15T07:22:25.310Z"
   },
   {
    "duration": 0,
    "start_time": "2025-05-15T07:22:25.311Z"
   },
   {
    "duration": 0,
    "start_time": "2025-05-15T07:22:25.312Z"
   },
   {
    "duration": 0,
    "start_time": "2025-05-15T07:22:25.313Z"
   },
   {
    "duration": 0,
    "start_time": "2025-05-15T07:22:25.314Z"
   },
   {
    "duration": 0,
    "start_time": "2025-05-15T07:22:25.315Z"
   },
   {
    "duration": 0,
    "start_time": "2025-05-15T07:22:25.316Z"
   },
   {
    "duration": 30,
    "start_time": "2025-05-15T07:42:31.184Z"
   },
   {
    "duration": 66,
    "start_time": "2025-05-15T07:42:49.232Z"
   },
   {
    "duration": 2507,
    "start_time": "2025-05-15T07:43:12.752Z"
   },
   {
    "duration": 2317,
    "start_time": "2025-05-15T07:43:15.262Z"
   },
   {
    "duration": 20,
    "start_time": "2025-05-15T07:43:17.581Z"
   },
   {
    "duration": 127,
    "start_time": "2025-05-15T07:43:17.603Z"
   },
   {
    "duration": 3478,
    "start_time": "2025-05-15T07:46:13.509Z"
   },
   {
    "duration": 2058,
    "start_time": "2025-05-15T07:46:16.990Z"
   },
   {
    "duration": 27,
    "start_time": "2025-05-15T07:46:19.053Z"
   },
   {
    "duration": 124,
    "start_time": "2025-05-15T07:46:19.081Z"
   },
   {
    "duration": 41,
    "start_time": "2025-05-15T07:46:42.938Z"
   },
   {
    "duration": 42,
    "start_time": "2025-05-15T07:46:59.577Z"
   },
   {
    "duration": 3388,
    "start_time": "2025-05-15T07:53:24.476Z"
   },
   {
    "duration": 2178,
    "start_time": "2025-05-15T07:53:27.867Z"
   },
   {
    "duration": 33,
    "start_time": "2025-05-15T07:53:30.047Z"
   },
   {
    "duration": 112,
    "start_time": "2025-05-15T07:53:33.499Z"
   },
   {
    "duration": 2,
    "start_time": "2025-05-15T07:53:34.555Z"
   },
   {
    "duration": 103,
    "start_time": "2025-05-15T07:53:36.059Z"
   },
   {
    "duration": 151,
    "start_time": "2025-05-15T07:53:44.460Z"
   },
   {
    "duration": 135,
    "start_time": "2025-05-15T07:54:21.020Z"
   },
   {
    "duration": 90,
    "start_time": "2025-05-15T07:54:23.500Z"
   },
   {
    "duration": 49,
    "start_time": "2025-05-15T07:54:24.035Z"
   },
   {
    "duration": 3,
    "start_time": "2025-05-15T07:54:24.172Z"
   },
   {
    "duration": 25,
    "start_time": "2025-05-15T07:54:24.643Z"
   },
   {
    "duration": 6,
    "start_time": "2025-05-15T07:54:27.482Z"
   },
   {
    "duration": 44,
    "start_time": "2025-05-15T07:54:27.811Z"
   },
   {
    "duration": 29,
    "start_time": "2025-05-15T07:54:28.275Z"
   },
   {
    "duration": 73,
    "start_time": "2025-05-15T07:54:28.579Z"
   },
   {
    "duration": 20,
    "start_time": "2025-05-15T07:54:29.699Z"
   },
   {
    "duration": 262,
    "start_time": "2025-05-15T07:54:30.371Z"
   },
   {
    "duration": 39,
    "start_time": "2025-05-15T07:54:30.859Z"
   },
   {
    "duration": 47,
    "start_time": "2025-05-15T07:54:31.196Z"
   },
   {
    "duration": 90,
    "start_time": "2025-05-15T07:54:31.531Z"
   },
   {
    "duration": 6,
    "start_time": "2025-05-15T07:54:32.211Z"
   },
   {
    "duration": 63,
    "start_time": "2025-05-15T07:54:32.715Z"
   },
   {
    "duration": 6,
    "start_time": "2025-05-15T07:54:33.058Z"
   },
   {
    "duration": 138,
    "start_time": "2025-05-15T07:54:33.579Z"
   },
   {
    "duration": 15,
    "start_time": "2025-05-15T07:54:33.923Z"
   },
   {
    "duration": 175,
    "start_time": "2025-05-15T07:54:34.275Z"
   },
   {
    "duration": 87,
    "start_time": "2025-05-15T07:54:34.612Z"
   },
   {
    "duration": 24,
    "start_time": "2025-05-15T07:54:35.651Z"
   },
   {
    "duration": 67,
    "start_time": "2025-05-15T07:54:36.155Z"
   },
   {
    "duration": 109,
    "start_time": "2025-05-15T07:54:36.499Z"
   },
   {
    "duration": 41,
    "start_time": "2025-05-15T07:54:37.011Z"
   },
   {
    "duration": 316,
    "start_time": "2025-05-15T07:54:38.027Z"
   },
   {
    "duration": 333,
    "start_time": "2025-05-15T07:54:39.035Z"
   },
   {
    "duration": 491,
    "start_time": "2025-05-15T07:54:39.371Z"
   },
   {
    "duration": 24,
    "start_time": "2025-05-15T07:54:40.035Z"
   },
   {
    "duration": 485,
    "start_time": "2025-05-15T07:54:40.380Z"
   },
   {
    "duration": 0,
    "start_time": "2025-05-15T07:54:40.867Z"
   },
   {
    "duration": 169,
    "start_time": "2025-05-15T07:54:41.619Z"
   },
   {
    "duration": 44,
    "start_time": "2025-05-15T07:54:42.850Z"
   },
   {
    "duration": 401,
    "start_time": "2025-05-15T07:54:43.187Z"
   },
   {
    "duration": 83,
    "start_time": "2025-05-15T07:54:44.571Z"
   },
   {
    "duration": 131,
    "start_time": "2025-05-15T07:54:45.275Z"
   },
   {
    "duration": 245,
    "start_time": "2025-05-15T07:54:45.619Z"
   },
   {
    "duration": 37,
    "start_time": "2025-05-15T07:54:46.499Z"
   },
   {
    "duration": 36,
    "start_time": "2025-05-15T07:54:46.843Z"
   },
   {
    "duration": 11,
    "start_time": "2025-05-15T07:54:47.195Z"
   },
   {
    "duration": 50,
    "start_time": "2025-05-15T07:54:47.539Z"
   },
   {
    "duration": 21,
    "start_time": "2025-05-15T07:54:48.251Z"
   },
   {
    "duration": 165,
    "start_time": "2025-05-15T07:54:48.939Z"
   },
   {
    "duration": 20,
    "start_time": "2025-05-15T07:55:37.316Z"
   }
  ],
  "colab": {
   "provenance": []
  },
  "kernelspec": {
   "display_name": "Python 3 (ipykernel)",
   "language": "python",
   "name": "python3"
  },
  "language_info": {
   "codemirror_mode": {
    "name": "ipython",
    "version": 3
   },
   "file_extension": ".py",
   "mimetype": "text/x-python",
   "name": "python",
   "nbconvert_exporter": "python",
   "pygments_lexer": "ipython3",
   "version": "3.13.2"
  },
  "toc": {
   "base_numbering": 1,
   "nav_menu": {},
   "number_sections": true,
   "sideBar": true,
   "skip_h1_title": true,
   "title_cell": "Table of Contents",
   "title_sidebar": "Contents",
   "toc_cell": false,
   "toc_position": {},
   "toc_section_display": true,
   "toc_window_display": false
  }
 },
 "nbformat": 4,
 "nbformat_minor": 4
}
